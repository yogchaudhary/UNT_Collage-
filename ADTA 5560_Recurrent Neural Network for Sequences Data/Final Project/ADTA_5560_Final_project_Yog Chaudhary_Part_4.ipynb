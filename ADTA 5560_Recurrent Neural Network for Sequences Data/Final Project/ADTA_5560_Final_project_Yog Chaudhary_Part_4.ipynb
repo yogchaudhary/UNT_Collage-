{
 "cells": [
  {
   "cell_type": "markdown",
   "id": "d416e366",
   "metadata": {},
   "source": [
    "# ADTA 5560: Recurrent Neural Networks for Sequence Data\n",
    "Thuan L Nguyen, PhD\n",
    "\n",
    "# Final Project by Yog Chaudhary "
   ]
  },
  {
   "cell_type": "code",
   "execution_count": 1,
   "id": "0e8140af",
   "metadata": {},
   "outputs": [],
   "source": [
    "#Import Basic Libraries\n",
    "\n",
    "import pandas as pd\n",
    "import numpy as np\n",
    "%matplotlib inline\n",
    "import matplotlib.pyplot as plt"
   ]
  },
  {
   "cell_type": "code",
   "execution_count": 2,
   "id": "9e3cfee6",
   "metadata": {},
   "outputs": [
    {
     "name": "stderr",
     "output_type": "stream",
     "text": [
      "2024-12-07 21:25:28.640285: W tensorflow/stream_executor/platform/default/dso_loader.cc:64] Could not load dynamic library 'libcudart.so.11.0'; dlerror: libcudart.so.11.0: cannot open shared object file: No such file or directory\n",
      "2024-12-07 21:25:28.640359: I tensorflow/stream_executor/cuda/cudart_stub.cc:29] Ignore above cudart dlerror if you do not have a GPU set up on your machine.\n"
     ]
    }
   ],
   "source": [
    "#For timeseries RNN LSTM neural network\n",
    "from tensorflow.keras.models import Sequential\n",
    "from tensorflow.keras.layers import LSTM\n",
    "from tensorflow.keras.layers import Dropout\n",
    "from tensorflow.keras.layers import Dense\n",
    "import tensorflow as tf"
   ]
  },
  {
   "cell_type": "code",
   "execution_count": 3,
   "id": "18792a99",
   "metadata": {},
   "outputs": [],
   "source": [
    "#Import Keras:TimeseriesGenerator\n",
    "#This produces timeseries batches used on training/testing the model\n",
    "from tensorflow.keras.preprocessing.sequence import TimeseriesGenerator\n",
    "\n",
    "#Import Keras:MinMaxScaler\n",
    "#This is used to scale the data\n",
    "from sklearn.preprocessing import MinMaxScaler"
   ]
  },
  {
   "cell_type": "markdown",
   "id": "ae80e965",
   "metadata": {},
   "source": [
    "### Load Dataset PB"
   ]
  },
  {
   "cell_type": "code",
   "execution_count": 4,
   "id": "aa522938",
   "metadata": {},
   "outputs": [],
   "source": [
    "# Loading Dataset FB\n",
    "\n",
    "df_ALL=pd.read_csv(\"FB.csv\")"
   ]
  },
  {
   "cell_type": "code",
   "execution_count": 5,
   "id": "1b4faccf",
   "metadata": {},
   "outputs": [
    {
     "data": {
      "text/html": [
       "<div>\n",
       "<style scoped>\n",
       "    .dataframe tbody tr th:only-of-type {\n",
       "        vertical-align: middle;\n",
       "    }\n",
       "\n",
       "    .dataframe tbody tr th {\n",
       "        vertical-align: top;\n",
       "    }\n",
       "\n",
       "    .dataframe thead th {\n",
       "        text-align: right;\n",
       "    }\n",
       "</style>\n",
       "<table border=\"1\" class=\"dataframe\">\n",
       "  <thead>\n",
       "    <tr style=\"text-align: right;\">\n",
       "      <th></th>\n",
       "      <th>Date</th>\n",
       "      <th>Open</th>\n",
       "      <th>High</th>\n",
       "      <th>Low</th>\n",
       "      <th>Close</th>\n",
       "      <th>Adj Close</th>\n",
       "      <th>Volume</th>\n",
       "    </tr>\n",
       "  </thead>\n",
       "  <tbody>\n",
       "    <tr>\n",
       "      <th>0</th>\n",
       "      <td>2012-05-18</td>\n",
       "      <td>42.049999</td>\n",
       "      <td>45.000000</td>\n",
       "      <td>38.000000</td>\n",
       "      <td>38.230000</td>\n",
       "      <td>38.230000</td>\n",
       "      <td>573576400</td>\n",
       "    </tr>\n",
       "    <tr>\n",
       "      <th>1</th>\n",
       "      <td>2012-05-21</td>\n",
       "      <td>36.529999</td>\n",
       "      <td>36.660000</td>\n",
       "      <td>33.000000</td>\n",
       "      <td>34.029999</td>\n",
       "      <td>34.029999</td>\n",
       "      <td>168192700</td>\n",
       "    </tr>\n",
       "    <tr>\n",
       "      <th>2</th>\n",
       "      <td>2012-05-22</td>\n",
       "      <td>32.610001</td>\n",
       "      <td>33.590000</td>\n",
       "      <td>30.940001</td>\n",
       "      <td>31.000000</td>\n",
       "      <td>31.000000</td>\n",
       "      <td>101786600</td>\n",
       "    </tr>\n",
       "    <tr>\n",
       "      <th>3</th>\n",
       "      <td>2012-05-23</td>\n",
       "      <td>31.370001</td>\n",
       "      <td>32.500000</td>\n",
       "      <td>31.360001</td>\n",
       "      <td>32.000000</td>\n",
       "      <td>32.000000</td>\n",
       "      <td>73600000</td>\n",
       "    </tr>\n",
       "    <tr>\n",
       "      <th>4</th>\n",
       "      <td>2012-05-24</td>\n",
       "      <td>32.950001</td>\n",
       "      <td>33.209999</td>\n",
       "      <td>31.770000</td>\n",
       "      <td>33.029999</td>\n",
       "      <td>33.029999</td>\n",
       "      <td>50237200</td>\n",
       "    </tr>\n",
       "  </tbody>\n",
       "</table>\n",
       "</div>"
      ],
      "text/plain": [
       "         Date       Open       High        Low      Close  Adj Close  \\\n",
       "0  2012-05-18  42.049999  45.000000  38.000000  38.230000  38.230000   \n",
       "1  2012-05-21  36.529999  36.660000  33.000000  34.029999  34.029999   \n",
       "2  2012-05-22  32.610001  33.590000  30.940001  31.000000  31.000000   \n",
       "3  2012-05-23  31.370001  32.500000  31.360001  32.000000  32.000000   \n",
       "4  2012-05-24  32.950001  33.209999  31.770000  33.029999  33.029999   \n",
       "\n",
       "      Volume  \n",
       "0  573576400  \n",
       "1  168192700  \n",
       "2  101786600  \n",
       "3   73600000  \n",
       "4   50237200  "
      ]
     },
     "execution_count": 5,
     "metadata": {},
     "output_type": "execute_result"
    }
   ],
   "source": [
    "# Shows first five rows of the dataset\n",
    "\n",
    "df_ALL.head()"
   ]
  },
  {
   "cell_type": "markdown",
   "id": "1c4fc1e7",
   "metadata": {},
   "source": [
    "### Brief Exploratory Data Analysis (EDA)"
   ]
  },
  {
   "cell_type": "code",
   "execution_count": 6,
   "id": "4c6f31e4",
   "metadata": {},
   "outputs": [
    {
     "data": {
      "text/plain": [
       "(1980, 7)"
      ]
     },
     "execution_count": 6,
     "metadata": {},
     "output_type": "execute_result"
    }
   ],
   "source": [
    "# This gives total rows and columns in dataset\n",
    "\n",
    "df_ALL.shape"
   ]
  },
  {
   "cell_type": "code",
   "execution_count": 7,
   "id": "a5ffe67a",
   "metadata": {},
   "outputs": [],
   "source": [
    "# Out of 7 columns consider only one column\n",
    "\n",
    "df = df_ALL[[ 'Close']]"
   ]
  },
  {
   "cell_type": "code",
   "execution_count": 8,
   "id": "6cb2d0ef",
   "metadata": {},
   "outputs": [
    {
     "data": {
      "text/plain": [
       "(1980, 1)"
      ]
     },
     "execution_count": 8,
     "metadata": {},
     "output_type": "execute_result"
    }
   ],
   "source": [
    "df.shape"
   ]
  },
  {
   "cell_type": "code",
   "execution_count": 9,
   "id": "c6f7123d",
   "metadata": {},
   "outputs": [
    {
     "data": {
      "text/plain": [
       "Close    float64\n",
       "dtype: object"
      ]
     },
     "execution_count": 9,
     "metadata": {},
     "output_type": "execute_result"
    }
   ],
   "source": [
    "# Datatypes of all the columns\n",
    "\n",
    "df.dtypes"
   ]
  },
  {
   "cell_type": "code",
   "execution_count": 10,
   "id": "a3a3e33c",
   "metadata": {},
   "outputs": [
    {
     "data": {
      "text/html": [
       "<div>\n",
       "<style scoped>\n",
       "    .dataframe tbody tr th:only-of-type {\n",
       "        vertical-align: middle;\n",
       "    }\n",
       "\n",
       "    .dataframe tbody tr th {\n",
       "        vertical-align: top;\n",
       "    }\n",
       "\n",
       "    .dataframe thead th {\n",
       "        text-align: right;\n",
       "    }\n",
       "</style>\n",
       "<table border=\"1\" class=\"dataframe\">\n",
       "  <thead>\n",
       "    <tr style=\"text-align: right;\">\n",
       "      <th></th>\n",
       "      <th>Close</th>\n",
       "    </tr>\n",
       "  </thead>\n",
       "  <tbody>\n",
       "    <tr>\n",
       "      <th>count</th>\n",
       "      <td>1980.000000</td>\n",
       "    </tr>\n",
       "    <tr>\n",
       "      <th>mean</th>\n",
       "      <td>112.312207</td>\n",
       "    </tr>\n",
       "    <tr>\n",
       "      <th>std</th>\n",
       "      <td>58.133793</td>\n",
       "    </tr>\n",
       "    <tr>\n",
       "      <th>min</th>\n",
       "      <td>17.730000</td>\n",
       "    </tr>\n",
       "    <tr>\n",
       "      <th>25%</th>\n",
       "      <td>64.762499</td>\n",
       "    </tr>\n",
       "    <tr>\n",
       "      <th>50%</th>\n",
       "      <td>113.810001</td>\n",
       "    </tr>\n",
       "    <tr>\n",
       "      <th>75%</th>\n",
       "      <td>168.085003</td>\n",
       "    </tr>\n",
       "    <tr>\n",
       "      <th>max</th>\n",
       "      <td>223.229996</td>\n",
       "    </tr>\n",
       "  </tbody>\n",
       "</table>\n",
       "</div>"
      ],
      "text/plain": [
       "             Close\n",
       "count  1980.000000\n",
       "mean    112.312207\n",
       "std      58.133793\n",
       "min      17.730000\n",
       "25%      64.762499\n",
       "50%     113.810001\n",
       "75%     168.085003\n",
       "max     223.229996"
      ]
     },
     "execution_count": 10,
     "metadata": {},
     "output_type": "execute_result"
    }
   ],
   "source": [
    "# Statistics Summary\n",
    "\n",
    "df.describe()"
   ]
  },
  {
   "cell_type": "code",
   "execution_count": 11,
   "id": "f2499de9",
   "metadata": {},
   "outputs": [
    {
     "data": {
      "text/html": [
       "<div>\n",
       "<style scoped>\n",
       "    .dataframe tbody tr th:only-of-type {\n",
       "        vertical-align: middle;\n",
       "    }\n",
       "\n",
       "    .dataframe tbody tr th {\n",
       "        vertical-align: top;\n",
       "    }\n",
       "\n",
       "    .dataframe thead th {\n",
       "        text-align: right;\n",
       "    }\n",
       "</style>\n",
       "<table border=\"1\" class=\"dataframe\">\n",
       "  <thead>\n",
       "    <tr style=\"text-align: right;\">\n",
       "      <th></th>\n",
       "      <th>Close</th>\n",
       "    </tr>\n",
       "  </thead>\n",
       "  <tbody>\n",
       "    <tr>\n",
       "      <th>0</th>\n",
       "      <td>38.230000</td>\n",
       "    </tr>\n",
       "    <tr>\n",
       "      <th>1</th>\n",
       "      <td>34.029999</td>\n",
       "    </tr>\n",
       "    <tr>\n",
       "      <th>2</th>\n",
       "      <td>31.000000</td>\n",
       "    </tr>\n",
       "    <tr>\n",
       "      <th>3</th>\n",
       "      <td>32.000000</td>\n",
       "    </tr>\n",
       "    <tr>\n",
       "      <th>4</th>\n",
       "      <td>33.029999</td>\n",
       "    </tr>\n",
       "  </tbody>\n",
       "</table>\n",
       "</div>"
      ],
      "text/plain": [
       "       Close\n",
       "0  38.230000\n",
       "1  34.029999\n",
       "2  31.000000\n",
       "3  32.000000\n",
       "4  33.029999"
      ]
     },
     "execution_count": 11,
     "metadata": {},
     "output_type": "execute_result"
    }
   ],
   "source": [
    "df.head()"
   ]
  },
  {
   "cell_type": "code",
   "execution_count": 12,
   "id": "f9b68753",
   "metadata": {},
   "outputs": [
    {
     "data": {
      "text/plain": [
       "<AxesSubplot:>"
      ]
     },
     "execution_count": 12,
     "metadata": {},
     "output_type": "execute_result"
    },
    {
     "data": {
      "image/png": "[encoded data removed]",
      "text/plain": [
       "<Figure size 1000x600 with 1 Axes>"
      ]
     },
     "metadata": {},
     "output_type": "display_data"
    }
   ],
   "source": [
    "# Visualization\n",
    "\n",
    "df.plot(figsize=(10,6))"
   ]
  },
  {
   "cell_type": "markdown",
   "id": "15e6aac7",
   "metadata": {},
   "source": [
    "### Length of Input Time Series-Number of Input Time Steps"
   ]
  },
  {
   "cell_type": "code",
   "execution_count": 13,
   "id": "7ab72159",
   "metadata": {},
   "outputs": [],
   "source": [
    "# set the length of the input sequence\n",
    "# Use 60 historical data points to predict the next one\n",
    "\n",
    "length60=60"
   ]
  },
  {
   "cell_type": "code",
   "execution_count": 14,
   "id": "3f937487",
   "metadata": {},
   "outputs": [
    {
     "data": {
      "text/plain": [
       "60"
      ]
     },
     "execution_count": 14,
     "metadata": {},
     "output_type": "execute_result"
    }
   ],
   "source": [
    "# Print\n",
    "\n",
    "length60"
   ]
  },
  {
   "cell_type": "markdown",
   "id": "937d47aa",
   "metadata": {},
   "source": [
    "### Time Series Dataset: Train/Test Split"
   ]
  },
  {
   "cell_type": "code",
   "execution_count": 15,
   "id": "e578de05",
   "metadata": {},
   "outputs": [
    {
     "data": {
      "text/plain": [
       "1980"
      ]
     },
     "execution_count": 15,
     "metadata": {},
     "output_type": "execute_result"
    }
   ],
   "source": [
    "# Length of the dataset\n",
    "\n",
    "len(df)"
   ]
  },
  {
   "cell_type": "code",
   "execution_count": 16,
   "id": "ecbfc513",
   "metadata": {},
   "outputs": [],
   "source": [
    "# Set percentage of dataset used for testing\n",
    "\n",
    "test_percent=0.1"
   ]
  },
  {
   "cell_type": "code",
   "execution_count": 17,
   "id": "dd126e50",
   "metadata": {},
   "outputs": [
    {
     "data": {
      "text/plain": [
       "198.0"
      ]
     },
     "execution_count": 17,
     "metadata": {},
     "output_type": "execute_result"
    }
   ],
   "source": [
    "# Number of datapoints taken for testing the model\n",
    "\n",
    "len(df)*test_percent"
   ]
  },
  {
   "cell_type": "markdown",
   "id": "53ce3eb7",
   "metadata": {},
   "source": [
    "### Split Data --Train/Test"
   ]
  },
  {
   "cell_type": "code",
   "execution_count": 18,
   "id": "1d64912e",
   "metadata": {},
   "outputs": [
    {
     "data": {
      "text/plain": [
       "198.0"
      ]
     },
     "execution_count": 18,
     "metadata": {},
     "output_type": "execute_result"
    }
   ],
   "source": [
    "# need to find the length of the testing dataset\n",
    "\n",
    "test_length=np.round(len(df)*test_percent)\n",
    "test_length"
   ]
  },
  {
   "cell_type": "code",
   "execution_count": 19,
   "id": "70ee5c5f",
   "metadata": {},
   "outputs": [
    {
     "data": {
      "text/plain": [
       "1782"
      ]
     },
     "execution_count": 19,
     "metadata": {},
     "output_type": "execute_result"
    }
   ],
   "source": [
    "# Testing dataset starts at this index\n",
    "\n",
    "split_index=int(len(df)-test_length)\n",
    "split_index"
   ]
  },
  {
   "cell_type": "code",
   "execution_count": 20,
   "id": "da16235a",
   "metadata": {},
   "outputs": [],
   "source": [
    "# Create seperate training/testing datasets\n",
    "\n",
    "# Trainng dataset= all indices from start to split_index\n",
    "\n",
    "data_train=df.iloc[: split_index]\n",
    "\n",
    "# Trainng dataset= all indices from  split_index-length60 to end of the dataframe\n",
    "\n",
    "data_test=df.iloc[split_index-length60 :]\n"
   ]
  },
  {
   "cell_type": "code",
   "execution_count": 21,
   "id": "904cf3b1",
   "metadata": {},
   "outputs": [
    {
     "data": {
      "text/html": [
       "<div>\n",
       "<style scoped>\n",
       "    .dataframe tbody tr th:only-of-type {\n",
       "        vertical-align: middle;\n",
       "    }\n",
       "\n",
       "    .dataframe tbody tr th {\n",
       "        vertical-align: top;\n",
       "    }\n",
       "\n",
       "    .dataframe thead th {\n",
       "        text-align: right;\n",
       "    }\n",
       "</style>\n",
       "<table border=\"1\" class=\"dataframe\">\n",
       "  <thead>\n",
       "    <tr style=\"text-align: right;\">\n",
       "      <th></th>\n",
       "      <th>Close</th>\n",
       "    </tr>\n",
       "  </thead>\n",
       "  <tbody>\n",
       "    <tr>\n",
       "      <th>0</th>\n",
       "      <td>38.230000</td>\n",
       "    </tr>\n",
       "    <tr>\n",
       "      <th>1</th>\n",
       "      <td>34.029999</td>\n",
       "    </tr>\n",
       "    <tr>\n",
       "      <th>2</th>\n",
       "      <td>31.000000</td>\n",
       "    </tr>\n",
       "    <tr>\n",
       "      <th>3</th>\n",
       "      <td>32.000000</td>\n",
       "    </tr>\n",
       "    <tr>\n",
       "      <th>4</th>\n",
       "      <td>33.029999</td>\n",
       "    </tr>\n",
       "  </tbody>\n",
       "</table>\n",
       "</div>"
      ],
      "text/plain": [
       "       Close\n",
       "0  38.230000\n",
       "1  34.029999\n",
       "2  31.000000\n",
       "3  32.000000\n",
       "4  33.029999"
      ]
     },
     "execution_count": 21,
     "metadata": {},
     "output_type": "execute_result"
    }
   ],
   "source": [
    "# Give first five rows of training data\n",
    "\n",
    "data_train.head(5)"
   ]
  },
  {
   "cell_type": "code",
   "execution_count": 22,
   "id": "1e6f36b4",
   "metadata": {},
   "outputs": [
    {
     "data": {
      "text/html": [
       "<div>\n",
       "<style scoped>\n",
       "    .dataframe tbody tr th:only-of-type {\n",
       "        vertical-align: middle;\n",
       "    }\n",
       "\n",
       "    .dataframe tbody tr th {\n",
       "        vertical-align: top;\n",
       "    }\n",
       "\n",
       "    .dataframe thead th {\n",
       "        text-align: right;\n",
       "    }\n",
       "</style>\n",
       "<table border=\"1\" class=\"dataframe\">\n",
       "  <thead>\n",
       "    <tr style=\"text-align: right;\">\n",
       "      <th></th>\n",
       "      <th>Close</th>\n",
       "    </tr>\n",
       "  </thead>\n",
       "  <tbody>\n",
       "    <tr>\n",
       "      <th>1777</th>\n",
       "      <td>177.470001</td>\n",
       "    </tr>\n",
       "    <tr>\n",
       "      <th>1778</th>\n",
       "      <td>181.330002</td>\n",
       "    </tr>\n",
       "    <tr>\n",
       "      <th>1779</th>\n",
       "      <td>189.009995</td>\n",
       "    </tr>\n",
       "    <tr>\n",
       "      <th>1780</th>\n",
       "      <td>188.470001</td>\n",
       "    </tr>\n",
       "    <tr>\n",
       "      <th>1781</th>\n",
       "      <td>187.479996</td>\n",
       "    </tr>\n",
       "  </tbody>\n",
       "</table>\n",
       "</div>"
      ],
      "text/plain": [
       "           Close\n",
       "1777  177.470001\n",
       "1778  181.330002\n",
       "1779  189.009995\n",
       "1780  188.470001\n",
       "1781  187.479996"
      ]
     },
     "execution_count": 22,
     "metadata": {},
     "output_type": "execute_result"
    }
   ],
   "source": [
    "# Give last five rows of training data\n",
    "\n",
    "data_train.tail(5)"
   ]
  },
  {
   "cell_type": "code",
   "execution_count": 23,
   "id": "3cd505cc",
   "metadata": {},
   "outputs": [
    {
     "data": {
      "text/html": [
       "<div>\n",
       "<style scoped>\n",
       "    .dataframe tbody tr th:only-of-type {\n",
       "        vertical-align: middle;\n",
       "    }\n",
       "\n",
       "    .dataframe tbody tr th {\n",
       "        vertical-align: top;\n",
       "    }\n",
       "\n",
       "    .dataframe thead th {\n",
       "        text-align: right;\n",
       "    }\n",
       "</style>\n",
       "<table border=\"1\" class=\"dataframe\">\n",
       "  <thead>\n",
       "    <tr style=\"text-align: right;\">\n",
       "      <th></th>\n",
       "      <th>Close</th>\n",
       "    </tr>\n",
       "  </thead>\n",
       "  <tbody>\n",
       "    <tr>\n",
       "      <th>1722</th>\n",
       "      <td>167.679993</td>\n",
       "    </tr>\n",
       "    <tr>\n",
       "      <th>1723</th>\n",
       "      <td>165.869995</td>\n",
       "    </tr>\n",
       "    <tr>\n",
       "      <th>1724</th>\n",
       "      <td>165.550003</td>\n",
       "    </tr>\n",
       "    <tr>\n",
       "      <th>1725</th>\n",
       "      <td>166.690002</td>\n",
       "    </tr>\n",
       "    <tr>\n",
       "      <th>1726</th>\n",
       "      <td>168.699997</td>\n",
       "    </tr>\n",
       "  </tbody>\n",
       "</table>\n",
       "</div>"
      ],
      "text/plain": [
       "           Close\n",
       "1722  167.679993\n",
       "1723  165.869995\n",
       "1724  165.550003\n",
       "1725  166.690002\n",
       "1726  168.699997"
      ]
     },
     "execution_count": 23,
     "metadata": {},
     "output_type": "execute_result"
    }
   ],
   "source": [
    "# Give first five rows of testing data\n",
    "\n",
    "data_test.head(5)"
   ]
  },
  {
   "cell_type": "code",
   "execution_count": 24,
   "id": "175a3191",
   "metadata": {},
   "outputs": [
    {
     "data": {
      "text/html": [
       "<div>\n",
       "<style scoped>\n",
       "    .dataframe tbody tr th:only-of-type {\n",
       "        vertical-align: middle;\n",
       "    }\n",
       "\n",
       "    .dataframe tbody tr th {\n",
       "        vertical-align: top;\n",
       "    }\n",
       "\n",
       "    .dataframe thead th {\n",
       "        text-align: right;\n",
       "    }\n",
       "</style>\n",
       "<table border=\"1\" class=\"dataframe\">\n",
       "  <thead>\n",
       "    <tr style=\"text-align: right;\">\n",
       "      <th></th>\n",
       "      <th>Close</th>\n",
       "    </tr>\n",
       "  </thead>\n",
       "  <tbody>\n",
       "    <tr>\n",
       "      <th>1975</th>\n",
       "      <td>163.339996</td>\n",
       "    </tr>\n",
       "    <tr>\n",
       "      <th>1976</th>\n",
       "      <td>156.789993</td>\n",
       "    </tr>\n",
       "    <tr>\n",
       "      <th>1977</th>\n",
       "      <td>165.949997</td>\n",
       "    </tr>\n",
       "    <tr>\n",
       "      <th>1978</th>\n",
       "      <td>166.800003</td>\n",
       "    </tr>\n",
       "    <tr>\n",
       "      <th>1979</th>\n",
       "      <td>159.600006</td>\n",
       "    </tr>\n",
       "  </tbody>\n",
       "</table>\n",
       "</div>"
      ],
      "text/plain": [
       "           Close\n",
       "1975  163.339996\n",
       "1976  156.789993\n",
       "1977  165.949997\n",
       "1978  166.800003\n",
       "1979  159.600006"
      ]
     },
     "execution_count": 24,
     "metadata": {},
     "output_type": "execute_result"
    }
   ],
   "source": [
    "# Give last five rows of testing data\n",
    "\n",
    "data_test.tail(5)"
   ]
  },
  {
   "cell_type": "markdown",
   "id": "fbf83819",
   "metadata": {},
   "source": [
    "### Normalize Data (Scale it into the range [0,1])"
   ]
  },
  {
   "cell_type": "code",
   "execution_count": 25,
   "id": "3e3ef1de",
   "metadata": {},
   "outputs": [],
   "source": [
    "# Create a MinMaxScaler to normalize the data\n",
    "\n",
    "scaler=MinMaxScaler()"
   ]
  },
  {
   "cell_type": "code",
   "execution_count": 26,
   "id": "b8ae123a",
   "metadata": {},
   "outputs": [
    {
     "data": {
      "text/plain": [
       "MinMaxScaler()"
      ]
     },
     "execution_count": 26,
     "metadata": {},
     "output_type": "execute_result"
    }
   ],
   "source": [
    "# Only scale the training data \n",
    "\n",
    "# Train the scaler to perform normalization\n",
    "\n",
    "scaler.fit(data_train)"
   ]
  },
  {
   "cell_type": "code",
   "execution_count": 27,
   "id": "435e1557",
   "metadata": {},
   "outputs": [],
   "source": [
    "# Normalize the training dataset\n",
    "\n",
    "normalized_train=scaler.transform(data_train)\n",
    "\n",
    "# Normalize the testing dataset\n",
    "\n",
    "normalized_test=scaler.transform(data_test)"
   ]
  },
  {
   "cell_type": "markdown",
   "id": "d99f7b88",
   "metadata": {},
   "source": [
    "### Create TimeseriesGenerator for training"
   ]
  },
  {
   "cell_type": "code",
   "execution_count": 28,
   "id": "2af0a194",
   "metadata": {},
   "outputs": [],
   "source": [
    "# batch_size:Number of time series samples in each batch\n",
    "\n",
    "batch_size32=32"
   ]
  },
  {
   "cell_type": "code",
   "execution_count": 29,
   "id": "37029495",
   "metadata": {},
   "outputs": [],
   "source": [
    "# Create TimeseriesGenerator for training:train_tsGenerator\n",
    "\n",
    "train_tsGenerator60=TimeseriesGenerator(normalized_train,normalized_train,length=length60,batch_size=batch_size32)"
   ]
  },
  {
   "cell_type": "code",
   "execution_count": 30,
   "id": "a70ad63c",
   "metadata": {},
   "outputs": [
    {
     "data": {
      "text/plain": [
       "1782"
      ]
     },
     "execution_count": 30,
     "metadata": {},
     "output_type": "execute_result"
    }
   ],
   "source": [
    "len(normalized_train)"
   ]
  },
  {
   "cell_type": "code",
   "execution_count": 31,
   "id": "5ab6b2c0",
   "metadata": {},
   "outputs": [
    {
     "data": {
      "text/plain": [
       "54"
      ]
     },
     "execution_count": 31,
     "metadata": {},
     "output_type": "execute_result"
    }
   ],
   "source": [
    "len(train_tsGenerator60)"
   ]
  },
  {
   "cell_type": "code",
   "execution_count": 32,
   "id": "c2fb1af7",
   "metadata": {},
   "outputs": [],
   "source": [
    "# What does the first batch look like\n",
    "\n",
    "x,y=train_tsGenerator60[0]"
   ]
  },
  {
   "cell_type": "code",
   "execution_count": 33,
   "id": "1ad4faa7",
   "metadata": {},
   "outputs": [
    {
     "name": "stdout",
     "output_type": "stream",
     "text": [
      "[[[0.10261801]\n",
      "  [0.08159383]\n",
      "  [0.06642639]\n",
      "  ...\n",
      "  [0.01641889]\n",
      "  [0.02042349]\n",
      "  [0.01937228]]\n",
      "\n",
      " [[0.08159383]\n",
      "  [0.06642639]\n",
      "  [0.07143215]\n",
      "  ...\n",
      "  [0.02042349]\n",
      "  [0.01937228]\n",
      "  [0.01326525]]\n",
      "\n",
      " [[0.06642639]\n",
      "  [0.07143215]\n",
      "  [0.07658807]\n",
      "  ...\n",
      "  [0.01937228]\n",
      "  [0.01326525]\n",
      "  [0.01736998]]\n",
      "\n",
      " ...\n",
      "\n",
      " [[0.06692697]\n",
      "  [0.06527507]\n",
      "  [0.06742755]\n",
      "  ...\n",
      "  [0.02432798]\n",
      "  [0.02567954]\n",
      "  [0.01531762]]\n",
      "\n",
      " [[0.06527507]\n",
      "  [0.06742755]\n",
      "  [0.06877909]\n",
      "  ...\n",
      "  [0.02567954]\n",
      "  [0.01531762]\n",
      "  [0.01276469]]\n",
      "\n",
      " [[0.06742755]\n",
      "  [0.06877909]\n",
      "  [0.07008059]\n",
      "  ...\n",
      "  [0.01531762]\n",
      "  [0.01276469]\n",
      "  [0.01446664]]]\n"
     ]
    }
   ],
   "source": [
    "print(x)"
   ]
  },
  {
   "cell_type": "code",
   "execution_count": 34,
   "id": "7a8c7f5d",
   "metadata": {},
   "outputs": [
    {
     "name": "stdout",
     "output_type": "stream",
     "text": [
      "[[0.01326525]\n",
      " [0.01736998]\n",
      " [0.01071233]\n",
      " [0.0066076 ]\n",
      " [0.01141313]\n",
      " [0.00715823]\n",
      " [0.00855985]\n",
      " [0.00855985]\n",
      " [0.00840967]\n",
      " [0.00710817]\n",
      " [0.00805927]\n",
      " [0.00685789]\n",
      " [0.00680783]\n",
      " [0.0016519 ]\n",
      " [0.        ]\n",
      " [0.0042549 ]\n",
      " [0.00615708]\n",
      " [0.0062572 ]\n",
      " [0.00540622]\n",
      " [0.00850979]\n",
      " [0.01601842]\n",
      " [0.01491715]\n",
      " [0.02137458]\n",
      " [0.01897182]\n",
      " [0.02072384]\n",
      " [0.02783201]\n",
      " [0.02432798]\n",
      " [0.02567954]\n",
      " [0.01531762]\n",
      " [0.01276469]\n",
      " [0.01446664]\n",
      " [0.01296491]]\n"
     ]
    }
   ],
   "source": [
    "print(y)"
   ]
  },
  {
   "cell_type": "markdown",
   "id": "ad10302a",
   "metadata": {},
   "source": [
    "## Build, Train and Test Model"
   ]
  },
  {
   "cell_type": "markdown",
   "id": "d82b9722",
   "metadata": {},
   "source": [
    "### Build LSTM Model"
   ]
  },
  {
   "cell_type": "code",
   "execution_count": 35,
   "id": "eb422cdc",
   "metadata": {},
   "outputs": [],
   "source": [
    "# Only using one feature: close price\n",
    "\n",
    "n_features=1"
   ]
  },
  {
   "cell_type": "code",
   "execution_count": 36,
   "id": "8fe0915f",
   "metadata": {},
   "outputs": [
    {
     "name": "stderr",
     "output_type": "stream",
     "text": [
      "2024-12-07 21:25:31.117806: W tensorflow/stream_executor/platform/default/dso_loader.cc:64] Could not load dynamic library 'libcuda.so.1'; dlerror: libcuda.so.1: cannot open shared object file: No such file or directory\n",
      "2024-12-07 21:25:31.117843: W tensorflow/stream_executor/cuda/cuda_driver.cc:269] failed call to cuInit: UNKNOWN ERROR (303)\n",
      "2024-12-07 21:25:31.117876: I tensorflow/stream_executor/cuda/cuda_diagnostics.cc:156] kernel driver does not appear to be running on this host (tf2-keras-ann-vm): /proc/driver/nvidia/version does not exist\n",
      "2024-12-07 21:25:31.118140: I tensorflow/core/platform/cpu_feature_guard.cc:151] This TensorFlow binary is optimized with oneAPI Deep Neural Network Library (oneDNN) to use the following CPU instructions in performance-critical operations:  AVX2 FMA\n",
      "To enable them in other operations, rebuild TensorFlow with the appropriate compiler flags.\n"
     ]
    }
   ],
   "source": [
    "# Define model\n",
    "\n",
    "model=Sequential()\n",
    "\n",
    "# Add an LSTM layer\n",
    "# This layer has 50 LSTM cells\n",
    "\n",
    "model.add(LSTM(50, activation='relu', return_sequences=True, input_shape=(length60,n_features)))\n",
    "\n",
    "# Dropout layer\n",
    "model.add(Dropout(0.2))\n",
    "\n",
    "# Add 2nd LSTM layer\n",
    "model.add(LSTM(units=50, activation='relu', return_sequences=True))\n",
    "\n",
    "# Dropout layer\n",
    "model.add(Dropout(0.2))\n",
    "\n",
    "# Add 3rd LSTM layer\n",
    "model.add(LSTM(units=50, activation='relu'))\n",
    "\n",
    "# Add a fully connected layer for the final prediction\n",
    "model.add(Dense(1))\n",
    "\n"
   ]
  },
  {
   "cell_type": "markdown",
   "id": "e906c0b1",
   "metadata": {},
   "source": [
    "### Compile model\n"
   ]
  },
  {
   "cell_type": "code",
   "execution_count": 37,
   "id": "e9031ffa",
   "metadata": {},
   "outputs": [
    {
     "name": "stdout",
     "output_type": "stream",
     "text": [
      "Model: \"sequential\"\n",
      "_________________________________________________________________\n",
      " Layer (type)                Output Shape              Param #   \n",
      "=================================================================\n",
      " lstm (LSTM)                 (None, 60, 50)            10400     \n",
      "                                                                 \n",
      " dropout (Dropout)           (None, 60, 50)            0         \n",
      "                                                                 \n",
      " lstm_1 (LSTM)               (None, 60, 50)            20200     \n",
      "                                                                 \n",
      " dropout_1 (Dropout)         (None, 60, 50)            0         \n",
      "                                                                 \n",
      " lstm_2 (LSTM)               (None, 50)                20200     \n",
      "                                                                 \n",
      " dense (Dense)               (None, 1)                 51        \n",
      "                                                                 \n",
      "=================================================================\n",
      "Total params: 50,851\n",
      "Trainable params: 50,851\n",
      "Non-trainable params: 0\n",
      "_________________________________________________________________\n"
     ]
    }
   ],
   "source": [
    "# Compile the model\n",
    "\n",
    "model.compile(optimizer='adam', loss='mse')\n",
    "\n",
    "model.summary()\n"
   ]
  },
  {
   "cell_type": "markdown",
   "id": "14532b88",
   "metadata": {},
   "source": [
    "### Train (Fit) Model using fit_generator()"
   ]
  },
  {
   "cell_type": "code",
   "execution_count": 38,
   "id": "08ff3a59",
   "metadata": {},
   "outputs": [
    {
     "name": "stdout",
     "output_type": "stream",
     "text": [
      "Epoch 1/100\n",
      "54/54 [==============================] - 7s 77ms/step - loss: 0.0611\n",
      "Epoch 2/100\n",
      "54/54 [==============================] - 4s 77ms/step - loss: 0.0071\n",
      "Epoch 3/100\n",
      "54/54 [==============================] - 4s 77ms/step - loss: 0.0052\n",
      "Epoch 4/100\n",
      "54/54 [==============================] - 4s 77ms/step - loss: 0.0068\n",
      "Epoch 5/100\n",
      "54/54 [==============================] - 4s 77ms/step - loss: 0.0019\n",
      "Epoch 6/100\n",
      "54/54 [==============================] - 4s 79ms/step - loss: 0.0023\n",
      "Epoch 7/100\n",
      "54/54 [==============================] - 6s 108ms/step - loss: 0.0019\n",
      "Epoch 8/100\n",
      "54/54 [==============================] - 4s 77ms/step - loss: 0.0024\n",
      "Epoch 9/100\n",
      "54/54 [==============================] - 4s 77ms/step - loss: 0.0018\n",
      "Epoch 10/100\n",
      "54/54 [==============================] - 4s 77ms/step - loss: 0.0018\n",
      "Epoch 11/100\n",
      "54/54 [==============================] - 4s 77ms/step - loss: 0.0019\n",
      "Epoch 12/100\n",
      "54/54 [==============================] - 4s 77ms/step - loss: 0.0021\n",
      "Epoch 13/100\n",
      "54/54 [==============================] - 4s 78ms/step - loss: 0.0019\n",
      "Epoch 14/100\n",
      "54/54 [==============================] - 4s 77ms/step - loss: 0.0018\n",
      "Epoch 15/100\n",
      "54/54 [==============================] - 4s 77ms/step - loss: 0.0015\n",
      "Epoch 16/100\n",
      "54/54 [==============================] - 4s 77ms/step - loss: 0.0023\n",
      "Epoch 17/100\n",
      "54/54 [==============================] - 4s 77ms/step - loss: 0.0018\n",
      "Epoch 18/100\n",
      "54/54 [==============================] - 4s 76ms/step - loss: 0.0016\n",
      "Epoch 19/100\n",
      "54/54 [==============================] - 4s 77ms/step - loss: 0.0014\n",
      "Epoch 20/100\n",
      "54/54 [==============================] - 4s 78ms/step - loss: 0.0018\n",
      "Epoch 21/100\n",
      "54/54 [==============================] - 6s 106ms/step - loss: 0.0014\n",
      "Epoch 22/100\n",
      "54/54 [==============================] - 4s 77ms/step - loss: 0.0030\n",
      "Epoch 23/100\n",
      "54/54 [==============================] - 4s 77ms/step - loss: 0.0017\n",
      "Epoch 24/100\n",
      "54/54 [==============================] - 4s 77ms/step - loss: 0.0014\n",
      "Epoch 25/100\n",
      "54/54 [==============================] - 4s 77ms/step - loss: 0.0016\n",
      "Epoch 26/100\n",
      "54/54 [==============================] - 4s 77ms/step - loss: 0.0013\n",
      "Epoch 27/100\n",
      "54/54 [==============================] - 4s 78ms/step - loss: 0.0017\n",
      "Epoch 28/100\n",
      "54/54 [==============================] - 4s 77ms/step - loss: 0.0014\n",
      "Epoch 29/100\n",
      "54/54 [==============================] - 4s 77ms/step - loss: 0.0040\n",
      "Epoch 30/100\n",
      "54/54 [==============================] - 4s 77ms/step - loss: 0.0020\n",
      "Epoch 31/100\n",
      "54/54 [==============================] - 4s 77ms/step - loss: 0.0019\n",
      "Epoch 32/100\n",
      "54/54 [==============================] - 4s 78ms/step - loss: 0.0014\n",
      "Epoch 33/100\n",
      "54/54 [==============================] - 4s 77ms/step - loss: 0.0011\n",
      "Epoch 34/100\n",
      "54/54 [==============================] - 4s 78ms/step - loss: 0.0016\n",
      "Epoch 35/100\n",
      "54/54 [==============================] - 6s 106ms/step - loss: 0.0013\n",
      "Epoch 36/100\n",
      "54/54 [==============================] - 4s 76ms/step - loss: 0.0012\n",
      "Epoch 37/100\n",
      "54/54 [==============================] - 4s 77ms/step - loss: 0.0015\n",
      "Epoch 38/100\n",
      "54/54 [==============================] - 4s 77ms/step - loss: 0.0013\n",
      "Epoch 39/100\n",
      "54/54 [==============================] - 4s 77ms/step - loss: 0.0016\n",
      "Epoch 40/100\n",
      "54/54 [==============================] - 4s 77ms/step - loss: 0.0015\n",
      "Epoch 41/100\n",
      "54/54 [==============================] - 4s 78ms/step - loss: 0.0014\n",
      "Epoch 42/100\n",
      "54/54 [==============================] - 4s 77ms/step - loss: 0.0012\n",
      "Epoch 43/100\n",
      "54/54 [==============================] - 4s 77ms/step - loss: 0.0012\n",
      "Epoch 44/100\n",
      "54/54 [==============================] - 4s 77ms/step - loss: 0.0015\n",
      "Epoch 45/100\n",
      "54/54 [==============================] - 4s 77ms/step - loss: 9.8977e-04\n",
      "Epoch 46/100\n",
      "54/54 [==============================] - 4s 76ms/step - loss: 0.0010\n",
      "Epoch 47/100\n",
      "54/54 [==============================] - 4s 75ms/step - loss: 0.0012\n",
      "Epoch 48/100\n",
      "54/54 [==============================] - 4s 77ms/step - loss: 0.0014\n",
      "Epoch 49/100\n",
      "54/54 [==============================] - 6s 103ms/step - loss: 0.0014\n",
      "Epoch 50/100\n",
      "54/54 [==============================] - 4s 75ms/step - loss: 0.0013\n",
      "Epoch 51/100\n",
      "54/54 [==============================] - 4s 75ms/step - loss: 9.4258e-04\n",
      "Epoch 52/100\n",
      "54/54 [==============================] - 4s 75ms/step - loss: 0.0013\n",
      "Epoch 53/100\n",
      "54/54 [==============================] - 4s 74ms/step - loss: 0.0010\n",
      "Epoch 54/100\n",
      "54/54 [==============================] - 4s 76ms/step - loss: 0.0014\n",
      "Epoch 55/100\n",
      "54/54 [==============================] - 4s 73ms/step - loss: 0.0013\n",
      "Epoch 56/100\n",
      "54/54 [==============================] - 4s 73ms/step - loss: 0.0010\n",
      "Epoch 57/100\n",
      "54/54 [==============================] - 4s 74ms/step - loss: 0.0015\n",
      "Epoch 58/100\n",
      "54/54 [==============================] - 4s 74ms/step - loss: 0.0011\n",
      "Epoch 59/100\n",
      "54/54 [==============================] - 4s 74ms/step - loss: 9.2169e-04\n",
      "Epoch 60/100\n",
      "54/54 [==============================] - 4s 73ms/step - loss: 0.0010\n",
      "Epoch 61/100\n",
      "54/54 [==============================] - 4s 75ms/step - loss: 0.0013\n",
      "Epoch 62/100\n",
      "54/54 [==============================] - 5s 85ms/step - loss: 0.0016\n",
      "Epoch 63/100\n",
      "54/54 [==============================] - 5s 84ms/step - loss: 9.6528e-04\n",
      "Epoch 64/100\n",
      "54/54 [==============================] - 4s 73ms/step - loss: 0.0011\n",
      "Epoch 65/100\n",
      "54/54 [==============================] - 4s 73ms/step - loss: 9.4456e-04\n",
      "Epoch 66/100\n",
      "54/54 [==============================] - 4s 73ms/step - loss: 8.9881e-04\n",
      "Epoch 67/100\n",
      "54/54 [==============================] - 4s 74ms/step - loss: 0.0012\n",
      "Epoch 68/100\n",
      "54/54 [==============================] - 4s 73ms/step - loss: 0.0013\n",
      "Epoch 69/100\n",
      "54/54 [==============================] - 4s 75ms/step - loss: 8.5007e-04\n",
      "Epoch 70/100\n",
      "54/54 [==============================] - 4s 73ms/step - loss: 0.0010\n",
      "Epoch 71/100\n",
      "54/54 [==============================] - 4s 74ms/step - loss: 0.0011\n",
      "Epoch 72/100\n",
      "54/54 [==============================] - 4s 73ms/step - loss: 0.0010\n",
      "Epoch 73/100\n",
      "54/54 [==============================] - 4s 73ms/step - loss: 0.0014\n",
      "Epoch 74/100\n",
      "54/54 [==============================] - 4s 73ms/step - loss: 0.0014\n",
      "Epoch 75/100\n",
      "54/54 [==============================] - 4s 74ms/step - loss: 0.0020\n",
      "Epoch 76/100\n",
      "54/54 [==============================] - 4s 75ms/step - loss: 9.8793e-04\n",
      "Epoch 77/100\n",
      "54/54 [==============================] - 6s 103ms/step - loss: 9.8004e-04\n",
      "Epoch 78/100\n",
      "54/54 [==============================] - 4s 73ms/step - loss: 8.3589e-04\n",
      "Epoch 79/100\n",
      "54/54 [==============================] - 4s 73ms/step - loss: 0.0011\n",
      "Epoch 80/100\n",
      "54/54 [==============================] - 4s 73ms/step - loss: 0.0017\n",
      "Epoch 81/100\n",
      "54/54 [==============================] - 4s 73ms/step - loss: 9.7442e-04\n",
      "Epoch 82/100\n",
      "54/54 [==============================] - 4s 73ms/step - loss: 9.9795e-04\n",
      "Epoch 83/100\n",
      "54/54 [==============================] - 4s 74ms/step - loss: 0.0012\n",
      "Epoch 84/100\n",
      "54/54 [==============================] - 4s 73ms/step - loss: 0.0015\n",
      "Epoch 85/100\n",
      "54/54 [==============================] - 4s 73ms/step - loss: 9.2420e-04\n",
      "Epoch 86/100\n",
      "54/54 [==============================] - 4s 73ms/step - loss: 8.3361e-04\n",
      "Epoch 87/100\n",
      "54/54 [==============================] - 4s 73ms/step - loss: 9.2442e-04\n",
      "Epoch 88/100\n",
      "54/54 [==============================] - 4s 73ms/step - loss: 9.6457e-04\n",
      "Epoch 89/100\n",
      "54/54 [==============================] - 4s 74ms/step - loss: 8.7935e-04\n",
      "Epoch 90/100\n",
      "54/54 [==============================] - 4s 73ms/step - loss: 0.0011\n",
      "Epoch 91/100\n",
      "54/54 [==============================] - 4s 75ms/step - loss: 8.8885e-04\n",
      "Epoch 92/100\n",
      "54/54 [==============================] - 6s 103ms/step - loss: 7.8264e-04\n",
      "Epoch 93/100\n",
      "54/54 [==============================] - 4s 74ms/step - loss: 9.2645e-04\n",
      "Epoch 94/100\n",
      "54/54 [==============================] - 4s 73ms/step - loss: 8.0663e-04\n",
      "Epoch 95/100\n",
      "54/54 [==============================] - 4s 73ms/step - loss: 8.1217e-04\n",
      "Epoch 96/100\n",
      "54/54 [==============================] - 4s 73ms/step - loss: 8.1695e-04\n",
      "Epoch 97/100\n",
      "54/54 [==============================] - 4s 73ms/step - loss: 8.2368e-04\n",
      "Epoch 98/100\n",
      "54/54 [==============================] - 4s 75ms/step - loss: 7.5697e-04\n",
      "Epoch 99/100\n",
      "54/54 [==============================] - 4s 73ms/step - loss: 0.0028\n",
      "Epoch 100/100\n",
      "54/54 [==============================] - 4s 74ms/step - loss: 0.0024\n"
     ]
    },
    {
     "data": {
      "text/plain": [
       "<keras.callbacks.History at 0x7f32217cbe50>"
      ]
     },
     "execution_count": 38,
     "metadata": {},
     "output_type": "execute_result"
    }
   ],
   "source": [
    "# Train the model\n",
    "\n",
    "model.fit(train_tsGenerator60, epochs=100)\n"
   ]
  },
  {
   "cell_type": "markdown",
   "id": "081d1378",
   "metadata": {},
   "source": [
    "### Visualize Model's performance after Training"
   ]
  },
  {
   "cell_type": "code",
   "execution_count": 39,
   "id": "5760c19f",
   "metadata": {},
   "outputs": [
    {
     "data": {
      "text/plain": [
       "dict_keys(['loss'])"
      ]
     },
     "execution_count": 39,
     "metadata": {},
     "output_type": "execute_result"
    }
   ],
   "source": [
    "loss_history_keys = model.history.history.keys()\n",
    "loss_history_keys"
   ]
  },
  {
   "cell_type": "code",
   "execution_count": 40,
   "id": "f44e2989",
   "metadata": {},
   "outputs": [
    {
     "data": {
      "text/plain": [
       "<AxesSubplot:>"
      ]
     },
     "execution_count": 40,
     "metadata": {},
     "output_type": "execute_result"
    },
    {
     "data": {
      "image/png": "[encoded data removed]",
      "text/plain": [
       "<Figure size 640x480 with 1 Axes>"
      ]
     },
     "metadata": {},
     "output_type": "display_data"
    }
   ],
   "source": [
    "# Load the loss data into a dataframe\n",
    "df_model_loss=pd.DataFrame(model.history.history)\n",
    "\n",
    "# Visualize the loss data using DataFrame.plot()\n",
    "df_model_loss.plot()"
   ]
  },
  {
   "cell_type": "markdown",
   "id": "027bc81e",
   "metadata": {},
   "source": [
    "## Prediction for Testing: Using TimeSeriesGenerator"
   ]
  },
  {
   "cell_type": "markdown",
   "id": "0f90460c",
   "metadata": {},
   "source": [
    "### Create TimeSeriesGenerator for Testing"
   ]
  },
  {
   "cell_type": "code",
   "execution_count": 41,
   "id": "287e322b",
   "metadata": {},
   "outputs": [],
   "source": [
    "batch_size1=1\n",
    "\n",
    "# test_tsGenerator\n",
    "\n",
    "test_tsGenerator60=TimeseriesGenerator(normalized_test,normalized_test,length=length60,batch_size=batch_size1)"
   ]
  },
  {
   "cell_type": "markdown",
   "id": "2bb8c84a",
   "metadata": {},
   "source": [
    "### Predict Future Data Points for Testing"
   ]
  },
  {
   "cell_type": "code",
   "execution_count": 42,
   "id": "af0f7633",
   "metadata": {},
   "outputs": [],
   "source": [
    "normalized_prediction=model.predict(test_tsGenerator60)"
   ]
  },
  {
   "cell_type": "code",
   "execution_count": 43,
   "id": "8d0f601e",
   "metadata": {},
   "outputs": [
    {
     "data": {
      "text/plain": [
       "array([[0.82119095],\n",
       "       [0.82991934],\n",
       "       [0.83813065],\n",
       "       [0.84575677],\n",
       "       [0.85091805],\n",
       "       [0.853645  ],\n",
       "       [0.854939  ],\n",
       "       [0.8565743 ],\n",
       "       [0.85850775],\n",
       "       [0.8612428 ],\n",
       "       [0.8650727 ],\n",
       "       [0.86899275],\n",
       "       [0.8722954 ],\n",
       "       [0.8760708 ],\n",
       "       [0.8810734 ],\n",
       "       [0.8859371 ],\n",
       "       [0.8914905 ],\n",
       "       [0.89657706],\n",
       "       [0.9007643 ],\n",
       "       [0.9031225 ],\n",
       "       [0.903659  ],\n",
       "       [0.9022602 ],\n",
       "       [0.9010392 ],\n",
       "       [0.9003406 ],\n",
       "       [0.9009953 ],\n",
       "       [0.90103483],\n",
       "       [0.9002591 ],\n",
       "       [0.89766836],\n",
       "       [0.89445734],\n",
       "       [0.89028585],\n",
       "       [0.88543737],\n",
       "       [0.87949413],\n",
       "       [0.8712819 ],\n",
       "       [0.8626287 ],\n",
       "       [0.8548174 ],\n",
       "       [0.8502955 ],\n",
       "       [0.84779507],\n",
       "       [0.84597427],\n",
       "       [0.8456519 ],\n",
       "       [0.8433664 ],\n",
       "       [0.8406555 ],\n",
       "       [0.8383095 ],\n",
       "       [0.8373499 ],\n",
       "       [0.836686  ],\n",
       "       [0.8361059 ],\n",
       "       [0.8350345 ],\n",
       "       [0.832369  ],\n",
       "       [0.8293458 ],\n",
       "       [0.82685995],\n",
       "       [0.8251992 ],\n",
       "       [0.8255665 ],\n",
       "       [0.8273902 ],\n",
       "       [0.8288563 ],\n",
       "       [0.83138394],\n",
       "       [0.83563787],\n",
       "       [0.83961856],\n",
       "       [0.84334236],\n",
       "       [0.84556365],\n",
       "       [0.84731317],\n",
       "       [0.84828025],\n",
       "       [0.848566  ],\n",
       "       [0.84805256],\n",
       "       [0.84771985],\n",
       "       [0.8476371 ],\n",
       "       [0.84847075],\n",
       "       [0.8498133 ],\n",
       "       [0.8502577 ],\n",
       "       [0.84832674],\n",
       "       [0.84512246],\n",
       "       [0.84063804],\n",
       "       [0.8348203 ],\n",
       "       [0.82870585],\n",
       "       [0.82238066],\n",
       "       [0.816073  ],\n",
       "       [0.81193644],\n",
       "       [0.81015575],\n",
       "       [0.80994016],\n",
       "       [0.810062  ],\n",
       "       [0.81092376],\n",
       "       [0.8122402 ],\n",
       "       [0.81510633],\n",
       "       [0.8185472 ],\n",
       "       [0.82373744],\n",
       "       [0.82998294],\n",
       "       [0.8366724 ],\n",
       "       [0.841347  ],\n",
       "       [0.84542996],\n",
       "       [0.84649897],\n",
       "       [0.8462836 ],\n",
       "       [0.8454418 ],\n",
       "       [0.84501576],\n",
       "       [0.8455436 ],\n",
       "       [0.8467013 ],\n",
       "       [0.8477859 ],\n",
       "       [0.84985584],\n",
       "       [0.85314023],\n",
       "       [0.85735154],\n",
       "       [0.86160785],\n",
       "       [0.8643993 ],\n",
       "       [0.8654409 ],\n",
       "       [0.8653538 ],\n",
       "       [0.8641685 ],\n",
       "       [0.8641656 ],\n",
       "       [0.8646503 ],\n",
       "       [0.8654229 ],\n",
       "       [0.8669772 ],\n",
       "       [0.8697436 ],\n",
       "       [0.87374026],\n",
       "       [0.8775054 ],\n",
       "       [0.8807927 ],\n",
       "       [0.88370514],\n",
       "       [0.88644284],\n",
       "       [0.88850415],\n",
       "       [0.891038  ],\n",
       "       [0.89353085],\n",
       "       [0.89501333],\n",
       "       [0.8953111 ],\n",
       "       [0.8947645 ],\n",
       "       [0.89402086],\n",
       "       [0.89391035],\n",
       "       [0.89440215],\n",
       "       [0.8950846 ],\n",
       "       [0.8963148 ],\n",
       "       [0.8957328 ],\n",
       "       [0.8931942 ],\n",
       "       [0.8906779 ],\n",
       "       [0.8888808 ],\n",
       "       [0.8893169 ],\n",
       "       [0.89243877],\n",
       "       [0.8971623 ],\n",
       "       [0.9023349 ],\n",
       "       [0.9067408 ],\n",
       "       [0.911072  ],\n",
       "       [0.9150067 ],\n",
       "       [0.9168465 ],\n",
       "       [0.91743106],\n",
       "       [0.9189024 ],\n",
       "       [0.9204673 ],\n",
       "       [0.923421  ],\n",
       "       [0.9271158 ],\n",
       "       [0.93165904],\n",
       "       [0.937322  ],\n",
       "       [0.9429559 ],\n",
       "       [0.9493129 ],\n",
       "       [0.9542454 ],\n",
       "       [0.9584996 ],\n",
       "       [0.9620501 ],\n",
       "       [0.9649152 ],\n",
       "       [0.9667267 ],\n",
       "       [0.9676436 ],\n",
       "       [0.9672777 ],\n",
       "       [0.9654703 ],\n",
       "       [0.9618171 ],\n",
       "       [0.95870936],\n",
       "       [0.9585076 ],\n",
       "       [0.95482326],\n",
       "       [0.94743454],\n",
       "       [0.9385285 ],\n",
       "       [0.9315576 ],\n",
       "       [0.9273503 ],\n",
       "       [0.925742  ],\n",
       "       [0.9264863 ],\n",
       "       [0.92887765],\n",
       "       [0.92976815],\n",
       "       [0.93084615],\n",
       "       [0.9327818 ],\n",
       "       [0.935481  ],\n",
       "       [0.9396319 ],\n",
       "       [0.94414204],\n",
       "       [0.9471584 ],\n",
       "       [0.94717085],\n",
       "       [0.9424731 ],\n",
       "       [0.93372357],\n",
       "       [0.9231334 ],\n",
       "       [0.9105169 ],\n",
       "       [0.897992  ],\n",
       "       [0.8881723 ],\n",
       "       [0.87812275],\n",
       "       [0.87078077],\n",
       "       [0.8637082 ],\n",
       "       [0.8560112 ],\n",
       "       [0.8455671 ],\n",
       "       [0.8353863 ],\n",
       "       [0.8246598 ],\n",
       "       [0.8108912 ],\n",
       "       [0.798085  ],\n",
       "       [0.7828753 ],\n",
       "       [0.7665335 ],\n",
       "       [0.74979454],\n",
       "       [0.7347108 ],\n",
       "       [0.7215309 ],\n",
       "       [0.7102564 ],\n",
       "       [0.70408404],\n",
       "       [0.7015023 ],\n",
       "       [0.7032015 ],\n",
       "       [0.7061797 ],\n",
       "       [0.71180195],\n",
       "       [0.7192756 ]], dtype=float32)"
      ]
     },
     "execution_count": 43,
     "metadata": {},
     "output_type": "execute_result"
    }
   ],
   "source": [
    "normalized_prediction"
   ]
  },
  {
   "cell_type": "code",
   "execution_count": 44,
   "id": "56f5c1b2",
   "metadata": {},
   "outputs": [
    {
     "data": {
      "text/plain": [
       "198"
      ]
     },
     "execution_count": 44,
     "metadata": {},
     "output_type": "execute_result"
    }
   ],
   "source": [
    "len(normalized_prediction)"
   ]
  },
  {
   "cell_type": "code",
   "execution_count": 45,
   "id": "605ee3ca",
   "metadata": {},
   "outputs": [],
   "source": [
    "# convert normlized predictions back to the true values\n",
    "\n",
    "prediction=scaler.inverse_transform(normalized_prediction)"
   ]
  },
  {
   "cell_type": "code",
   "execution_count": 46,
   "id": "cbd7b5a0",
   "metadata": {},
   "outputs": [],
   "source": [
    "# Flatten the 2D array\n",
    "\n",
    "prediction_index = np.arange(1, 76, step=1)\n",
    "\n",
    "df_prediction = pd.DataFrame(data=prediction, columns=['Prediction'])"
   ]
  },
  {
   "cell_type": "code",
   "execution_count": 47,
   "id": "8d56c5bd",
   "metadata": {},
   "outputs": [
    {
     "data": {
      "text/html": [
       "<div>\n",
       "<style scoped>\n",
       "    .dataframe tbody tr th:only-of-type {\n",
       "        vertical-align: middle;\n",
       "    }\n",
       "\n",
       "    .dataframe tbody tr th {\n",
       "        vertical-align: top;\n",
       "    }\n",
       "\n",
       "    .dataframe thead th {\n",
       "        text-align: right;\n",
       "    }\n",
       "</style>\n",
       "<table border=\"1\" class=\"dataframe\">\n",
       "  <thead>\n",
       "    <tr style=\"text-align: right;\">\n",
       "      <th></th>\n",
       "      <th>Prediction</th>\n",
       "    </tr>\n",
       "  </thead>\n",
       "  <tbody>\n",
       "    <tr>\n",
       "      <th>0</th>\n",
       "      <td>181.779327</td>\n",
       "    </tr>\n",
       "    <tr>\n",
       "      <th>1</th>\n",
       "      <td>183.522995</td>\n",
       "    </tr>\n",
       "    <tr>\n",
       "      <th>2</th>\n",
       "      <td>185.163361</td>\n",
       "    </tr>\n",
       "    <tr>\n",
       "      <th>3</th>\n",
       "      <td>186.686829</td>\n",
       "    </tr>\n",
       "    <tr>\n",
       "      <th>4</th>\n",
       "      <td>187.717911</td>\n",
       "    </tr>\n",
       "    <tr>\n",
       "      <th>...</th>\n",
       "      <td>...</td>\n",
       "    </tr>\n",
       "    <tr>\n",
       "      <th>193</th>\n",
       "      <td>157.869125</td>\n",
       "    </tr>\n",
       "    <tr>\n",
       "      <th>194</th>\n",
       "      <td>158.208557</td>\n",
       "    </tr>\n",
       "    <tr>\n",
       "      <th>195</th>\n",
       "      <td>158.803513</td>\n",
       "    </tr>\n",
       "    <tr>\n",
       "      <th>196</th>\n",
       "      <td>159.926682</td>\n",
       "    </tr>\n",
       "    <tr>\n",
       "      <th>197</th>\n",
       "      <td>161.419693</td>\n",
       "    </tr>\n",
       "  </tbody>\n",
       "</table>\n",
       "<p>198 rows × 1 columns</p>\n",
       "</div>"
      ],
      "text/plain": [
       "     Prediction\n",
       "0    181.779327\n",
       "1    183.522995\n",
       "2    185.163361\n",
       "3    186.686829\n",
       "4    187.717911\n",
       "..          ...\n",
       "193  157.869125\n",
       "194  158.208557\n",
       "195  158.803513\n",
       "196  159.926682\n",
       "197  161.419693\n",
       "\n",
       "[198 rows x 1 columns]"
      ]
     },
     "execution_count": 47,
     "metadata": {},
     "output_type": "execute_result"
    }
   ],
   "source": [
    "df_prediction"
   ]
  },
  {
   "cell_type": "markdown",
   "id": "090532ac",
   "metadata": {},
   "source": [
    "### Visualize Prediction"
   ]
  },
  {
   "cell_type": "code",
   "execution_count": 48,
   "id": "0dd34181",
   "metadata": {},
   "outputs": [
    {
     "data": {
      "text/plain": [
       "<AxesSubplot:>"
      ]
     },
     "execution_count": 48,
     "metadata": {},
     "output_type": "execute_result"
    },
    {
     "data": {
      "image/png": "[encoded data removed]",
      "text/plain": [
       "<Figure size 400x600 with 1 Axes>"
      ]
     },
     "metadata": {},
     "output_type": "display_data"
    }
   ],
   "source": [
    "ax=data_train.plot()\n",
    "\n",
    "df_prediction.plot(ax=ax, figsize=(4,6))"
   ]
  },
  {
   "cell_type": "markdown",
   "id": "18f114e7",
   "metadata": {},
   "source": [
    "### Preprocess Full Input Dataset"
   ]
  },
  {
   "cell_type": "code",
   "execution_count": 49,
   "id": "e9c067e1",
   "metadata": {},
   "outputs": [],
   "source": [
    "# Still use minmaxscaler to normalize the full input dataset df\n",
    "\n",
    "full_scaler=MinMaxScaler()\n",
    "normalized_full_data=full_scaler.fit_transform(df)"
   ]
  },
  {
   "cell_type": "markdown",
   "id": "4c89bf47",
   "metadata": {},
   "source": [
    "### Create TimeSeriesGenerator for Forecasting"
   ]
  },
  {
   "cell_type": "code",
   "execution_count": 50,
   "id": "9ef544a6",
   "metadata": {},
   "outputs": [
    {
     "data": {
      "text/plain": [
       "60"
      ]
     },
     "execution_count": 50,
     "metadata": {},
     "output_type": "execute_result"
    }
   ],
   "source": [
    "length60"
   ]
  },
  {
   "cell_type": "code",
   "execution_count": 51,
   "id": "1dd41353",
   "metadata": {},
   "outputs": [],
   "source": [
    "forecast_tsGenerator = TimeseriesGenerator(normalized_full_data,normalized_full_data,length=length60,batch_size=batch_size32)"
   ]
  },
  {
   "cell_type": "markdown",
   "id": "60072407",
   "metadata": {},
   "source": [
    "### Build, Compile and Fit LSTM Model for Forecasting\n"
   ]
  },
  {
   "cell_type": "code",
   "execution_count": 52,
   "id": "5820827a",
   "metadata": {},
   "outputs": [
    {
     "name": "stdout",
     "output_type": "stream",
     "text": [
      "Epoch 1/100\n",
      " 2/60 [>.............................] - ETA: 4s - loss: 0.0020"
     ]
    },
    {
     "name": "stderr",
     "output_type": "stream",
     "text": [
      "/opt/conda/lib/python3.7/site-packages/ipykernel_launcher.py:1: UserWarning: `Model.fit_generator` is deprecated and will be removed in a future version. Please use `Model.fit`, which supports generators.\n",
      "  \"\"\"Entry point for launching an IPython kernel.\n"
     ]
    },
    {
     "name": "stdout",
     "output_type": "stream",
     "text": [
      "60/60 [==============================] - 4s 74ms/step - loss: 0.0011\n",
      "Epoch 2/100\n",
      "60/60 [==============================] - 4s 73ms/step - loss: 0.0012\n",
      "Epoch 3/100\n",
      "60/60 [==============================] - 4s 73ms/step - loss: 0.0011\n",
      "Epoch 4/100\n",
      "60/60 [==============================] - 4s 74ms/step - loss: 0.0012\n",
      "Epoch 5/100\n",
      "60/60 [==============================] - 6s 100ms/step - loss: 9.2411e-04\n",
      "Epoch 6/100\n",
      "60/60 [==============================] - 4s 74ms/step - loss: 9.6470e-04\n",
      "Epoch 7/100\n",
      "60/60 [==============================] - 4s 74ms/step - loss: 0.0014\n",
      "Epoch 8/100\n",
      "60/60 [==============================] - 4s 73ms/step - loss: 9.4863e-04\n",
      "Epoch 9/100\n",
      "60/60 [==============================] - 4s 74ms/step - loss: 9.3073e-04\n",
      "Epoch 10/100\n",
      "60/60 [==============================] - 4s 74ms/step - loss: 9.9311e-04\n",
      "Epoch 11/100\n",
      "60/60 [==============================] - 5s 75ms/step - loss: 9.6337e-04\n",
      "Epoch 12/100\n",
      "60/60 [==============================] - 4s 74ms/step - loss: 7.9825e-04\n",
      "Epoch 13/100\n",
      "60/60 [==============================] - 4s 74ms/step - loss: 0.0013\n",
      "Epoch 14/100\n",
      "60/60 [==============================] - 4s 73ms/step - loss: 9.1993e-04\n",
      "Epoch 15/100\n",
      "60/60 [==============================] - 4s 74ms/step - loss: 8.0961e-04\n",
      "Epoch 16/100\n",
      "60/60 [==============================] - 4s 73ms/step - loss: 8.6175e-04\n",
      "Epoch 17/100\n",
      "60/60 [==============================] - 4s 73ms/step - loss: 0.0012\n",
      "Epoch 18/100\n",
      "60/60 [==============================] - 6s 100ms/step - loss: 0.0010\n",
      "Epoch 19/100\n",
      "60/60 [==============================] - 4s 74ms/step - loss: 8.9138e-04\n",
      "Epoch 20/100\n",
      "60/60 [==============================] - 4s 74ms/step - loss: 0.0016\n",
      "Epoch 21/100\n",
      "60/60 [==============================] - 4s 74ms/step - loss: 8.3110e-04\n",
      "Epoch 22/100\n",
      "60/60 [==============================] - 4s 74ms/step - loss: 7.9573e-04\n",
      "Epoch 23/100\n",
      "60/60 [==============================] - 4s 74ms/step - loss: 7.5117e-04\n",
      "Epoch 24/100\n",
      "60/60 [==============================] - 4s 74ms/step - loss: 8.7432e-04\n",
      "Epoch 25/100\n",
      "60/60 [==============================] - 4s 73ms/step - loss: 9.9654e-04\n",
      "Epoch 26/100\n",
      "60/60 [==============================] - 4s 73ms/step - loss: 7.1557e-04\n",
      "Epoch 27/100\n",
      "60/60 [==============================] - 4s 74ms/step - loss: 6.8026e-04\n",
      "Epoch 28/100\n",
      "60/60 [==============================] - 4s 73ms/step - loss: 9.9171e-04\n",
      "Epoch 29/100\n",
      "60/60 [==============================] - 4s 73ms/step - loss: 7.8941e-04\n",
      "Epoch 30/100\n",
      "60/60 [==============================] - 4s 73ms/step - loss: 8.7197e-04\n",
      "Epoch 31/100\n",
      "60/60 [==============================] - 6s 95ms/step - loss: 8.4508e-04\n",
      "Epoch 32/100\n",
      "60/60 [==============================] - 4s 73ms/step - loss: 0.0012\n",
      "Epoch 33/100\n",
      "60/60 [==============================] - 4s 73ms/step - loss: 9.4849e-04\n",
      "Epoch 34/100\n",
      "60/60 [==============================] - 4s 73ms/step - loss: 8.1962e-04\n",
      "Epoch 35/100\n",
      "60/60 [==============================] - 4s 73ms/step - loss: 9.7201e-04\n",
      "Epoch 36/100\n",
      "60/60 [==============================] - 4s 74ms/step - loss: 8.2679e-04\n",
      "Epoch 37/100\n",
      "60/60 [==============================] - 4s 73ms/step - loss: 6.4520e-04\n",
      "Epoch 38/100\n",
      "60/60 [==============================] - 4s 73ms/step - loss: 6.8098e-04\n",
      "Epoch 39/100\n",
      "60/60 [==============================] - 4s 73ms/step - loss: 6.0430e-04\n",
      "Epoch 40/100\n",
      "60/60 [==============================] - 4s 73ms/step - loss: 9.4886e-04\n",
      "Epoch 41/100\n",
      "60/60 [==============================] - 4s 74ms/step - loss: 7.1905e-04\n",
      "Epoch 42/100\n",
      "60/60 [==============================] - 4s 74ms/step - loss: 9.3361e-04\n",
      "Epoch 43/100\n",
      "60/60 [==============================] - 5s 78ms/step - loss: 6.4574e-04\n",
      "Epoch 44/100\n",
      "60/60 [==============================] - 6s 91ms/step - loss: 6.6190e-04\n",
      "Epoch 45/100\n",
      "60/60 [==============================] - 4s 73ms/step - loss: 0.0010\n",
      "Epoch 46/100\n",
      "60/60 [==============================] - 4s 74ms/step - loss: 0.0013\n",
      "Epoch 47/100\n",
      "60/60 [==============================] - 4s 73ms/step - loss: 7.3014e-04\n",
      "Epoch 48/100\n",
      "60/60 [==============================] - 4s 73ms/step - loss: 7.8156e-04\n",
      "Epoch 49/100\n",
      "60/60 [==============================] - 4s 73ms/step - loss: 7.1133e-04\n",
      "Epoch 50/100\n",
      "60/60 [==============================] - 4s 74ms/step - loss: 6.1977e-04\n",
      "Epoch 51/100\n",
      "60/60 [==============================] - 4s 73ms/step - loss: 7.4879e-04\n",
      "Epoch 52/100\n",
      "60/60 [==============================] - 4s 73ms/step - loss: 7.2497e-04\n",
      "Epoch 53/100\n",
      "60/60 [==============================] - 4s 74ms/step - loss: 0.0010\n",
      "Epoch 54/100\n",
      "60/60 [==============================] - 4s 73ms/step - loss: 9.7194e-04\n",
      "Epoch 55/100\n",
      "60/60 [==============================] - 4s 74ms/step - loss: 7.5975e-04\n",
      "Epoch 56/100\n",
      "60/60 [==============================] - 4s 74ms/step - loss: 6.3249e-04\n",
      "Epoch 57/100\n",
      "60/60 [==============================] - 6s 91ms/step - loss: 7.0977e-04\n",
      "Epoch 58/100\n",
      "60/60 [==============================] - 4s 74ms/step - loss: 8.6643e-04\n",
      "Epoch 59/100\n",
      "60/60 [==============================] - 4s 74ms/step - loss: 7.3991e-04\n",
      "Epoch 60/100\n",
      "60/60 [==============================] - 4s 74ms/step - loss: 0.0010\n",
      "Epoch 61/100\n",
      "60/60 [==============================] - 4s 74ms/step - loss: 6.1950e-04\n",
      "Epoch 62/100\n",
      "60/60 [==============================] - 4s 73ms/step - loss: 6.7231e-04\n",
      "Epoch 63/100\n",
      "60/60 [==============================] - 4s 74ms/step - loss: 7.0061e-04\n",
      "Epoch 64/100\n",
      "60/60 [==============================] - 4s 73ms/step - loss: 6.1531e-04\n",
      "Epoch 65/100\n",
      "60/60 [==============================] - 4s 73ms/step - loss: 6.6502e-04\n",
      "Epoch 66/100\n",
      "60/60 [==============================] - 4s 74ms/step - loss: 6.9083e-04\n",
      "Epoch 67/100\n",
      "60/60 [==============================] - 4s 74ms/step - loss: 6.3953e-04\n",
      "Epoch 68/100\n",
      "60/60 [==============================] - 4s 74ms/step - loss: 5.9172e-04\n",
      "Epoch 69/100\n",
      "60/60 [==============================] - 4s 74ms/step - loss: 7.3119e-04\n",
      "Epoch 70/100\n",
      "60/60 [==============================] - 6s 101ms/step - loss: 5.6246e-04\n",
      "Epoch 71/100\n",
      "60/60 [==============================] - 4s 73ms/step - loss: 5.3873e-04\n",
      "Epoch 72/100\n",
      "60/60 [==============================] - 4s 73ms/step - loss: 5.7675e-04\n",
      "Epoch 73/100\n",
      "60/60 [==============================] - 4s 73ms/step - loss: 0.0021\n",
      "Epoch 74/100\n",
      "60/60 [==============================] - 4s 73ms/step - loss: 0.0022\n",
      "Epoch 75/100\n",
      "60/60 [==============================] - 4s 74ms/step - loss: 9.3287e-04\n",
      "Epoch 76/100\n",
      "60/60 [==============================] - 5s 75ms/step - loss: 0.0012\n",
      "Epoch 77/100\n",
      "60/60 [==============================] - 4s 74ms/step - loss: 8.8041e-04\n",
      "Epoch 78/100\n",
      "60/60 [==============================] - 4s 74ms/step - loss: 9.8964e-04\n",
      "Epoch 79/100\n",
      "60/60 [==============================] - 4s 74ms/step - loss: 0.0014\n",
      "Epoch 80/100\n",
      "60/60 [==============================] - 4s 73ms/step - loss: 8.1031e-04\n",
      "Epoch 81/100\n",
      "60/60 [==============================] - 4s 73ms/step - loss: 0.0010\n",
      "Epoch 82/100\n",
      "60/60 [==============================] - 4s 74ms/step - loss: 8.9696e-04\n",
      "Epoch 83/100\n",
      "60/60 [==============================] - 6s 101ms/step - loss: 7.9413e-04\n",
      "Epoch 84/100\n",
      "60/60 [==============================] - 4s 73ms/step - loss: 9.4929e-04\n",
      "Epoch 85/100\n",
      "60/60 [==============================] - 4s 74ms/step - loss: 0.0011\n",
      "Epoch 86/100\n",
      "60/60 [==============================] - 4s 73ms/step - loss: 7.3721e-04\n",
      "Epoch 87/100\n",
      "60/60 [==============================] - 4s 73ms/step - loss: 8.2074e-04\n",
      "Epoch 88/100\n",
      "60/60 [==============================] - 4s 74ms/step - loss: 9.9981e-04\n",
      "Epoch 89/100\n",
      "60/60 [==============================] - 4s 74ms/step - loss: 7.2644e-04\n",
      "Epoch 90/100\n",
      "60/60 [==============================] - 4s 73ms/step - loss: 7.2974e-04\n",
      "Epoch 91/100\n",
      "60/60 [==============================] - 4s 74ms/step - loss: 0.0010\n",
      "Epoch 92/100\n",
      "60/60 [==============================] - 4s 74ms/step - loss: 9.8898e-04\n",
      "Epoch 93/100\n",
      "60/60 [==============================] - 4s 74ms/step - loss: 5.9146e-04\n",
      "Epoch 94/100\n",
      "60/60 [==============================] - 4s 74ms/step - loss: 9.7810e-04\n",
      "Epoch 95/100\n",
      "60/60 [==============================] - 4s 73ms/step - loss: 0.0011\n",
      "Epoch 96/100\n",
      "60/60 [==============================] - 6s 101ms/step - loss: 6.1163e-04\n",
      "Epoch 97/100\n",
      "60/60 [==============================] - 4s 73ms/step - loss: 7.9157e-04\n",
      "Epoch 98/100\n",
      "60/60 [==============================] - 4s 73ms/step - loss: 0.0010\n",
      "Epoch 99/100\n",
      "60/60 [==============================] - 4s 73ms/step - loss: 7.3098e-04\n",
      "Epoch 100/100\n",
      "60/60 [==============================] - 4s 73ms/step - loss: 7.9334e-04\n"
     ]
    },
    {
     "data": {
      "text/plain": [
       "<keras.callbacks.History at 0x7f320663cc50>"
      ]
     },
     "execution_count": 52,
     "metadata": {},
     "output_type": "execute_result"
    }
   ],
   "source": [
    "model.fit_generator(forecast_tsGenerator, epochs = 100)"
   ]
  },
  {
   "cell_type": "markdown",
   "id": "14b95451",
   "metadata": {},
   "source": [
    "### Time Series Forecast Using LSTM Neural Network "
   ]
  },
  {
   "cell_type": "code",
   "execution_count": 53,
   "id": "61d16708",
   "metadata": {},
   "outputs": [],
   "source": [
    "forecast=[]\n",
    "\n",
    "periods=500\n",
    "first_eval_batch = normalized_full_data[-length60:]\n",
    "current_batch = first_eval_batch.reshape((1, length60, n_features))\n",
    "\n",
    "for i in range(periods):\n",
    "    \n",
    "    current_pred=model.predict(current_batch)[0]\n",
    "    \n",
    "    forecast.append(current_pred)\n",
    "    \n",
    "    current_batch=np.append(current_batch[:,1:,:],[[current_pred]],axis=1)"
   ]
  },
  {
   "cell_type": "markdown",
   "id": "cf016bbd",
   "metadata": {},
   "source": [
    "### Inverse to Transform Normalized data back into True Values"
   ]
  },
  {
   "cell_type": "code",
   "execution_count": 54,
   "id": "bed65ae7",
   "metadata": {},
   "outputs": [
    {
     "data": {
      "text/plain": [
       "array([[162.98746203],\n",
       "       [162.98116617],\n",
       "       [162.68257829],\n",
       "       [162.32174223],\n",
       "       [162.00475672],\n",
       "       [161.76757185],\n",
       "       [161.61109401],\n",
       "       [161.52202107],\n",
       "       [161.48324151],\n",
       "       [161.47870947],\n",
       "       [161.49504931],\n",
       "       [161.52210681],\n",
       "       [161.55259396],\n",
       "       [161.58192973],\n",
       "       [161.60749288],\n",
       "       [161.62821777],\n",
       "       [161.64403091],\n",
       "       [161.65552024],\n",
       "       [161.66355542],\n",
       "       [161.66905511],\n",
       "       [161.67295022],\n",
       "       [161.67586542],\n",
       "       [161.67841316],\n",
       "       [161.68093641],\n",
       "       [161.68365563],\n",
       "       [161.68664433],\n",
       "       [161.68998824],\n",
       "       [161.69357712],\n",
       "       [161.69747222],\n",
       "       [161.70148982],\n",
       "       [161.70564214],\n",
       "       [161.70985572],\n",
       "       [161.71409378],\n",
       "       [161.71833185],\n",
       "       [161.72253318],\n",
       "       [161.72671   ],\n",
       "       [161.73088683],\n",
       "       [161.73500241],\n",
       "       [161.73910574],\n",
       "       [161.74318458],\n",
       "       [161.74725116],\n",
       "       [161.75131775],\n",
       "       [161.75533534],\n",
       "       [161.75938968],\n",
       "       [161.76338277],\n",
       "       [161.76740036],\n",
       "       [161.77140571],\n",
       "       [161.7754233 ],\n",
       "       [161.77941639],\n",
       "       [161.78339724],\n",
       "       [161.78737808],\n",
       "       [161.79134668],\n",
       "       [161.79530302],\n",
       "       [161.79927162],\n",
       "       [161.80321572],\n",
       "       [161.80715982],\n",
       "       [161.81110392],\n",
       "       [161.81501127],\n",
       "       [161.81894312],\n",
       "       [161.82285047],\n",
       "       [161.82674558],\n",
       "       [161.83064068],\n",
       "       [161.83451129],\n",
       "       [161.83840639],\n",
       "       [161.84226475],\n",
       "       [161.84612311],\n",
       "       [161.84996922],\n",
       "       [161.85383982],\n",
       "       [161.85767368],\n",
       "       [161.86149529],\n",
       "       [161.8653169 ],\n",
       "       [161.86913852],\n",
       "       [161.87292338],\n",
       "       [161.87673274],\n",
       "       [161.88052986],\n",
       "       [161.88431472],\n",
       "       [161.88807509],\n",
       "       [161.89182321],\n",
       "       [161.89559582],\n",
       "       [161.89931945],\n",
       "       [161.90305532],\n",
       "       [161.90680343],\n",
       "       [161.91052706],\n",
       "       [161.91422618],\n",
       "       [161.91793755],\n",
       "       [161.92163668],\n",
       "       [161.92532355],\n",
       "       [161.92899818],\n",
       "       [161.9326728 ],\n",
       "       [161.93634743],\n",
       "       [161.94000981],\n",
       "       [161.94364769],\n",
       "       [161.94728557],\n",
       "       [161.95092345],\n",
       "       [161.95453683],\n",
       "       [161.95816246],\n",
       "       [161.96177584],\n",
       "       [161.96535248],\n",
       "       [161.96894137],\n",
       "       [161.9725425 ],\n",
       "       [161.97609464],\n",
       "       [161.97968352],\n",
       "       [161.98322341],\n",
       "       [161.98677555],\n",
       "       [161.99032769],\n",
       "       [161.99385533],\n",
       "       [161.99739522],\n",
       "       [162.00089837],\n",
       "       [162.00441376],\n",
       "       [162.0079169 ],\n",
       "       [162.01139555],\n",
       "       [162.01488644],\n",
       "       [162.01835284],\n",
       "       [162.02183149],\n",
       "       [162.02529788],\n",
       "       [162.02872754],\n",
       "       [162.03218168],\n",
       "       [162.03561133],\n",
       "       [162.03902874],\n",
       "       [162.04245839],\n",
       "       [162.04587579],\n",
       "       [162.0492442 ],\n",
       "       [162.05264935],\n",
       "       [162.05604226],\n",
       "       [162.05942291],\n",
       "       [162.06276682],\n",
       "       [162.06612298],\n",
       "       [162.06949139],\n",
       "       [162.0728108 ],\n",
       "       [162.07616696],\n",
       "       [162.07947412],\n",
       "       [162.08279354],\n",
       "       [162.0861007 ],\n",
       "       [162.08938337],\n",
       "       [162.09269053],\n",
       "       [162.0959732 ],\n",
       "       [162.09924361],\n",
       "       [162.10250178],\n",
       "       [162.10575995],\n",
       "       [162.10901812],\n",
       "       [162.11223954],\n",
       "       [162.11549771],\n",
       "       [162.11870688],\n",
       "       [162.12192831],\n",
       "       [162.12513748],\n",
       "       [162.12834665],\n",
       "       [162.13151908],\n",
       "       [162.13470376],\n",
       "       [162.13787618],\n",
       "       [162.14103636],\n",
       "       [162.14420879],\n",
       "       [162.14733222],\n",
       "       [162.1504924 ],\n",
       "       [162.15361583],\n",
       "       [162.15673927],\n",
       "       [162.15985045],\n",
       "       [162.16296163],\n",
       "       [162.16606057],\n",
       "       [162.16914725],\n",
       "       [162.17223394],\n",
       "       [162.17530838],\n",
       "       [162.17835832],\n",
       "       [162.18140826],\n",
       "       [162.18448269],\n",
       "       [162.18752039],\n",
       "       [162.19054583],\n",
       "       [162.19357127],\n",
       "       [162.19657221],\n",
       "       [162.19957316],\n",
       "       [162.20258635],\n",
       "       [162.20557505],\n",
       "       [162.20856375],\n",
       "       [162.2115157 ],\n",
       "       [162.21447989],\n",
       "       [162.21744409],\n",
       "       [162.22039604],\n",
       "       [162.22333574],\n",
       "       [162.22627544],\n",
       "       [162.2291784 ],\n",
       "       [162.23210585],\n",
       "       [162.23500881],\n",
       "       [162.23792401],\n",
       "       [162.24081472],\n",
       "       [162.24366868],\n",
       "       [162.24657163],\n",
       "       [162.24942559],\n",
       "       [162.2522918 ],\n",
       "       [162.25513351],\n",
       "       [162.25796297],\n",
       "       [162.26080468],\n",
       "       [162.26363414],\n",
       "       [162.26643911],\n",
       "       [162.26926857],\n",
       "       [162.27207354],\n",
       "       [162.27486625],\n",
       "       [162.27764672],\n",
       "       [162.28042719],\n",
       "       [162.28320765],\n",
       "       [162.28595137],\n",
       "       [162.28871959],\n",
       "       [162.29145107],\n",
       "       [162.29419479],\n",
       "       [162.29692626],\n",
       "       [162.29964548],\n",
       "       [162.30236471],\n",
       "       [162.30505943],\n",
       "       [162.30775416],\n",
       "       [162.31046113],\n",
       "       [162.31311911],\n",
       "       [162.31580159],\n",
       "       [162.31848407],\n",
       "       [162.3211298 ],\n",
       "       [162.32378778],\n",
       "       [162.32643351],\n",
       "       [162.32906699],\n",
       "       [162.33167597],\n",
       "       [162.33430946],\n",
       "       [162.33690619],\n",
       "       [162.33950293],\n",
       "       [162.34209966],\n",
       "       [162.34468415],\n",
       "       [162.34726864],\n",
       "       [162.34982863],\n",
       "       [162.35238862],\n",
       "       [162.35494861],\n",
       "       [162.35749635],\n",
       "       [162.36003184],\n",
       "       [162.36256733],\n",
       "       [162.36509058],\n",
       "       [162.36761382],\n",
       "       [162.37012481],\n",
       "       [162.37262356],\n",
       "       [162.37511006],\n",
       "       [162.37759655],\n",
       "       [162.38008305],\n",
       "       [162.38254505],\n",
       "       [162.38500705],\n",
       "       [162.38746905],\n",
       "       [162.38990655],\n",
       "       [162.3923563 ],\n",
       "       [162.39479381],\n",
       "       [162.39720681],\n",
       "       [162.39960757],\n",
       "       [162.40202057],\n",
       "       [162.40443357],\n",
       "       [162.40683433],\n",
       "       [162.40919834],\n",
       "       [162.4115991 ],\n",
       "       [162.41397535],\n",
       "       [162.41632712],\n",
       "       [162.41869112],\n",
       "       [162.42104289],\n",
       "       [162.4233824 ],\n",
       "       [162.42570966],\n",
       "       [162.42803692],\n",
       "       [162.43035194],\n",
       "       [162.4326547 ],\n",
       "       [162.43495747],\n",
       "       [162.43727249],\n",
       "       [162.43955075],\n",
       "       [162.44182902],\n",
       "       [162.44411954],\n",
       "       [162.44638556],\n",
       "       [162.44863933],\n",
       "       [162.4508931 ],\n",
       "       [162.45314687],\n",
       "       [162.45538839],\n",
       "       [162.45761767],\n",
       "       [162.45983469],\n",
       "       [162.46207621],\n",
       "       [162.46426874],\n",
       "       [162.46647352],\n",
       "       [162.46867829],\n",
       "       [162.47085857],\n",
       "       [162.4730511 ],\n",
       "       [162.47520688],\n",
       "       [162.47738716],\n",
       "       [162.47954294],\n",
       "       [162.48168647],\n",
       "       [162.4838545 ],\n",
       "       [162.48598578],\n",
       "       [162.48810482],\n",
       "       [162.4902361 ],\n",
       "       [162.49236738],\n",
       "       [162.49447417],\n",
       "       [162.49658095],\n",
       "       [162.49867549],\n",
       "       [162.50077003],\n",
       "       [162.50284007],\n",
       "       [162.50492235],\n",
       "       [162.50699239],\n",
       "       [162.50905019],\n",
       "       [162.51112022],\n",
       "       [162.51317802],\n",
       "       [162.51519906],\n",
       "       [162.5172446 ],\n",
       "       [162.51926565],\n",
       "       [162.52127444],\n",
       "       [162.52328324],\n",
       "       [162.52530428],\n",
       "       [162.52730083],\n",
       "       [162.52930962],\n",
       "       [162.53129392],\n",
       "       [162.53326597],\n",
       "       [162.53523802],\n",
       "       [162.53722232],\n",
       "       [162.53916987],\n",
       "       [162.54114192],\n",
       "       [162.54306498],\n",
       "       [162.54500028],\n",
       "       [162.54694783],\n",
       "       [162.54887089],\n",
       "       [162.55079394],\n",
       "       [162.5526925 ],\n",
       "       [162.5546033 ],\n",
       "       [162.55652636],\n",
       "       [162.55841266],\n",
       "       [162.56029897],\n",
       "       [162.56217303],\n",
       "       [162.56404709],\n",
       "       [162.5659334 ],\n",
       "       [162.56779521],\n",
       "       [162.56965702],\n",
       "       [162.57149433],\n",
       "       [162.5733439 ],\n",
       "       [162.57518121],\n",
       "       [162.57700627],\n",
       "       [162.57881909],\n",
       "       [162.58063191],\n",
       "       [162.58244472],\n",
       "       [162.58425754],\n",
       "       [162.58604585],\n",
       "       [162.58785867],\n",
       "       [162.58963474],\n",
       "       [162.59142306],\n",
       "       [162.59318688],\n",
       "       [162.59496295],\n",
       "       [162.59672677],\n",
       "       [162.59847834],\n",
       "       [162.60024216],\n",
       "       [162.60195699],\n",
       "       [162.60370856],\n",
       "       [162.60543563],\n",
       "       [162.60716271],\n",
       "       [162.60886528],\n",
       "       [162.61059236],\n",
       "       [162.61229493],\n",
       "       [162.61397301],\n",
       "       [162.61568784],\n",
       "       [162.61737817],\n",
       "       [162.619044  ],\n",
       "       [162.62072208],\n",
       "       [162.62238791],\n",
       "       [162.62406599],\n",
       "       [162.62571957],\n",
       "       [162.62737315],\n",
       "       [162.62901448],\n",
       "       [162.63065582],\n",
       "       [162.63229715],\n",
       "       [162.63392623],\n",
       "       [162.63553082],\n",
       "       [162.63715991],\n",
       "       [162.63877674],\n",
       "       [162.64038133],\n",
       "       [162.64197367],\n",
       "       [162.643566  ],\n",
       "       [162.64515834],\n",
       "       [162.64673843],\n",
       "       [162.64830627],\n",
       "       [162.64988636],\n",
       "       [162.6514542 ],\n",
       "       [162.65300979],\n",
       "       [162.65457763],\n",
       "       [162.65610873],\n",
       "       [162.65765207],\n",
       "       [162.65919542],\n",
       "       [162.66072651],\n",
       "       [162.66226985],\n",
       "       [162.6637887 ],\n",
       "       [162.66528305],\n",
       "       [162.66678964],\n",
       "       [162.66829624],\n",
       "       [162.66981508],\n",
       "       [162.67128494],\n",
       "       [162.67279153],\n",
       "       [162.67423689],\n",
       "       [162.67573123],\n",
       "       [162.67720108],\n",
       "       [162.67867093],\n",
       "       [162.68012854],\n",
       "       [162.68158614],\n",
       "       [162.68303149],\n",
       "       [162.68447684],\n",
       "       [162.68593445],\n",
       "       [162.68736755],\n",
       "       [162.68877616],\n",
       "       [162.69020926],\n",
       "       [162.69163012],\n",
       "       [162.69305097],\n",
       "       [162.69445958],\n",
       "       [162.69585594],\n",
       "       [162.69725229],\n",
       "       [162.6986364 ],\n",
       "       [162.70003276],\n",
       "       [162.70141687],\n",
       "       [162.70277648],\n",
       "       [162.70414834],\n",
       "       [162.7055202 ],\n",
       "       [162.70687982],\n",
       "       [162.70822718],\n",
       "       [162.70957454],\n",
       "       [162.71093415],\n",
       "       [162.71226927],\n",
       "       [162.71359213],\n",
       "       [162.71495174],\n",
       "       [162.71626236],\n",
       "       [162.71758523],\n",
       "       [162.71889584],\n",
       "       [162.72023096],\n",
       "       [162.72152933],\n",
       "       [162.72281544],\n",
       "       [162.72411381],\n",
       "       [162.72539993],\n",
       "       [162.7266983 ],\n",
       "       [162.72799667],\n",
       "       [162.72924604],\n",
       "       [162.73053216],\n",
       "       [162.73179378],\n",
       "       [162.7330554 ],\n",
       "       [162.73430478],\n",
       "       [162.7355664 ],\n",
       "       [162.73681577],\n",
       "       [162.7380529 ],\n",
       "       [162.73930227],\n",
       "       [162.74053939],\n",
       "       [162.74175202],\n",
       "       [162.74300139],\n",
       "       [162.74420177],\n",
       "       [162.74542665],\n",
       "       [162.74665152],\n",
       "       [162.7478519 ],\n",
       "       [162.74904003],\n",
       "       [162.75025265],\n",
       "       [162.75144078],\n",
       "       [162.75262891],\n",
       "       [162.75381704],\n",
       "       [162.75500517],\n",
       "       [162.75618105],\n",
       "       [162.75733243],\n",
       "       [162.75850831],\n",
       "       [162.7596597 ],\n",
       "       [162.76083558],\n",
       "       [162.76197471],\n",
       "       [162.76311385],\n",
       "       [162.76427748],\n",
       "       [162.76539211],\n",
       "       [162.76653125],\n",
       "       [162.76768263],\n",
       "       [162.76878502],\n",
       "       [162.7699364 ],\n",
       "       [162.77105104],\n",
       "       [162.77215343],\n",
       "       [162.77328031],\n",
       "       [162.77437045],\n",
       "       [162.77547284],\n",
       "       [162.77656298],\n",
       "       [162.77766537],\n",
       "       [162.77875551],\n",
       "       [162.77982115],\n",
       "       [162.78093578],\n",
       "       [162.78198918],\n",
       "       [162.78306707],\n",
       "       [162.78414496],\n",
       "       [162.78519835],\n",
       "       [162.78627624],\n",
       "       [162.78732963],\n",
       "       [162.78838303],\n",
       "       [162.78943642],\n",
       "       [162.79047756],\n",
       "       [162.79153096],\n",
       "       [162.79253535],\n",
       "       [162.79358875],\n",
       "       [162.79461764],\n",
       "       [162.79564654],\n",
       "       [162.79665094],\n",
       "       [162.79766758],\n",
       "       [162.79869648],\n",
       "       [162.79968863],\n",
       "       [162.80070527],\n",
       "       [162.80169742],\n",
       "       [162.80268957],\n",
       "       [162.80368172],\n",
       "       [162.80466162],\n",
       "       [162.80564152],\n",
       "       [162.80662142],\n",
       "       [162.80761357],\n",
       "       [162.80856897],\n",
       "       [162.80954887],\n",
       "       [162.81051653],\n",
       "       [162.81145968]])"
      ]
     },
     "execution_count": 54,
     "metadata": {},
     "output_type": "execute_result"
    }
   ],
   "source": [
    "forecast=full_scaler.inverse_transform(forecast)\n",
    "\n",
    "forecast"
   ]
  },
  {
   "cell_type": "code",
   "execution_count": 55,
   "id": "82c89389",
   "metadata": {},
   "outputs": [
    {
     "data": {
      "text/html": [
       "<div>\n",
       "<style scoped>\n",
       "    .dataframe tbody tr th:only-of-type {\n",
       "        vertical-align: middle;\n",
       "    }\n",
       "\n",
       "    .dataframe tbody tr th {\n",
       "        vertical-align: top;\n",
       "    }\n",
       "\n",
       "    .dataframe thead th {\n",
       "        text-align: right;\n",
       "    }\n",
       "</style>\n",
       "<table border=\"1\" class=\"dataframe\">\n",
       "  <thead>\n",
       "    <tr style=\"text-align: right;\">\n",
       "      <th></th>\n",
       "      <th>Close</th>\n",
       "    </tr>\n",
       "  </thead>\n",
       "  <tbody>\n",
       "    <tr>\n",
       "      <th>0</th>\n",
       "      <td>38.230000</td>\n",
       "    </tr>\n",
       "    <tr>\n",
       "      <th>1</th>\n",
       "      <td>34.029999</td>\n",
       "    </tr>\n",
       "    <tr>\n",
       "      <th>2</th>\n",
       "      <td>31.000000</td>\n",
       "    </tr>\n",
       "    <tr>\n",
       "      <th>3</th>\n",
       "      <td>32.000000</td>\n",
       "    </tr>\n",
       "    <tr>\n",
       "      <th>4</th>\n",
       "      <td>33.029999</td>\n",
       "    </tr>\n",
       "    <tr>\n",
       "      <th>...</th>\n",
       "      <td>...</td>\n",
       "    </tr>\n",
       "    <tr>\n",
       "      <th>1975</th>\n",
       "      <td>163.339996</td>\n",
       "    </tr>\n",
       "    <tr>\n",
       "      <th>1976</th>\n",
       "      <td>156.789993</td>\n",
       "    </tr>\n",
       "    <tr>\n",
       "      <th>1977</th>\n",
       "      <td>165.949997</td>\n",
       "    </tr>\n",
       "    <tr>\n",
       "      <th>1978</th>\n",
       "      <td>166.800003</td>\n",
       "    </tr>\n",
       "    <tr>\n",
       "      <th>1979</th>\n",
       "      <td>159.600006</td>\n",
       "    </tr>\n",
       "  </tbody>\n",
       "</table>\n",
       "<p>1980 rows × 1 columns</p>\n",
       "</div>"
      ],
      "text/plain": [
       "           Close\n",
       "0      38.230000\n",
       "1      34.029999\n",
       "2      31.000000\n",
       "3      32.000000\n",
       "4      33.029999\n",
       "...          ...\n",
       "1975  163.339996\n",
       "1976  156.789993\n",
       "1977  165.949997\n",
       "1978  166.800003\n",
       "1979  159.600006\n",
       "\n",
       "[1980 rows x 1 columns]"
      ]
     },
     "execution_count": 55,
     "metadata": {},
     "output_type": "execute_result"
    }
   ],
   "source": [
    "df"
   ]
  },
  {
   "cell_type": "markdown",
   "id": "c720ae68",
   "metadata": {},
   "source": [
    "### Creating new timestamp index with pandas"
   ]
  },
  {
   "cell_type": "code",
   "execution_count": 56,
   "id": "e5c5693d",
   "metadata": {},
   "outputs": [],
   "source": [
    "forecast_index=np.arange(1980,2227,step=1)"
   ]
  },
  {
   "cell_type": "code",
   "execution_count": 57,
   "id": "765cce3f",
   "metadata": {},
   "outputs": [],
   "source": [
    "forecast_df=pd.DataFrame(data=forecast,columns=['Forecast'])"
   ]
  },
  {
   "cell_type": "code",
   "execution_count": 58,
   "id": "99fbb0a5",
   "metadata": {},
   "outputs": [
    {
     "data": {
      "text/html": [
       "<div>\n",
       "<style scoped>\n",
       "    .dataframe tbody tr th:only-of-type {\n",
       "        vertical-align: middle;\n",
       "    }\n",
       "\n",
       "    .dataframe tbody tr th {\n",
       "        vertical-align: top;\n",
       "    }\n",
       "\n",
       "    .dataframe thead th {\n",
       "        text-align: right;\n",
       "    }\n",
       "</style>\n",
       "<table border=\"1\" class=\"dataframe\">\n",
       "  <thead>\n",
       "    <tr style=\"text-align: right;\">\n",
       "      <th></th>\n",
       "      <th>Forecast</th>\n",
       "    </tr>\n",
       "  </thead>\n",
       "  <tbody>\n",
       "    <tr>\n",
       "      <th>0</th>\n",
       "      <td>162.987462</td>\n",
       "    </tr>\n",
       "    <tr>\n",
       "      <th>1</th>\n",
       "      <td>162.981166</td>\n",
       "    </tr>\n",
       "    <tr>\n",
       "      <th>2</th>\n",
       "      <td>162.682578</td>\n",
       "    </tr>\n",
       "    <tr>\n",
       "      <th>3</th>\n",
       "      <td>162.321742</td>\n",
       "    </tr>\n",
       "    <tr>\n",
       "      <th>4</th>\n",
       "      <td>162.004757</td>\n",
       "    </tr>\n",
       "    <tr>\n",
       "      <th>...</th>\n",
       "      <td>...</td>\n",
       "    </tr>\n",
       "    <tr>\n",
       "      <th>495</th>\n",
       "      <td>162.807614</td>\n",
       "    </tr>\n",
       "    <tr>\n",
       "      <th>496</th>\n",
       "      <td>162.808569</td>\n",
       "    </tr>\n",
       "    <tr>\n",
       "      <th>497</th>\n",
       "      <td>162.809549</td>\n",
       "    </tr>\n",
       "    <tr>\n",
       "      <th>498</th>\n",
       "      <td>162.810517</td>\n",
       "    </tr>\n",
       "    <tr>\n",
       "      <th>499</th>\n",
       "      <td>162.811460</td>\n",
       "    </tr>\n",
       "  </tbody>\n",
       "</table>\n",
       "<p>500 rows × 1 columns</p>\n",
       "</div>"
      ],
      "text/plain": [
       "       Forecast\n",
       "0    162.987462\n",
       "1    162.981166\n",
       "2    162.682578\n",
       "3    162.321742\n",
       "4    162.004757\n",
       "..          ...\n",
       "495  162.807614\n",
       "496  162.808569\n",
       "497  162.809549\n",
       "498  162.810517\n",
       "499  162.811460\n",
       "\n",
       "[500 rows x 1 columns]"
      ]
     },
     "execution_count": 58,
     "metadata": {},
     "output_type": "execute_result"
    }
   ],
   "source": [
    "forecast_df"
   ]
  },
  {
   "cell_type": "markdown",
   "id": "e79b9f31",
   "metadata": {},
   "source": [
    "### Plot the Forecast"
   ]
  },
  {
   "cell_type": "code",
   "execution_count": 59,
   "id": "8862e7a1",
   "metadata": {},
   "outputs": [
    {
     "data": {
      "text/plain": [
       "<AxesSubplot:>"
      ]
     },
     "execution_count": 59,
     "metadata": {},
     "output_type": "execute_result"
    },
    {
     "data": {
      "image/png": "[encoded data removed]",
      "text/plain": [
       "<Figure size 640x480 with 1 Axes>"
      ]
     },
     "metadata": {},
     "output_type": "display_data"
    },
    {
     "data": {
      "image/png": "[encoded data removed]",
      "text/plain": [
       "<Figure size 640x480 with 1 Axes>"
      ]
     },
     "metadata": {},
     "output_type": "display_data"
    }
   ],
   "source": [
    "df.plot()\n",
    "forecast_df.plot()"
   ]
  },
  {
   "cell_type": "code",
   "execution_count": 60,
   "id": "0238bd3c",
   "metadata": {},
   "outputs": [
    {
     "data": {
      "text/plain": [
       "<AxesSubplot:>"
      ]
     },
     "execution_count": 60,
     "metadata": {},
     "output_type": "execute_result"
    },
    {
     "data": {
      "image/png": "[encoded data removed]",
      "text/plain": [
       "<Figure size 1200x800 with 1 Axes>"
      ]
     },
     "metadata": {},
     "output_type": "display_data"
    }
   ],
   "source": [
    "ax=df.plot()\n",
    "forecast_df.plot(ax=ax, figsize=(12,8))"
   ]
  },
  {
   "cell_type": "code",
   "execution_count": 61,
   "id": "6b00bbc1",
   "metadata": {},
   "outputs": [],
   "source": [
    "# Thank you "
   ]
  }
 ],
 "metadata": {
  "kernelspec": {
   "display_name": "Python 3",
   "language": "python",
   "name": "python3"
  },
  "language_info": {
   "codemirror_mode": {
    "name": "ipython",
    "version": 3
   },
   "file_extension": ".py",
   "mimetype": "text/x-python",
   "name": "python",
   "nbconvert_exporter": "python",
   "pygments_lexer": "ipython3",
   "version": "3.7.12"
  }
 },
 "nbformat": 4,
 "nbformat_minor": 5
}
