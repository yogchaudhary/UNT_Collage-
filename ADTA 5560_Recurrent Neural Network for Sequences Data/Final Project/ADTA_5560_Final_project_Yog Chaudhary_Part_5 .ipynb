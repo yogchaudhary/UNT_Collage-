{
 "cells": [
  {
   "cell_type": "markdown",
   "id": "3952a4c1",
   "metadata": {},
   "source": [
    "# ADTA 5560: Recurrent Neural Networks for Sequence Data\n",
    "Thuan L Nguyen, PhD\n",
    "\n",
    "# Final Project by Yog Chaudhary "
   ]
  },
  {
   "cell_type": "code",
   "execution_count": 1,
   "id": "5c62e28e",
   "metadata": {},
   "outputs": [],
   "source": [
    "import pandas as pd\n",
    "import numpy as np\n",
    "%matplotlib inline\n",
    "import matplotlib.pyplot as plt"
   ]
  },
  {
   "cell_type": "code",
   "execution_count": 2,
   "id": "da3b91eb",
   "metadata": {},
   "outputs": [
    {
     "name": "stderr",
     "output_type": "stream",
     "text": [
      "2024-12-07 21:11:38.171039: W tensorflow/stream_executor/platform/default/dso_loader.cc:64] Could not load dynamic library 'libcudart.so.11.0'; dlerror: libcudart.so.11.0: cannot open shared object file: No such file or directory\n",
      "2024-12-07 21:11:38.171077: I tensorflow/stream_executor/cuda/cudart_stub.cc:29] Ignore above cudart dlerror if you do not have a GPU set up on your machine.\n"
     ]
    }
   ],
   "source": [
    "# For timeseries RNN LSTM neural networks\n",
    "\n",
    "from tensorflow.keras.models import Sequential\n",
    "from tensorflow.keras.layers import LSTM\n",
    "from tensorflow.keras.layers import Dropout\n",
    "from tensorflow.keras.layers import Dense"
   ]
  },
  {
   "cell_type": "code",
   "execution_count": 3,
   "id": "d6b4503a",
   "metadata": {},
   "outputs": [],
   "source": [
    "from tensorflow.keras.preprocessing.sequence import TimeseriesGenerator\n",
    "from sklearn.preprocessing import MinMaxScaler"
   ]
  },
  {
   "cell_type": "markdown",
   "id": "3a75743c",
   "metadata": {},
   "source": [
    "### Load Dataset"
   ]
  },
  {
   "cell_type": "code",
   "execution_count": 4,
   "id": "5c9729c6",
   "metadata": {},
   "outputs": [],
   "source": [
    "# Load dataset lousding FB\n",
    "\n",
    "df_ALL = pd.read_csv(\"FB.csv\")"
   ]
  },
  {
   "cell_type": "code",
   "execution_count": 5,
   "id": "e94b1a2f",
   "metadata": {},
   "outputs": [
    {
     "data": {
      "text/html": [
       "<div>\n",
       "<style scoped>\n",
       "    .dataframe tbody tr th:only-of-type {\n",
       "        vertical-align: middle;\n",
       "    }\n",
       "\n",
       "    .dataframe tbody tr th {\n",
       "        vertical-align: top;\n",
       "    }\n",
       "\n",
       "    .dataframe thead th {\n",
       "        text-align: right;\n",
       "    }\n",
       "</style>\n",
       "<table border=\"1\" class=\"dataframe\">\n",
       "  <thead>\n",
       "    <tr style=\"text-align: right;\">\n",
       "      <th></th>\n",
       "      <th>Date</th>\n",
       "      <th>Open</th>\n",
       "      <th>High</th>\n",
       "      <th>Low</th>\n",
       "      <th>Close</th>\n",
       "      <th>Adj Close</th>\n",
       "      <th>Volume</th>\n",
       "    </tr>\n",
       "  </thead>\n",
       "  <tbody>\n",
       "    <tr>\n",
       "      <th>0</th>\n",
       "      <td>2012-05-18</td>\n",
       "      <td>42.049999</td>\n",
       "      <td>45.000000</td>\n",
       "      <td>38.000000</td>\n",
       "      <td>38.230000</td>\n",
       "      <td>38.230000</td>\n",
       "      <td>573576400</td>\n",
       "    </tr>\n",
       "    <tr>\n",
       "      <th>1</th>\n",
       "      <td>2012-05-21</td>\n",
       "      <td>36.529999</td>\n",
       "      <td>36.660000</td>\n",
       "      <td>33.000000</td>\n",
       "      <td>34.029999</td>\n",
       "      <td>34.029999</td>\n",
       "      <td>168192700</td>\n",
       "    </tr>\n",
       "    <tr>\n",
       "      <th>2</th>\n",
       "      <td>2012-05-22</td>\n",
       "      <td>32.610001</td>\n",
       "      <td>33.590000</td>\n",
       "      <td>30.940001</td>\n",
       "      <td>31.000000</td>\n",
       "      <td>31.000000</td>\n",
       "      <td>101786600</td>\n",
       "    </tr>\n",
       "    <tr>\n",
       "      <th>3</th>\n",
       "      <td>2012-05-23</td>\n",
       "      <td>31.370001</td>\n",
       "      <td>32.500000</td>\n",
       "      <td>31.360001</td>\n",
       "      <td>32.000000</td>\n",
       "      <td>32.000000</td>\n",
       "      <td>73600000</td>\n",
       "    </tr>\n",
       "    <tr>\n",
       "      <th>4</th>\n",
       "      <td>2012-05-24</td>\n",
       "      <td>32.950001</td>\n",
       "      <td>33.209999</td>\n",
       "      <td>31.770000</td>\n",
       "      <td>33.029999</td>\n",
       "      <td>33.029999</td>\n",
       "      <td>50237200</td>\n",
       "    </tr>\n",
       "  </tbody>\n",
       "</table>\n",
       "</div>"
      ],
      "text/plain": [
       "         Date       Open       High        Low      Close  Adj Close  \\\n",
       "0  2012-05-18  42.049999  45.000000  38.000000  38.230000  38.230000   \n",
       "1  2012-05-21  36.529999  36.660000  33.000000  34.029999  34.029999   \n",
       "2  2012-05-22  32.610001  33.590000  30.940001  31.000000  31.000000   \n",
       "3  2012-05-23  31.370001  32.500000  31.360001  32.000000  32.000000   \n",
       "4  2012-05-24  32.950001  33.209999  31.770000  33.029999  33.029999   \n",
       "\n",
       "      Volume  \n",
       "0  573576400  \n",
       "1  168192700  \n",
       "2  101786600  \n",
       "3   73600000  \n",
       "4   50237200  "
      ]
     },
     "execution_count": 5,
     "metadata": {},
     "output_type": "execute_result"
    }
   ],
   "source": [
    "df_ALL.head()"
   ]
  },
  {
   "cell_type": "markdown",
   "id": "5020f6c7",
   "metadata": {},
   "source": [
    "### Brief Exploratory Data Analysis (EDA)"
   ]
  },
  {
   "cell_type": "code",
   "execution_count": 6,
   "id": "e8fbea85",
   "metadata": {},
   "outputs": [
    {
     "data": {
      "text/plain": [
       "(1980, 7)"
      ]
     },
     "execution_count": 6,
     "metadata": {},
     "output_type": "execute_result"
    }
   ],
   "source": [
    "df_ALL.shape"
   ]
  },
  {
   "cell_type": "code",
   "execution_count": 7,
   "id": "1106e950",
   "metadata": {},
   "outputs": [
    {
     "data": {
      "text/plain": [
       "Date          object\n",
       "Open         float64\n",
       "High         float64\n",
       "Low          float64\n",
       "Close        float64\n",
       "Adj Close    float64\n",
       "Volume         int64\n",
       "dtype: object"
      ]
     },
     "execution_count": 7,
     "metadata": {},
     "output_type": "execute_result"
    }
   ],
   "source": [
    "df_ALL.dtypes"
   ]
  },
  {
   "cell_type": "code",
   "execution_count": 8,
   "id": "a1543bf6",
   "metadata": {},
   "outputs": [
    {
     "data": {
      "text/html": [
       "<div>\n",
       "<style scoped>\n",
       "    .dataframe tbody tr th:only-of-type {\n",
       "        vertical-align: middle;\n",
       "    }\n",
       "\n",
       "    .dataframe tbody tr th {\n",
       "        vertical-align: top;\n",
       "    }\n",
       "\n",
       "    .dataframe thead th {\n",
       "        text-align: right;\n",
       "    }\n",
       "</style>\n",
       "<table border=\"1\" class=\"dataframe\">\n",
       "  <thead>\n",
       "    <tr style=\"text-align: right;\">\n",
       "      <th></th>\n",
       "      <th>Open</th>\n",
       "      <th>High</th>\n",
       "      <th>Low</th>\n",
       "      <th>Close</th>\n",
       "      <th>Adj Close</th>\n",
       "      <th>Volume</th>\n",
       "    </tr>\n",
       "  </thead>\n",
       "  <tbody>\n",
       "    <tr>\n",
       "      <th>count</th>\n",
       "      <td>1980.000000</td>\n",
       "      <td>1980.000000</td>\n",
       "      <td>1980.000000</td>\n",
       "      <td>1980.000000</td>\n",
       "      <td>1980.000000</td>\n",
       "      <td>1.980000e+03</td>\n",
       "    </tr>\n",
       "    <tr>\n",
       "      <th>mean</th>\n",
       "      <td>112.285808</td>\n",
       "      <td>113.508752</td>\n",
       "      <td>111.011495</td>\n",
       "      <td>112.312207</td>\n",
       "      <td>112.312207</td>\n",
       "      <td>3.301999e+07</td>\n",
       "    </tr>\n",
       "    <tr>\n",
       "      <th>std</th>\n",
       "      <td>58.080987</td>\n",
       "      <td>58.584028</td>\n",
       "      <td>57.575041</td>\n",
       "      <td>58.133793</td>\n",
       "      <td>58.133793</td>\n",
       "      <td>2.959716e+07</td>\n",
       "    </tr>\n",
       "    <tr>\n",
       "      <th>min</th>\n",
       "      <td>18.080000</td>\n",
       "      <td>18.270000</td>\n",
       "      <td>17.549999</td>\n",
       "      <td>17.730000</td>\n",
       "      <td>17.730000</td>\n",
       "      <td>5.913100e+06</td>\n",
       "    </tr>\n",
       "    <tr>\n",
       "      <th>25%</th>\n",
       "      <td>64.647497</td>\n",
       "      <td>65.575001</td>\n",
       "      <td>63.817501</td>\n",
       "      <td>64.762499</td>\n",
       "      <td>64.762499</td>\n",
       "      <td>1.616085e+07</td>\n",
       "    </tr>\n",
       "    <tr>\n",
       "      <th>50%</th>\n",
       "      <td>113.810001</td>\n",
       "      <td>114.654999</td>\n",
       "      <td>112.945000</td>\n",
       "      <td>113.810001</td>\n",
       "      <td>113.810001</td>\n",
       "      <td>2.405750e+07</td>\n",
       "    </tr>\n",
       "    <tr>\n",
       "      <th>75%</th>\n",
       "      <td>167.852505</td>\n",
       "      <td>169.492496</td>\n",
       "      <td>166.022499</td>\n",
       "      <td>168.085003</td>\n",
       "      <td>168.085003</td>\n",
       "      <td>3.986862e+07</td>\n",
       "    </tr>\n",
       "    <tr>\n",
       "      <th>max</th>\n",
       "      <td>222.570007</td>\n",
       "      <td>224.199997</td>\n",
       "      <td>221.279999</td>\n",
       "      <td>223.229996</td>\n",
       "      <td>223.229996</td>\n",
       "      <td>5.735764e+08</td>\n",
       "    </tr>\n",
       "  </tbody>\n",
       "</table>\n",
       "</div>"
      ],
      "text/plain": [
       "              Open         High          Low        Close    Adj Close  \\\n",
       "count  1980.000000  1980.000000  1980.000000  1980.000000  1980.000000   \n",
       "mean    112.285808   113.508752   111.011495   112.312207   112.312207   \n",
       "std      58.080987    58.584028    57.575041    58.133793    58.133793   \n",
       "min      18.080000    18.270000    17.549999    17.730000    17.730000   \n",
       "25%      64.647497    65.575001    63.817501    64.762499    64.762499   \n",
       "50%     113.810001   114.654999   112.945000   113.810001   113.810001   \n",
       "75%     167.852505   169.492496   166.022499   168.085003   168.085003   \n",
       "max     222.570007   224.199997   221.279999   223.229996   223.229996   \n",
       "\n",
       "             Volume  \n",
       "count  1.980000e+03  \n",
       "mean   3.301999e+07  \n",
       "std    2.959716e+07  \n",
       "min    5.913100e+06  \n",
       "25%    1.616085e+07  \n",
       "50%    2.405750e+07  \n",
       "75%    3.986862e+07  \n",
       "max    5.735764e+08  "
      ]
     },
     "execution_count": 8,
     "metadata": {},
     "output_type": "execute_result"
    }
   ],
   "source": [
    "# Statistics Sumary\n",
    "\n",
    "df_ALL.describe()"
   ]
  },
  {
   "cell_type": "markdown",
   "id": "9278575b",
   "metadata": {},
   "source": [
    "### Keep Only \"Close\" (for Closing Price) and Filter out all other attributes\n",
    "notes: the research focuses only on the closing price"
   ]
  },
  {
   "cell_type": "code",
   "execution_count": 9,
   "id": "20be1bc6",
   "metadata": {},
   "outputs": [],
   "source": [
    "# Out of 7 columns consider only one column\n",
    "\n",
    "df = df_ALL[[ 'Close']]"
   ]
  },
  {
   "cell_type": "code",
   "execution_count": 10,
   "id": "207ba1f0",
   "metadata": {},
   "outputs": [
    {
     "data": {
      "text/html": [
       "<div>\n",
       "<style scoped>\n",
       "    .dataframe tbody tr th:only-of-type {\n",
       "        vertical-align: middle;\n",
       "    }\n",
       "\n",
       "    .dataframe tbody tr th {\n",
       "        vertical-align: top;\n",
       "    }\n",
       "\n",
       "    .dataframe thead th {\n",
       "        text-align: right;\n",
       "    }\n",
       "</style>\n",
       "<table border=\"1\" class=\"dataframe\">\n",
       "  <thead>\n",
       "    <tr style=\"text-align: right;\">\n",
       "      <th></th>\n",
       "      <th>Close</th>\n",
       "    </tr>\n",
       "  </thead>\n",
       "  <tbody>\n",
       "    <tr>\n",
       "      <th>0</th>\n",
       "      <td>38.230000</td>\n",
       "    </tr>\n",
       "    <tr>\n",
       "      <th>1</th>\n",
       "      <td>34.029999</td>\n",
       "    </tr>\n",
       "    <tr>\n",
       "      <th>2</th>\n",
       "      <td>31.000000</td>\n",
       "    </tr>\n",
       "    <tr>\n",
       "      <th>3</th>\n",
       "      <td>32.000000</td>\n",
       "    </tr>\n",
       "    <tr>\n",
       "      <th>4</th>\n",
       "      <td>33.029999</td>\n",
       "    </tr>\n",
       "  </tbody>\n",
       "</table>\n",
       "</div>"
      ],
      "text/plain": [
       "       Close\n",
       "0  38.230000\n",
       "1  34.029999\n",
       "2  31.000000\n",
       "3  32.000000\n",
       "4  33.029999"
      ]
     },
     "execution_count": 10,
     "metadata": {},
     "output_type": "execute_result"
    }
   ],
   "source": [
    "df.head()"
   ]
  },
  {
   "cell_type": "code",
   "execution_count": 11,
   "id": "117121b3",
   "metadata": {},
   "outputs": [
    {
     "data": {
      "text/plain": [
       "<AxesSubplot:>"
      ]
     },
     "execution_count": 11,
     "metadata": {},
     "output_type": "execute_result"
    },
    {
     "data": {
      "image/png": "[encoded data removed]",
      "text/plain": [
       "<Figure size 1000x600 with 1 Axes>"
      ]
     },
     "metadata": {},
     "output_type": "display_data"
    }
   ],
   "source": [
    "df.plot(figsize=(10, 6))"
   ]
  },
  {
   "cell_type": "markdown",
   "id": "acc8df65",
   "metadata": {},
   "source": [
    "### Length of Input Time Series-Number of Input Time Steps"
   ]
  },
  {
   "cell_type": "code",
   "execution_count": 12,
   "id": "4b1a87f0",
   "metadata": {},
   "outputs": [],
   "source": [
    "length60 = 60"
   ]
  },
  {
   "cell_type": "code",
   "execution_count": 13,
   "id": "eb0fb635",
   "metadata": {},
   "outputs": [
    {
     "data": {
      "text/plain": [
       "60"
      ]
     },
     "execution_count": 13,
     "metadata": {},
     "output_type": "execute_result"
    }
   ],
   "source": [
    "length60"
   ]
  },
  {
   "cell_type": "markdown",
   "id": "04a33cd8",
   "metadata": {},
   "source": [
    "### Time Series Dataset: Train / test Split"
   ]
  },
  {
   "cell_type": "code",
   "execution_count": 14,
   "id": "48e09aa6",
   "metadata": {},
   "outputs": [
    {
     "data": {
      "text/plain": [
       "1980"
      ]
     },
     "execution_count": 14,
     "metadata": {},
     "output_type": "execute_result"
    }
   ],
   "source": [
    "len(df)"
   ]
  },
  {
   "cell_type": "code",
   "execution_count": 15,
   "id": "7bc54e29",
   "metadata": {},
   "outputs": [],
   "source": [
    "test_precent = 0.1"
   ]
  },
  {
   "cell_type": "code",
   "execution_count": 16,
   "id": "e64e4a62",
   "metadata": {},
   "outputs": [
    {
     "data": {
      "text/plain": [
       "198.0"
      ]
     },
     "execution_count": 16,
     "metadata": {},
     "output_type": "execute_result"
    }
   ],
   "source": [
    "len(df)*test_precent"
   ]
  },
  {
   "cell_type": "markdown",
   "id": "e79575ce",
   "metadata": {},
   "source": [
    "### Split Data-->Train / test"
   ]
  },
  {
   "cell_type": "code",
   "execution_count": 17,
   "id": "006fd129",
   "metadata": {},
   "outputs": [
    {
     "data": {
      "text/plain": [
       "198.0"
      ]
     },
     "execution_count": 17,
     "metadata": {},
     "output_type": "execute_result"
    }
   ],
   "source": [
    "test_length = np.round(len(df)*test_precent)\n",
    "test_length"
   ]
  },
  {
   "cell_type": "code",
   "execution_count": 18,
   "id": "bdc23d60",
   "metadata": {},
   "outputs": [
    {
     "data": {
      "text/plain": [
       "1782"
      ]
     },
     "execution_count": 18,
     "metadata": {},
     "output_type": "execute_result"
    }
   ],
   "source": [
    "split_index = int(len(df) - test_length)\n",
    "split_index"
   ]
  },
  {
   "cell_type": "code",
   "execution_count": 19,
   "id": "c8001609",
   "metadata": {},
   "outputs": [],
   "source": [
    "data_train = df.iloc[: split_index]\n",
    "data_test = df.iloc[split_index - length60 :]"
   ]
  },
  {
   "cell_type": "code",
   "execution_count": 20,
   "id": "7271c5fe",
   "metadata": {},
   "outputs": [
    {
     "data": {
      "text/html": [
       "<div>\n",
       "<style scoped>\n",
       "    .dataframe tbody tr th:only-of-type {\n",
       "        vertical-align: middle;\n",
       "    }\n",
       "\n",
       "    .dataframe tbody tr th {\n",
       "        vertical-align: top;\n",
       "    }\n",
       "\n",
       "    .dataframe thead th {\n",
       "        text-align: right;\n",
       "    }\n",
       "</style>\n",
       "<table border=\"1\" class=\"dataframe\">\n",
       "  <thead>\n",
       "    <tr style=\"text-align: right;\">\n",
       "      <th></th>\n",
       "      <th>Close</th>\n",
       "    </tr>\n",
       "  </thead>\n",
       "  <tbody>\n",
       "    <tr>\n",
       "      <th>0</th>\n",
       "      <td>38.230000</td>\n",
       "    </tr>\n",
       "    <tr>\n",
       "      <th>1</th>\n",
       "      <td>34.029999</td>\n",
       "    </tr>\n",
       "    <tr>\n",
       "      <th>2</th>\n",
       "      <td>31.000000</td>\n",
       "    </tr>\n",
       "    <tr>\n",
       "      <th>3</th>\n",
       "      <td>32.000000</td>\n",
       "    </tr>\n",
       "    <tr>\n",
       "      <th>4</th>\n",
       "      <td>33.029999</td>\n",
       "    </tr>\n",
       "  </tbody>\n",
       "</table>\n",
       "</div>"
      ],
      "text/plain": [
       "       Close\n",
       "0  38.230000\n",
       "1  34.029999\n",
       "2  31.000000\n",
       "3  32.000000\n",
       "4  33.029999"
      ]
     },
     "execution_count": 20,
     "metadata": {},
     "output_type": "execute_result"
    }
   ],
   "source": [
    "data_train.head(5)"
   ]
  },
  {
   "cell_type": "code",
   "execution_count": 21,
   "id": "fa8e0850",
   "metadata": {},
   "outputs": [
    {
     "data": {
      "text/html": [
       "<div>\n",
       "<style scoped>\n",
       "    .dataframe tbody tr th:only-of-type {\n",
       "        vertical-align: middle;\n",
       "    }\n",
       "\n",
       "    .dataframe tbody tr th {\n",
       "        vertical-align: top;\n",
       "    }\n",
       "\n",
       "    .dataframe thead th {\n",
       "        text-align: right;\n",
       "    }\n",
       "</style>\n",
       "<table border=\"1\" class=\"dataframe\">\n",
       "  <thead>\n",
       "    <tr style=\"text-align: right;\">\n",
       "      <th></th>\n",
       "      <th>Close</th>\n",
       "    </tr>\n",
       "  </thead>\n",
       "  <tbody>\n",
       "    <tr>\n",
       "      <th>1777</th>\n",
       "      <td>177.470001</td>\n",
       "    </tr>\n",
       "    <tr>\n",
       "      <th>1778</th>\n",
       "      <td>181.330002</td>\n",
       "    </tr>\n",
       "    <tr>\n",
       "      <th>1779</th>\n",
       "      <td>189.009995</td>\n",
       "    </tr>\n",
       "    <tr>\n",
       "      <th>1780</th>\n",
       "      <td>188.470001</td>\n",
       "    </tr>\n",
       "    <tr>\n",
       "      <th>1781</th>\n",
       "      <td>187.479996</td>\n",
       "    </tr>\n",
       "  </tbody>\n",
       "</table>\n",
       "</div>"
      ],
      "text/plain": [
       "           Close\n",
       "1777  177.470001\n",
       "1778  181.330002\n",
       "1779  189.009995\n",
       "1780  188.470001\n",
       "1781  187.479996"
      ]
     },
     "execution_count": 21,
     "metadata": {},
     "output_type": "execute_result"
    }
   ],
   "source": [
    "data_train.tail()"
   ]
  },
  {
   "cell_type": "code",
   "execution_count": 22,
   "id": "ccee5279",
   "metadata": {},
   "outputs": [
    {
     "data": {
      "text/html": [
       "<div>\n",
       "<style scoped>\n",
       "    .dataframe tbody tr th:only-of-type {\n",
       "        vertical-align: middle;\n",
       "    }\n",
       "\n",
       "    .dataframe tbody tr th {\n",
       "        vertical-align: top;\n",
       "    }\n",
       "\n",
       "    .dataframe thead th {\n",
       "        text-align: right;\n",
       "    }\n",
       "</style>\n",
       "<table border=\"1\" class=\"dataframe\">\n",
       "  <thead>\n",
       "    <tr style=\"text-align: right;\">\n",
       "      <th></th>\n",
       "      <th>Close</th>\n",
       "    </tr>\n",
       "  </thead>\n",
       "  <tbody>\n",
       "    <tr>\n",
       "      <th>1722</th>\n",
       "      <td>167.679993</td>\n",
       "    </tr>\n",
       "    <tr>\n",
       "      <th>1723</th>\n",
       "      <td>165.869995</td>\n",
       "    </tr>\n",
       "    <tr>\n",
       "      <th>1724</th>\n",
       "      <td>165.550003</td>\n",
       "    </tr>\n",
       "    <tr>\n",
       "      <th>1725</th>\n",
       "      <td>166.690002</td>\n",
       "    </tr>\n",
       "    <tr>\n",
       "      <th>1726</th>\n",
       "      <td>168.699997</td>\n",
       "    </tr>\n",
       "  </tbody>\n",
       "</table>\n",
       "</div>"
      ],
      "text/plain": [
       "           Close\n",
       "1722  167.679993\n",
       "1723  165.869995\n",
       "1724  165.550003\n",
       "1725  166.690002\n",
       "1726  168.699997"
      ]
     },
     "execution_count": 22,
     "metadata": {},
     "output_type": "execute_result"
    }
   ],
   "source": [
    "data_test.head(5)"
   ]
  },
  {
   "cell_type": "code",
   "execution_count": 23,
   "id": "0294fc9b",
   "metadata": {},
   "outputs": [
    {
     "data": {
      "text/html": [
       "<div>\n",
       "<style scoped>\n",
       "    .dataframe tbody tr th:only-of-type {\n",
       "        vertical-align: middle;\n",
       "    }\n",
       "\n",
       "    .dataframe tbody tr th {\n",
       "        vertical-align: top;\n",
       "    }\n",
       "\n",
       "    .dataframe thead th {\n",
       "        text-align: right;\n",
       "    }\n",
       "</style>\n",
       "<table border=\"1\" class=\"dataframe\">\n",
       "  <thead>\n",
       "    <tr style=\"text-align: right;\">\n",
       "      <th></th>\n",
       "      <th>Close</th>\n",
       "    </tr>\n",
       "  </thead>\n",
       "  <tbody>\n",
       "    <tr>\n",
       "      <th>1975</th>\n",
       "      <td>163.339996</td>\n",
       "    </tr>\n",
       "    <tr>\n",
       "      <th>1976</th>\n",
       "      <td>156.789993</td>\n",
       "    </tr>\n",
       "    <tr>\n",
       "      <th>1977</th>\n",
       "      <td>165.949997</td>\n",
       "    </tr>\n",
       "    <tr>\n",
       "      <th>1978</th>\n",
       "      <td>166.800003</td>\n",
       "    </tr>\n",
       "    <tr>\n",
       "      <th>1979</th>\n",
       "      <td>159.600006</td>\n",
       "    </tr>\n",
       "  </tbody>\n",
       "</table>\n",
       "</div>"
      ],
      "text/plain": [
       "           Close\n",
       "1975  163.339996\n",
       "1976  156.789993\n",
       "1977  165.949997\n",
       "1978  166.800003\n",
       "1979  159.600006"
      ]
     },
     "execution_count": 23,
     "metadata": {},
     "output_type": "execute_result"
    }
   ],
   "source": [
    "data_test.tail()"
   ]
  },
  {
   "cell_type": "markdown",
   "id": "952c9030",
   "metadata": {},
   "source": [
    "### Normalize Data (Scale it into the range[0, 1])"
   ]
  },
  {
   "cell_type": "code",
   "execution_count": 24,
   "id": "042a4a6c",
   "metadata": {},
   "outputs": [],
   "source": [
    "scaler = MinMaxScaler()"
   ]
  },
  {
   "cell_type": "code",
   "execution_count": 25,
   "id": "8e42a4ed",
   "metadata": {},
   "outputs": [
    {
     "data": {
      "text/plain": [
       "MinMaxScaler()"
      ]
     },
     "execution_count": 25,
     "metadata": {},
     "output_type": "execute_result"
    }
   ],
   "source": [
    "scaler.fit(data_train)"
   ]
  },
  {
   "cell_type": "code",
   "execution_count": 26,
   "id": "b1b9e523",
   "metadata": {},
   "outputs": [],
   "source": [
    "normalized_train = scaler.transform(data_train)\n",
    "normalized_test = scaler.transform(data_test)"
   ]
  },
  {
   "cell_type": "markdown",
   "id": "91461791",
   "metadata": {},
   "source": [
    "### Create TimeseriesGenerator for Training"
   ]
  },
  {
   "cell_type": "code",
   "execution_count": 27,
   "id": "bfce2bda",
   "metadata": {},
   "outputs": [],
   "source": [
    "batch_size32 = 32\n",
    "train_tsGenerator60 = TimeseriesGenerator(normalized_train, normalized_train, length=length60, batch_size=batch_size32)"
   ]
  },
  {
   "cell_type": "code",
   "execution_count": 28,
   "id": "ceb64856",
   "metadata": {},
   "outputs": [
    {
     "data": {
      "text/plain": [
       "1782"
      ]
     },
     "execution_count": 28,
     "metadata": {},
     "output_type": "execute_result"
    }
   ],
   "source": [
    "len(normalized_train)"
   ]
  },
  {
   "cell_type": "code",
   "execution_count": 29,
   "id": "ea24f521",
   "metadata": {},
   "outputs": [
    {
     "data": {
      "text/plain": [
       "54"
      ]
     },
     "execution_count": 29,
     "metadata": {},
     "output_type": "execute_result"
    }
   ],
   "source": [
    "len(train_tsGenerator60)"
   ]
  },
  {
   "cell_type": "code",
   "execution_count": 30,
   "id": "474f728f",
   "metadata": {},
   "outputs": [],
   "source": [
    "x,y = train_tsGenerator60[0]"
   ]
  },
  {
   "cell_type": "code",
   "execution_count": 31,
   "id": "45cbabc3",
   "metadata": {},
   "outputs": [],
   "source": [
    "# print(x)"
   ]
  },
  {
   "cell_type": "code",
   "execution_count": 32,
   "id": "76de39ab",
   "metadata": {},
   "outputs": [],
   "source": [
    "# print(y)"
   ]
  },
  {
   "cell_type": "markdown",
   "id": "f165ddc4",
   "metadata": {},
   "source": [
    "### Bulid, Train, and Test Model"
   ]
  },
  {
   "cell_type": "markdown",
   "id": "940fe4ef",
   "metadata": {},
   "source": [
    "#### Bulid LSTM Model"
   ]
  },
  {
   "cell_type": "code",
   "execution_count": 33,
   "id": "05dfc98d",
   "metadata": {},
   "outputs": [],
   "source": [
    "n_features = 1"
   ]
  },
  {
   "cell_type": "code",
   "execution_count": 34,
   "id": "807103bc",
   "metadata": {},
   "outputs": [
    {
     "name": "stderr",
     "output_type": "stream",
     "text": [
      "2024-12-07 21:11:40.654242: W tensorflow/stream_executor/platform/default/dso_loader.cc:64] Could not load dynamic library 'libcuda.so.1'; dlerror: libcuda.so.1: cannot open shared object file: No such file or directory\n",
      "2024-12-07 21:11:40.654284: W tensorflow/stream_executor/cuda/cuda_driver.cc:269] failed call to cuInit: UNKNOWN ERROR (303)\n",
      "2024-12-07 21:11:40.654310: I tensorflow/stream_executor/cuda/cuda_diagnostics.cc:156] kernel driver does not appear to be running on this host (tf2-keras-ann-vm): /proc/driver/nvidia/version does not exist\n",
      "2024-12-07 21:11:40.654701: I tensorflow/core/platform/cpu_feature_guard.cc:151] This TensorFlow binary is optimized with oneAPI Deep Neural Network Library (oneDNN) to use the following CPU instructions in performance-critical operations:  AVX2 FMA\n",
      "To enable them in other operations, rebuild TensorFlow with the appropriate compiler flags.\n"
     ]
    }
   ],
   "source": [
    "model = Sequential()\n",
    "model.add(LSTM(50, activation='relu', return_sequences=True, input_shape=(length60, n_features)))\n",
    "model.add(Dropout(0.2))\n",
    "model.add(LSTM(units=50, activation='relu', return_sequences=True))\n",
    "model.add(Dropout(0.2))\n",
    "model.add(LSTM(units=50, activation='relu'))\n",
    "model.add(Dense(1))"
   ]
  },
  {
   "cell_type": "markdown",
   "id": "6a92e4f3",
   "metadata": {},
   "source": [
    "### Compile Model"
   ]
  },
  {
   "cell_type": "code",
   "execution_count": 35,
   "id": "dddcf74d",
   "metadata": {},
   "outputs": [
    {
     "name": "stdout",
     "output_type": "stream",
     "text": [
      "Model: \"sequential\"\n",
      "_________________________________________________________________\n",
      " Layer (type)                Output Shape              Param #   \n",
      "=================================================================\n",
      " lstm (LSTM)                 (None, 60, 50)            10400     \n",
      "                                                                 \n",
      " dropout (Dropout)           (None, 60, 50)            0         \n",
      "                                                                 \n",
      " lstm_1 (LSTM)               (None, 60, 50)            20200     \n",
      "                                                                 \n",
      " dropout_1 (Dropout)         (None, 60, 50)            0         \n",
      "                                                                 \n",
      " lstm_2 (LSTM)               (None, 50)                20200     \n",
      "                                                                 \n",
      " dense (Dense)               (None, 1)                 51        \n",
      "                                                                 \n",
      "=================================================================\n",
      "Total params: 50,851\n",
      "Trainable params: 50,851\n",
      "Non-trainable params: 0\n",
      "_________________________________________________________________\n"
     ]
    }
   ],
   "source": [
    "model.compile(optimizer='adam', loss='mse')\n",
    "model.summary()"
   ]
  },
  {
   "cell_type": "markdown",
   "id": "37c38e5a",
   "metadata": {},
   "source": [
    "Train (Fit) Model Using fit_generator()"
   ]
  },
  {
   "cell_type": "code",
   "execution_count": 36,
   "id": "1a1eb1dc",
   "metadata": {},
   "outputs": [
    {
     "name": "stdout",
     "output_type": "stream",
     "text": [
      "Epoch 1/100\n"
     ]
    },
    {
     "name": "stderr",
     "output_type": "stream",
     "text": [
      "/opt/conda/lib/python3.7/site-packages/ipykernel_launcher.py:1: UserWarning: `Model.fit_generator` is deprecated and will be removed in a future version. Please use `Model.fit`, which supports generators.\n",
      "  \"\"\"Entry point for launching an IPython kernel.\n"
     ]
    },
    {
     "name": "stdout",
     "output_type": "stream",
     "text": [
      "54/54 [==============================] - 7s 77ms/step - loss: 0.0851\n",
      "Epoch 2/100\n",
      "54/54 [==============================] - 4s 79ms/step - loss: 0.0085\n",
      "Epoch 3/100\n",
      "54/54 [==============================] - 4s 77ms/step - loss: 0.0085\n",
      "Epoch 4/100\n",
      "54/54 [==============================] - 4s 78ms/step - loss: 0.0040\n",
      "Epoch 5/100\n",
      "54/54 [==============================] - 6s 107ms/step - loss: 0.0032\n",
      "Epoch 6/100\n",
      "54/54 [==============================] - 4s 78ms/step - loss: 0.0029\n",
      "Epoch 7/100\n",
      "54/54 [==============================] - 4s 80ms/step - loss: 0.0018\n",
      "Epoch 8/100\n",
      "54/54 [==============================] - 4s 78ms/step - loss: 0.0022\n",
      "Epoch 9/100\n",
      "54/54 [==============================] - 4s 79ms/step - loss: 0.0018\n",
      "Epoch 10/100\n",
      "54/54 [==============================] - 4s 77ms/step - loss: 0.0017\n",
      "Epoch 11/100\n",
      "54/54 [==============================] - 4s 78ms/step - loss: 0.0022\n",
      "Epoch 12/100\n",
      "54/54 [==============================] - 4s 77ms/step - loss: 0.0019\n",
      "Epoch 13/100\n",
      "54/54 [==============================] - 4s 77ms/step - loss: 0.0021\n",
      "Epoch 14/100\n",
      "54/54 [==============================] - 4s 78ms/step - loss: 0.0022\n",
      "Epoch 15/100\n",
      "54/54 [==============================] - 4s 78ms/step - loss: 0.0019\n",
      "Epoch 16/100\n",
      "54/54 [==============================] - 4s 79ms/step - loss: 0.0023\n",
      "Epoch 17/100\n",
      "54/54 [==============================] - 4s 77ms/step - loss: 0.0019\n",
      "Epoch 18/100\n",
      "54/54 [==============================] - 4s 82ms/step - loss: 0.0023\n",
      "Epoch 19/100\n",
      "54/54 [==============================] - 5s 92ms/step - loss: 0.0016\n",
      "Epoch 20/100\n",
      "54/54 [==============================] - 4s 77ms/step - loss: 0.0034\n",
      "Epoch 21/100\n",
      "54/54 [==============================] - 4s 77ms/step - loss: 0.0029\n",
      "Epoch 22/100\n",
      "54/54 [==============================] - 4s 77ms/step - loss: 0.0018\n",
      "Epoch 23/100\n",
      "54/54 [==============================] - 4s 78ms/step - loss: 0.0014\n",
      "Epoch 24/100\n",
      "54/54 [==============================] - 4s 77ms/step - loss: 0.0018\n",
      "Epoch 25/100\n",
      "54/54 [==============================] - 4s 77ms/step - loss: 0.0018\n",
      "Epoch 26/100\n",
      "54/54 [==============================] - 4s 77ms/step - loss: 0.0020\n",
      "Epoch 27/100\n",
      "54/54 [==============================] - 4s 77ms/step - loss: 0.0013\n",
      "Epoch 28/100\n",
      "54/54 [==============================] - 4s 77ms/step - loss: 0.0015\n",
      "Epoch 29/100\n",
      "54/54 [==============================] - 4s 77ms/step - loss: 0.0016\n",
      "Epoch 30/100\n",
      "54/54 [==============================] - 4s 78ms/step - loss: 0.0020\n",
      "Epoch 31/100\n",
      "54/54 [==============================] - 4s 77ms/step - loss: 0.0013\n",
      "Epoch 32/100\n",
      "54/54 [==============================] - 4s 82ms/step - loss: 0.0013\n",
      "Epoch 33/100\n",
      "54/54 [==============================] - 5s 91ms/step - loss: 0.0019\n",
      "Epoch 34/100\n",
      "54/54 [==============================] - 4s 77ms/step - loss: 0.0015\n",
      "Epoch 35/100\n",
      "54/54 [==============================] - 4s 76ms/step - loss: 0.0020\n",
      "Epoch 36/100\n",
      "54/54 [==============================] - 4s 77ms/step - loss: 0.0014\n",
      "Epoch 37/100\n",
      "54/54 [==============================] - 4s 78ms/step - loss: 0.0015\n",
      "Epoch 38/100\n",
      "54/54 [==============================] - 4s 77ms/step - loss: 0.0016\n",
      "Epoch 39/100\n",
      "54/54 [==============================] - 4s 77ms/step - loss: 0.0014\n",
      "Epoch 40/100\n",
      "54/54 [==============================] - 4s 77ms/step - loss: 0.0013\n",
      "Epoch 41/100\n",
      "54/54 [==============================] - 4s 77ms/step - loss: 0.0017\n",
      "Epoch 42/100\n",
      "54/54 [==============================] - 4s 77ms/step - loss: 0.0015\n",
      "Epoch 43/100\n",
      "54/54 [==============================] - 4s 77ms/step - loss: 0.0013\n",
      "Epoch 44/100\n",
      "54/54 [==============================] - 4s 78ms/step - loss: 0.0013\n",
      "Epoch 45/100\n",
      "54/54 [==============================] - 4s 77ms/step - loss: 0.0013\n",
      "Epoch 46/100\n",
      "54/54 [==============================] - 4s 82ms/step - loss: 0.0015\n",
      "Epoch 47/100\n",
      "54/54 [==============================] - 5s 91ms/step - loss: 0.0014\n",
      "Epoch 48/100\n",
      "54/54 [==============================] - 4s 77ms/step - loss: 0.0014\n",
      "Epoch 49/100\n",
      "54/54 [==============================] - 4s 77ms/step - loss: 0.0017\n",
      "Epoch 50/100\n",
      "54/54 [==============================] - 4s 77ms/step - loss: 0.0013\n",
      "Epoch 51/100\n",
      "54/54 [==============================] - 4s 78ms/step - loss: 0.0015\n",
      "Epoch 52/100\n",
      "54/54 [==============================] - 4s 77ms/step - loss: 0.0023\n",
      "Epoch 53/100\n",
      "54/54 [==============================] - 4s 77ms/step - loss: 0.0015\n",
      "Epoch 54/100\n",
      "54/54 [==============================] - 4s 77ms/step - loss: 0.0016\n",
      "Epoch 55/100\n",
      "54/54 [==============================] - 4s 76ms/step - loss: 0.0016\n",
      "Epoch 56/100\n",
      "54/54 [==============================] - 4s 77ms/step - loss: 0.0011\n",
      "Epoch 57/100\n",
      "54/54 [==============================] - 4s 76ms/step - loss: 0.0017\n",
      "Epoch 58/100\n",
      "54/54 [==============================] - 4s 78ms/step - loss: 0.0011\n",
      "Epoch 59/100\n",
      "54/54 [==============================] - 4s 77ms/step - loss: 0.0015\n",
      "Epoch 60/100\n",
      "54/54 [==============================] - 5s 94ms/step - loss: 0.0013\n",
      "Epoch 61/100\n",
      "54/54 [==============================] - 5s 88ms/step - loss: 0.0012\n",
      "Epoch 62/100\n",
      "54/54 [==============================] - 4s 77ms/step - loss: 0.0014\n",
      "Epoch 63/100\n",
      "54/54 [==============================] - 4s 77ms/step - loss: 0.0012\n",
      "Epoch 64/100\n",
      "54/54 [==============================] - 4s 76ms/step - loss: 9.2699e-04\n",
      "Epoch 65/100\n",
      "54/54 [==============================] - 4s 78ms/step - loss: 0.0013\n",
      "Epoch 66/100\n",
      "54/54 [==============================] - 4s 77ms/step - loss: 0.0010\n",
      "Epoch 67/100\n",
      "54/54 [==============================] - 4s 77ms/step - loss: 0.0011\n",
      "Epoch 68/100\n",
      "54/54 [==============================] - 4s 77ms/step - loss: 0.0014\n",
      "Epoch 69/100\n",
      "54/54 [==============================] - 4s 77ms/step - loss: 9.4563e-04\n",
      "Epoch 70/100\n",
      "54/54 [==============================] - 4s 76ms/step - loss: 9.9886e-04\n",
      "Epoch 71/100\n",
      "54/54 [==============================] - 4s 77ms/step - loss: 9.3463e-04\n",
      "Epoch 72/100\n",
      "54/54 [==============================] - 4s 78ms/step - loss: 9.8943e-04\n",
      "Epoch 73/100\n",
      "54/54 [==============================] - 4s 77ms/step - loss: 0.0014\n",
      "Epoch 74/100\n",
      "54/54 [==============================] - 5s 97ms/step - loss: 0.0015\n",
      "Epoch 75/100\n",
      "54/54 [==============================] - 4s 77ms/step - loss: 0.0015\n",
      "Epoch 76/100\n",
      "54/54 [==============================] - 4s 77ms/step - loss: 0.0019\n",
      "Epoch 77/100\n",
      "54/54 [==============================] - 4s 77ms/step - loss: 0.0013\n",
      "Epoch 78/100\n",
      "54/54 [==============================] - 4s 78ms/step - loss: 9.4295e-04\n",
      "Epoch 79/100\n",
      "54/54 [==============================] - 4s 77ms/step - loss: 9.9238e-04\n",
      "Epoch 80/100\n",
      "54/54 [==============================] - 4s 76ms/step - loss: 0.0012\n",
      "Epoch 81/100\n",
      "54/54 [==============================] - 4s 77ms/step - loss: 9.9853e-04\n",
      "Epoch 82/100\n",
      "54/54 [==============================] - 4s 77ms/step - loss: 0.0010\n",
      "Epoch 83/100\n",
      "54/54 [==============================] - 4s 77ms/step - loss: 8.9041e-04\n",
      "Epoch 84/100\n",
      "54/54 [==============================] - 4s 76ms/step - loss: 9.8191e-04\n",
      "Epoch 85/100\n",
      "54/54 [==============================] - 4s 79ms/step - loss: 0.0027\n",
      "Epoch 86/100\n",
      "54/54 [==============================] - 4s 77ms/step - loss: 0.0015\n",
      "Epoch 87/100\n",
      "54/54 [==============================] - 5s 99ms/step - loss: 9.2574e-04\n",
      "Epoch 88/100\n",
      "54/54 [==============================] - 4s 76ms/step - loss: 0.0014\n",
      "Epoch 89/100\n",
      "54/54 [==============================] - 4s 77ms/step - loss: 8.9742e-04\n",
      "Epoch 90/100\n",
      "54/54 [==============================] - 4s 77ms/step - loss: 9.9475e-04\n",
      "Epoch 91/100\n",
      "54/54 [==============================] - 4s 78ms/step - loss: 0.0013\n",
      "Epoch 92/100\n",
      "54/54 [==============================] - 4s 77ms/step - loss: 0.0011\n",
      "Epoch 93/100\n",
      "54/54 [==============================] - 4s 77ms/step - loss: 0.0013\n",
      "Epoch 94/100\n",
      "54/54 [==============================] - 4s 77ms/step - loss: 0.0019\n",
      "Epoch 95/100\n",
      "54/54 [==============================] - 4s 76ms/step - loss: 0.0011\n",
      "Epoch 96/100\n",
      "54/54 [==============================] - 4s 76ms/step - loss: 9.5400e-04\n",
      "Epoch 97/100\n",
      "54/54 [==============================] - 4s 76ms/step - loss: 0.0015\n",
      "Epoch 98/100\n",
      "54/54 [==============================] - 4s 78ms/step - loss: 8.6593e-04\n",
      "Epoch 99/100\n",
      "54/54 [==============================] - 4s 77ms/step - loss: 0.0013\n",
      "Epoch 100/100\n",
      "54/54 [==============================] - 5s 97ms/step - loss: 9.4617e-04\n"
     ]
    },
    {
     "data": {
      "text/plain": [
       "<keras.callbacks.History at 0x7fe7c4686c10>"
      ]
     },
     "execution_count": 36,
     "metadata": {},
     "output_type": "execute_result"
    }
   ],
   "source": [
    "model.fit_generator(train_tsGenerator60, epochs=100)"
   ]
  },
  {
   "cell_type": "markdown",
   "id": "e911ee0b",
   "metadata": {},
   "source": [
    "### Visualize Model's Performance after Training"
   ]
  },
  {
   "cell_type": "code",
   "execution_count": 37,
   "id": "17b36ae1",
   "metadata": {},
   "outputs": [
    {
     "data": {
      "text/plain": [
       "dict_keys(['loss'])"
      ]
     },
     "execution_count": 37,
     "metadata": {},
     "output_type": "execute_result"
    }
   ],
   "source": [
    "loss_history_keys = model.history.history.keys()\n",
    "loss_history_keys"
   ]
  },
  {
   "cell_type": "code",
   "execution_count": 38,
   "id": "97f6cff4",
   "metadata": {},
   "outputs": [
    {
     "data": {
      "text/plain": [
       "<AxesSubplot:>"
      ]
     },
     "execution_count": 38,
     "metadata": {},
     "output_type": "execute_result"
    },
    {
     "data": {
      "image/png": "[encoded data removed]",
      "text/plain": [
       "<Figure size 640x480 with 1 Axes>"
      ]
     },
     "metadata": {},
     "output_type": "display_data"
    }
   ],
   "source": [
    "df_model_loss = pd.DataFrame(model.history.history)\n",
    "df_model_loss.plot()"
   ]
  },
  {
   "cell_type": "markdown",
   "id": "3b40209b",
   "metadata": {},
   "source": [
    "### Prediciton for Testing: Using TimeseriesGenerator\n",
    "#### Create TimeseriesGenerator for Tesing"
   ]
  },
  {
   "cell_type": "code",
   "execution_count": 39,
   "id": "4ae6fdd4",
   "metadata": {},
   "outputs": [],
   "source": [
    "batch_size1 = 1\n",
    "test_tsGenerator60 = TimeseriesGenerator(normalized_test, normalized_test, length=length60, batch_size=batch_size1)"
   ]
  },
  {
   "cell_type": "markdown",
   "id": "2fbac926",
   "metadata": {},
   "source": [
    "### predict Future Data Points for Testing"
   ]
  },
  {
   "cell_type": "code",
   "execution_count": 40,
   "id": "e099bb33",
   "metadata": {},
   "outputs": [],
   "source": [
    "normalized_prediction = model.predict(test_tsGenerator60) "
   ]
  },
  {
   "cell_type": "code",
   "execution_count": 41,
   "id": "e495aa79",
   "metadata": {},
   "outputs": [
    {
     "data": {
      "text/plain": [
       "array([[0.78155917],\n",
       "       [0.7897676 ],\n",
       "       [0.79825497],\n",
       "       [0.80676043],\n",
       "       [0.81427777],\n",
       "       [0.82029104],\n",
       "       [0.82501644],\n",
       "       [0.82915753],\n",
       "       [0.83287716],\n",
       "       [0.8365182 ],\n",
       "       [0.8404109 ],\n",
       "       [0.84431285],\n",
       "       [0.84790486],\n",
       "       [0.8515731 ],\n",
       "       [0.85571325],\n",
       "       [0.8599799 ],\n",
       "       [0.864597  ],\n",
       "       [0.8692253 ],\n",
       "       [0.8736024 ],\n",
       "       [0.87719274],\n",
       "       [0.879715  ],\n",
       "       [0.8808232 ],\n",
       "       [0.88134193],\n",
       "       [0.8815879 ],\n",
       "       [0.88210106],\n",
       "       [0.8823118 ],\n",
       "       [0.882003  ],\n",
       "       [0.88061583],\n",
       "       [0.8784772 ],\n",
       "       [0.87545985],\n",
       "       [0.8716293 ],\n",
       "       [0.86674476],\n",
       "       [0.8600044 ],\n",
       "       [0.85230845],\n",
       "       [0.8444703 ],\n",
       "       [0.8378601 ],\n",
       "       [0.83252156],\n",
       "       [0.8280677 ],\n",
       "       [0.8248621 ],\n",
       "       [0.82146853],\n",
       "       [0.8181253 ],\n",
       "       [0.815141  ],\n",
       "       [0.813035  ],\n",
       "       [0.8114941 ],\n",
       "       [0.8103469 ],\n",
       "       [0.8092565 ],\n",
       "       [0.80746555],\n",
       "       [0.8053773 ],\n",
       "       [0.803365  ],\n",
       "       [0.8016792 ],\n",
       "       [0.80100447],\n",
       "       [0.801376  ],\n",
       "       [0.80207396],\n",
       "       [0.8035555 ],\n",
       "       [0.8062828 ],\n",
       "       [0.80950034],\n",
       "       [0.8129904 ],\n",
       "       [0.8160551 ],\n",
       "       [0.81883734],\n",
       "       [0.8211366 ],\n",
       "       [0.82287145],\n",
       "       [0.8239099 ],\n",
       "       [0.82461786],\n",
       "       [0.8251411 ],\n",
       "       [0.8258713 ],\n",
       "       [0.82681274],\n",
       "       [0.8274009 ],\n",
       "       [0.82663906],\n",
       "       [0.8248035 ],\n",
       "       [0.8217957 ],\n",
       "       [0.8174815 ],\n",
       "       [0.8124183 ],\n",
       "       [0.8067433 ],\n",
       "       [0.8006668 ],\n",
       "       [0.7953092 ],\n",
       "       [0.79121137],\n",
       "       [0.78834426],\n",
       "       [0.7862693 ],\n",
       "       [0.78510624],\n",
       "       [0.78475714],\n",
       "       [0.7857038 ],\n",
       "       [0.7876388 ],\n",
       "       [0.7910503 ],\n",
       "       [0.79575294],\n",
       "       [0.8014236 ],\n",
       "       [0.8068019 ],\n",
       "       [0.81201863],\n",
       "       [0.8156957 ],\n",
       "       [0.81826574],\n",
       "       [0.8199686 ],\n",
       "       [0.8212459 ],\n",
       "       [0.8225122 ],\n",
       "       [0.8238351 ],\n",
       "       [0.8250146 ],\n",
       "       [0.8265297 ],\n",
       "       [0.82868904],\n",
       "       [0.8315486 ],\n",
       "       [0.83480656],\n",
       "       [0.8377168 ],\n",
       "       [0.83984447],\n",
       "       [0.8411977 ],\n",
       "       [0.8416766 ],\n",
       "       [0.84221005],\n",
       "       [0.84280473],\n",
       "       [0.84345365],\n",
       "       [0.84443647],\n",
       "       [0.8460869 ],\n",
       "       [0.84857786],\n",
       "       [0.8514067 ],\n",
       "       [0.8543272 ],\n",
       "       [0.8572605 ],\n",
       "       [0.86021096],\n",
       "       [0.8629187 ],\n",
       "       [0.86575115],\n",
       "       [0.86859065],\n",
       "       [0.870985  ],\n",
       "       [0.87267053],\n",
       "       [0.8736314 ],\n",
       "       [0.87408   ],\n",
       "       [0.87443846],\n",
       "       [0.87487555],\n",
       "       [0.8753403 ],\n",
       "       [0.87602675],\n",
       "       [0.87601346],\n",
       "       [0.8748062 ],\n",
       "       [0.8731708 ],\n",
       "       [0.8715209 ],\n",
       "       [0.8707218 ],\n",
       "       [0.8713151 ],\n",
       "       [0.8731668 ],\n",
       "       [0.8759004 ],\n",
       "       [0.8789881 ],\n",
       "       [0.88244206],\n",
       "       [0.88606936],\n",
       "       [0.88907874],\n",
       "       [0.8914319 ],\n",
       "       [0.8938057 ],\n",
       "       [0.89612514],\n",
       "       [0.8988353 ],\n",
       "       [0.9018887 ],\n",
       "       [0.9053611 ],\n",
       "       [0.9094132 ],\n",
       "       [0.9137289 ],\n",
       "       [0.9184902 ],\n",
       "       [0.92302626],\n",
       "       [0.92733294],\n",
       "       [0.9313347 ],\n",
       "       [0.9349665 ],\n",
       "       [0.9380607 ],\n",
       "       [0.9405726 ],\n",
       "       [0.942335  ],\n",
       "       [0.9431949 ],\n",
       "       [0.94282067],\n",
       "       [0.9419467 ],\n",
       "       [0.9416027 ],\n",
       "       [0.93984514],\n",
       "       [0.9354591 ],\n",
       "       [0.9292978 ],\n",
       "       [0.9231254 ],\n",
       "       [0.91774046],\n",
       "       [0.91360384],\n",
       "       [0.91095656],\n",
       "       [0.9097407 ],\n",
       "       [0.90880024],\n",
       "       [0.90841365],\n",
       "       [0.9088082 ],\n",
       "       [0.90998346],\n",
       "       [0.9121758 ],\n",
       "       [0.9150575 ],\n",
       "       [0.91790193],\n",
       "       [0.91974646],\n",
       "       [0.9189611 ],\n",
       "       [0.915153  ],\n",
       "       [0.90912616],\n",
       "       [0.90066886],\n",
       "       [0.8910981 ],\n",
       "       [0.88199925],\n",
       "       [0.8724576 ],\n",
       "       [0.8636826 ],\n",
       "       [0.8551189 ],\n",
       "       [0.8463001 ],\n",
       "       [0.8359784 ],\n",
       "       [0.8254732 ],\n",
       "       [0.81453264],\n",
       "       [0.80156446],\n",
       "       [0.7887062 ],\n",
       "       [0.7741031 ],\n",
       "       [0.75833476],\n",
       "       [0.7419462 ],\n",
       "       [0.7261187 ],\n",
       "       [0.71135396],\n",
       "       [0.69786423],\n",
       "       [0.68736106],\n",
       "       [0.67973965],\n",
       "       [0.67572826],\n",
       "       [0.67423284],\n",
       "       [0.6757838 ],\n",
       "       [0.6800493 ]], dtype=float32)"
      ]
     },
     "execution_count": 41,
     "metadata": {},
     "output_type": "execute_result"
    }
   ],
   "source": [
    "normalized_prediction"
   ]
  },
  {
   "cell_type": "code",
   "execution_count": 42,
   "id": "f43ab6b1",
   "metadata": {},
   "outputs": [
    {
     "data": {
      "text/plain": [
       "198"
      ]
     },
     "execution_count": 42,
     "metadata": {},
     "output_type": "execute_result"
    }
   ],
   "source": [
    "len(normalized_prediction)"
   ]
  },
  {
   "cell_type": "code",
   "execution_count": 43,
   "id": "ee59c00b",
   "metadata": {},
   "outputs": [],
   "source": [
    "# convert normalized predictions back to the true values\n",
    "\n",
    "prediction = scaler.inverse_transform(normalized_prediction)"
   ]
  },
  {
   "cell_type": "code",
   "execution_count": 44,
   "id": "26d321cb",
   "metadata": {},
   "outputs": [],
   "source": [
    "prediction_index = np.arange(1979, 2054, step=1)\n",
    "\n",
    "df_prediction = pd.DataFrame(data=prediction, columns=['Prediction'])"
   ]
  },
  {
   "cell_type": "code",
   "execution_count": 45,
   "id": "4fff6e62",
   "metadata": {},
   "outputs": [
    {
     "data": {
      "text/html": [
       "<div>\n",
       "<style scoped>\n",
       "    .dataframe tbody tr th:only-of-type {\n",
       "        vertical-align: middle;\n",
       "    }\n",
       "\n",
       "    .dataframe tbody tr th {\n",
       "        vertical-align: top;\n",
       "    }\n",
       "\n",
       "    .dataframe thead th {\n",
       "        text-align: right;\n",
       "    }\n",
       "</style>\n",
       "<table border=\"1\" class=\"dataframe\">\n",
       "  <thead>\n",
       "    <tr style=\"text-align: right;\">\n",
       "      <th></th>\n",
       "      <th>Prediction</th>\n",
       "    </tr>\n",
       "  </thead>\n",
       "  <tbody>\n",
       "    <tr>\n",
       "      <th>0</th>\n",
       "      <td>173.862076</td>\n",
       "    </tr>\n",
       "    <tr>\n",
       "      <th>1</th>\n",
       "      <td>175.501877</td>\n",
       "    </tr>\n",
       "    <tr>\n",
       "      <th>2</th>\n",
       "      <td>177.197403</td>\n",
       "    </tr>\n",
       "    <tr>\n",
       "      <th>3</th>\n",
       "      <td>178.896530</td>\n",
       "    </tr>\n",
       "    <tr>\n",
       "      <th>4</th>\n",
       "      <td>180.398270</td>\n",
       "    </tr>\n",
       "    <tr>\n",
       "      <th>...</th>\n",
       "      <td>...</td>\n",
       "    </tr>\n",
       "    <tr>\n",
       "      <th>193</th>\n",
       "      <td>153.521591</td>\n",
       "    </tr>\n",
       "    <tr>\n",
       "      <th>194</th>\n",
       "      <td>152.720245</td>\n",
       "    </tr>\n",
       "    <tr>\n",
       "      <th>195</th>\n",
       "      <td>152.421494</td>\n",
       "    </tr>\n",
       "    <tr>\n",
       "      <th>196</th>\n",
       "      <td>152.731339</td>\n",
       "    </tr>\n",
       "    <tr>\n",
       "      <th>197</th>\n",
       "      <td>153.583450</td>\n",
       "    </tr>\n",
       "  </tbody>\n",
       "</table>\n",
       "<p>198 rows × 1 columns</p>\n",
       "</div>"
      ],
      "text/plain": [
       "     Prediction\n",
       "0    173.862076\n",
       "1    175.501877\n",
       "2    177.197403\n",
       "3    178.896530\n",
       "4    180.398270\n",
       "..          ...\n",
       "193  153.521591\n",
       "194  152.720245\n",
       "195  152.421494\n",
       "196  152.731339\n",
       "197  153.583450\n",
       "\n",
       "[198 rows x 1 columns]"
      ]
     },
     "execution_count": 45,
     "metadata": {},
     "output_type": "execute_result"
    }
   ],
   "source": [
    "df_prediction"
   ]
  },
  {
   "cell_type": "markdown",
   "id": "3843a227",
   "metadata": {},
   "source": [
    "### Visualize Prediction"
   ]
  },
  {
   "cell_type": "code",
   "execution_count": 46,
   "id": "fce31829",
   "metadata": {},
   "outputs": [
    {
     "data": {
      "text/plain": [
       "<AxesSubplot:>"
      ]
     },
     "execution_count": 46,
     "metadata": {},
     "output_type": "execute_result"
    },
    {
     "data": {
      "image/png": "[encoded data removed]",
      "text/plain": [
       "<Figure size 800x1200 with 1 Axes>"
      ]
     },
     "metadata": {},
     "output_type": "display_data"
    }
   ],
   "source": [
    "ax = data_train.plot()\n",
    "df_prediction.plot(ax=ax, figsize=(8, 12))"
   ]
  },
  {
   "cell_type": "markdown",
   "id": "48d0e903",
   "metadata": {},
   "source": [
    "### Visualize Prediction and compare actual close price"
   ]
  },
  {
   "cell_type": "code",
   "execution_count": 47,
   "id": "643d4053",
   "metadata": {},
   "outputs": [
    {
     "data": {
      "text/plain": [
       "<AxesSubplot:>"
      ]
     },
     "execution_count": 47,
     "metadata": {},
     "output_type": "execute_result"
    },
    {
     "data": {
      "image/png": "[encoded data removed]",
      "text/plain": [
       "<Figure size 800x1200 with 1 Axes>"
      ]
     },
     "metadata": {},
     "output_type": "display_data"
    }
   ],
   "source": [
    "ax = df.plot()\n",
    "df_prediction.plot(ax=ax, figsize=(8, 12))"
   ]
  },
  {
   "cell_type": "markdown",
   "id": "41f2194a",
   "metadata": {},
   "source": [
    "# Time Series Forecasting with LSTM\n",
    "\n",
    "# Overview\n",
    "\n",
    "\n",
    "### Time Series forecasting:\n",
    "\n",
    "\n",
    "###  Forecast into the \"Future\" or unknown range\n",
    "\n",
    "\n",
    "###  Should employ all the available data\n",
    "\n",
    "\n",
    "### NOt spilt the data into training/testing"
   ]
  },
  {
   "cell_type": "markdown",
   "id": "585f94f7",
   "metadata": {},
   "source": [
    "# PreProcess Full Input Dataset"
   ]
  },
  {
   "cell_type": "code",
   "execution_count": 48,
   "id": "c0fe4a39",
   "metadata": {},
   "outputs": [],
   "source": [
    "# Still use Minmax Scaler to normalize the full input dataset\n",
    "\n",
    "full_scaler = MinMaxScaler()\n",
    "normalized_full_data = full_scaler.fit_transform(df)"
   ]
  },
  {
   "cell_type": "markdown",
   "id": "299107ad",
   "metadata": {},
   "source": [
    "# Create TimeSeriesGenerator for Forecasting"
   ]
  },
  {
   "cell_type": "code",
   "execution_count": 49,
   "id": "30f57022",
   "metadata": {},
   "outputs": [
    {
     "data": {
      "text/plain": [
       "60"
      ]
     },
     "execution_count": 49,
     "metadata": {},
     "output_type": "execute_result"
    }
   ],
   "source": [
    "# Number of time steps of the input time series\n",
    "# still use length60:\n",
    "\n",
    "length60"
   ]
  },
  {
   "cell_type": "code",
   "execution_count": 50,
   "id": "d4a4c72c",
   "metadata": {},
   "outputs": [],
   "source": [
    "# create timeseries Generator for forecasting\n",
    "\n",
    "forecast_tsGenerator = TimeseriesGenerator(normalized_full_data, normalized_full_data, length=length60, batch_size=batch_size32)\n"
   ]
  },
  {
   "cell_type": "markdown",
   "id": "4a833ca3",
   "metadata": {},
   "source": [
    "# Build, Compile, and Fit LSTM model for Forecasting"
   ]
  },
  {
   "cell_type": "code",
   "execution_count": 51,
   "id": "f0b5e9ef",
   "metadata": {},
   "outputs": [
    {
     "name": "stdout",
     "output_type": "stream",
     "text": [
      "Epoch 1/40\n",
      " 1/60 [..............................] - ETA: 5s - loss: 0.0011"
     ]
    },
    {
     "name": "stderr",
     "output_type": "stream",
     "text": [
      "/opt/conda/lib/python3.7/site-packages/ipykernel_launcher.py:5: UserWarning: `Model.fit_generator` is deprecated and will be removed in a future version. Please use `Model.fit`, which supports generators.\n",
      "  \"\"\"\n"
     ]
    },
    {
     "name": "stdout",
     "output_type": "stream",
     "text": [
      "60/60 [==============================] - 5s 77ms/step - loss: 0.0010\n",
      "Epoch 2/40\n",
      "60/60 [==============================] - 5s 77ms/step - loss: 9.7201e-04\n",
      "Epoch 3/40\n",
      "60/60 [==============================] - 5s 77ms/step - loss: 0.0014\n",
      "Epoch 4/40\n",
      "60/60 [==============================] - 5s 78ms/step - loss: 0.0011\n",
      "Epoch 5/40\n",
      "60/60 [==============================] - 5s 77ms/step - loss: 0.0011\n",
      "Epoch 6/40\n",
      "60/60 [==============================] - 5s 77ms/step - loss: 9.3606e-04\n",
      "Epoch 7/40\n",
      "60/60 [==============================] - 5s 77ms/step - loss: 0.0010\n",
      "Epoch 8/40\n",
      "60/60 [==============================] - 5s 77ms/step - loss: 0.0017\n",
      "Epoch 9/40\n",
      "60/60 [==============================] - 5s 77ms/step - loss: 9.5890e-04\n",
      "Epoch 10/40\n",
      "60/60 [==============================] - 5s 77ms/step - loss: 0.0012\n",
      "Epoch 11/40\n",
      "60/60 [==============================] - 5s 78ms/step - loss: 9.3137e-04\n",
      "Epoch 12/40\n",
      "60/60 [==============================] - 6s 104ms/step - loss: 0.0014\n",
      "Epoch 13/40\n",
      "60/60 [==============================] - 5s 77ms/step - loss: 9.3591e-04\n",
      "Epoch 14/40\n",
      "60/60 [==============================] - 5s 77ms/step - loss: 8.6322e-04\n",
      "Epoch 15/40\n",
      "60/60 [==============================] - 5s 77ms/step - loss: 0.0012\n",
      "Epoch 16/40\n",
      "60/60 [==============================] - 5s 77ms/step - loss: 9.3037e-04\n",
      "Epoch 17/40\n",
      "60/60 [==============================] - 5s 78ms/step - loss: 9.7829e-04\n",
      "Epoch 18/40\n",
      "60/60 [==============================] - 5s 77ms/step - loss: 9.4531e-04\n",
      "Epoch 19/40\n",
      "60/60 [==============================] - 5s 77ms/step - loss: 7.8633e-04\n",
      "Epoch 20/40\n",
      "60/60 [==============================] - 5s 77ms/step - loss: 0.0013\n",
      "Epoch 21/40\n",
      "60/60 [==============================] - 5s 77ms/step - loss: 9.1932e-04\n",
      "Epoch 22/40\n",
      "60/60 [==============================] - 5s 78ms/step - loss: 8.3081e-04\n",
      "Epoch 23/40\n",
      "60/60 [==============================] - 5s 79ms/step - loss: 9.1917e-04\n",
      "Epoch 24/40\n",
      "60/60 [==============================] - 5s 79ms/step - loss: 0.0010\n",
      "Epoch 25/40\n",
      "60/60 [==============================] - 6s 101ms/step - loss: 0.0020\n",
      "Epoch 26/40\n",
      "60/60 [==============================] - 5s 77ms/step - loss: 0.0015\n",
      "Epoch 27/40\n",
      "60/60 [==============================] - 5s 77ms/step - loss: 0.0044\n",
      "Epoch 28/40\n",
      "60/60 [==============================] - 5s 77ms/step - loss: 0.0019\n",
      "Epoch 29/40\n",
      "60/60 [==============================] - 5s 78ms/step - loss: 0.0016\n",
      "Epoch 30/40\n",
      "60/60 [==============================] - 5s 77ms/step - loss: 0.0012\n",
      "Epoch 31/40\n",
      "60/60 [==============================] - 5s 77ms/step - loss: 0.0013\n",
      "Epoch 32/40\n",
      "60/60 [==============================] - 5s 77ms/step - loss: 0.0010\n",
      "Epoch 33/40\n",
      "60/60 [==============================] - 5s 77ms/step - loss: 0.0016\n",
      "Epoch 34/40\n",
      "60/60 [==============================] - 5s 77ms/step - loss: 0.0012\n",
      "Epoch 35/40\n",
      "60/60 [==============================] - 5s 77ms/step - loss: 0.0010\n",
      "Epoch 36/40\n",
      "60/60 [==============================] - 5s 78ms/step - loss: 9.5284e-04\n",
      "Epoch 37/40\n",
      "60/60 [==============================] - 6s 104ms/step - loss: 9.3422e-04\n",
      "Epoch 38/40\n",
      "60/60 [==============================] - 5s 78ms/step - loss: 0.0010\n",
      "Epoch 39/40\n",
      "60/60 [==============================] - 5s 78ms/step - loss: 0.0012\n",
      "Epoch 40/40\n",
      "60/60 [==============================] - 5s 77ms/step - loss: 9.7862e-04\n"
     ]
    },
    {
     "data": {
      "text/plain": [
       "<keras.callbacks.History at 0x7fe7add92d50>"
      ]
     },
     "execution_count": 51,
     "metadata": {},
     "output_type": "execute_result"
    }
   ],
   "source": [
    "# Train/Fit LSTM model\n",
    "# In forecasting, we don't validate, only FORECAST\n",
    "# So, not need EarlyStop: Not need validation_generator\n",
    "\n",
    "model.fit_generator(forecast_tsGenerator, epochs = 40)"
   ]
  },
  {
   "cell_type": "markdown",
   "id": "f4345e3e",
   "metadata": {},
   "source": [
    "# Time Series Forecasting Using LSTM Neural Network"
   ]
  },
  {
   "cell_type": "code",
   "execution_count": 52,
   "id": "e2d7d7cf",
   "metadata": {},
   "outputs": [],
   "source": [
    "forecast = []\n",
    "# Set periods with the time span of forecasting\n",
    "# Let's forecast for the next 500 business days \n",
    "\n",
    "periods = 500\n",
    "\n",
    "first_eval_batch = normalized_full_data[-length60:]\n",
    "current_batch = first_eval_batch.reshape((1, length60, n_features))\n",
    "\n",
    "for i in range(periods):\n",
    "    \n",
    "    # get prediction 1 time stamp ahead([0] is for grabbing just the number instead of [array])\n",
    "    current_pred = model.predict(current_batch)[0]\n",
    "    \n",
    "    # store prediction\n",
    "    forecast.append(current_pred)\n",
    "    \n",
    "    # update batch to now include prediction and drop first value\n",
    "    current_batch = np.append(current_batch[:,1:,:], [[current_pred]],axis=1)\n",
    "    \n"
   ]
  },
  {
   "cell_type": "markdown",
   "id": "6877c9b7",
   "metadata": {},
   "source": [
    "# Inverse to Transform Normalized Data Back into True Values"
   ]
  },
  {
   "cell_type": "code",
   "execution_count": 53,
   "id": "0a0b5c16",
   "metadata": {},
   "outputs": [
    {
     "data": {
      "text/plain": [
       "array([[150.15548332],\n",
       "       [150.44804482],\n",
       "       [149.79423081],\n",
       "       [148.51675923],\n",
       "       [146.9060358 ],\n",
       "       [145.13943471],\n",
       "       [143.31531348],\n",
       "       [141.48808107],\n",
       "       [139.68546865],\n",
       "       [137.92250544],\n",
       "       [136.2105583 ],\n",
       "       [134.55375505],\n",
       "       [132.95125053],\n",
       "       [131.40001929],\n",
       "       [129.89691341],\n",
       "       [128.43793979],\n",
       "       [127.01850515],\n",
       "       [125.63641697],\n",
       "       [124.28638377],\n",
       "       [122.96567409],\n",
       "       [121.67170344],\n",
       "       [120.40161786],\n",
       "       [119.15261851],\n",
       "       [117.92387247],\n",
       "       [116.71421612],\n",
       "       [115.52184277],\n",
       "       [114.34494571],\n",
       "       [113.18273491],\n",
       "       [112.0373049 ],\n",
       "       [110.91297337],\n",
       "       [109.81365993],\n",
       "       [108.74129986],\n",
       "       [107.69611978],\n",
       "       [106.67702955],\n",
       "       [105.68312888],\n",
       "       [104.71359099],\n",
       "       [103.76644994],\n",
       "       [102.83968469],\n",
       "       [101.93142732],\n",
       "       [101.04157369],\n",
       "       [100.16826201],\n",
       "       [ 99.31001017],\n",
       "       [ 98.46651808],\n",
       "       [ 97.63777349],\n",
       "       [ 96.82367841],\n",
       "       [ 96.02388375],\n",
       "       [ 95.23802818],\n",
       "       [ 94.46549312],\n",
       "       [ 93.70566002],\n",
       "       [ 92.95797156],\n",
       "       [ 92.22184593],\n",
       "       [ 91.49673192],\n",
       "       [ 90.78196199],\n",
       "       [ 90.07707068],\n",
       "       [ 89.38162316],\n",
       "       [ 88.69515398],\n",
       "       [ 88.01727117],\n",
       "       [ 87.3475889 ],\n",
       "       [ 86.68571521],\n",
       "       [ 86.03257489],\n",
       "       [ 85.38980926],\n",
       "       [ 84.75896779],\n",
       "       [ 84.14201029],\n",
       "       [ 83.53952469],\n",
       "       [ 82.95073932],\n",
       "       [ 82.37458854],\n",
       "       [ 81.81000059],\n",
       "       [ 81.25627728],\n",
       "       [ 80.71346148],\n",
       "       [ 80.18178593],\n",
       "       [ 79.66262248],\n",
       "       [ 79.15912519],\n",
       "       [ 78.66978745],\n",
       "       [ 78.19341503],\n",
       "       [ 77.72919949],\n",
       "       [ 77.27662027],\n",
       "       [ 76.83515679],\n",
       "       [ 76.40435585],\n",
       "       [ 75.98405822],\n",
       "       [ 75.57566026],\n",
       "       [ 75.17918645],\n",
       "       [ 74.79422036],\n",
       "       [ 74.42022914],\n",
       "       [ 74.05666162],\n",
       "       [ 73.70301558],\n",
       "       [ 73.35885621],\n",
       "       [ 73.02381604],\n",
       "       [ 72.69717238],\n",
       "       [ 72.37950706],\n",
       "       [ 72.07123042],\n",
       "       [ 71.77226282],\n",
       "       [ 71.48235931],\n",
       "       [ 71.20118915],\n",
       "       [ 70.92844614],\n",
       "       [ 70.66387305],\n",
       "       [ 70.40719428],\n",
       "       [ 70.1582016 ],\n",
       "       [ 69.91669291],\n",
       "       [ 69.67994899],\n",
       "       [ 69.44732677],\n",
       "       [ 69.21967755],\n",
       "       [ 68.99799347],\n",
       "       [ 68.78287472],\n",
       "       [ 68.57459078],\n",
       "       [ 68.37317839],\n",
       "       [ 68.17948884],\n",
       "       [ 67.99091927],\n",
       "       [ 67.80643466],\n",
       "       [ 67.62566142],\n",
       "       [ 67.44850768],\n",
       "       [ 67.27502858],\n",
       "       [ 67.10555481],\n",
       "       [ 66.94072333],\n",
       "       [ 66.78084646],\n",
       "       [ 66.6260467 ],\n",
       "       [ 66.47628119],\n",
       "       [ 66.33144579],\n",
       "       [ 66.19139353],\n",
       "       [ 66.05595906],\n",
       "       [ 65.92495863],\n",
       "       [ 65.79823914],\n",
       "       [ 65.67564136],\n",
       "       [ 65.5570183 ],\n",
       "       [ 65.44222298],\n",
       "       [ 65.3311329 ],\n",
       "       [ 65.22361946],\n",
       "       [ 65.11956017],\n",
       "       [ 65.01885091],\n",
       "       [ 64.9213692 ],\n",
       "       [ 64.82281572],\n",
       "       [ 64.72306187],\n",
       "       [ 64.62254859],\n",
       "       [ 64.5216801 ],\n",
       "       [ 64.42072586],\n",
       "       [ 64.319888  ],\n",
       "       [ 64.21927673],\n",
       "       [ 64.11897168],\n",
       "       [ 64.0190096 ],\n",
       "       [ 63.91940273],\n",
       "       [ 63.82012045],\n",
       "       [ 63.72117501],\n",
       "       [ 63.62254192],\n",
       "       [ 63.52422117],\n",
       "       [ 63.42620663],\n",
       "       [ 63.32849832],\n",
       "       [ 63.23108398],\n",
       "       [ 63.13396973],\n",
       "       [ 63.03714333],\n",
       "       [ 62.94060477],\n",
       "       [ 62.84436018],\n",
       "       [ 62.74839119],\n",
       "       [ 62.6526978 ],\n",
       "       [ 62.55729226],\n",
       "       [ 62.46257264],\n",
       "       [ 62.36742432],\n",
       "       [ 62.27202489],\n",
       "       [ 62.17696231],\n",
       "       [ 62.0826714 ],\n",
       "       [ 61.98948288],\n",
       "       [ 61.89761722],\n",
       "       [ 61.80716629],\n",
       "       [ 61.71818522],\n",
       "       [ 61.63067399],\n",
       "       [ 61.54463874],\n",
       "       [ 61.4600366 ],\n",
       "       [ 61.37685531],\n",
       "       [ 61.29504588],\n",
       "       [ 61.21458994],\n",
       "       [ 61.13545073],\n",
       "       [ 61.05760378],\n",
       "       [ 60.98103069],\n",
       "       [ 60.90570698],\n",
       "       [ 60.83160814],\n",
       "       [ 60.7587158 ],\n",
       "       [ 60.68701159],\n",
       "       [ 60.61645264],\n",
       "       [ 60.54703283],\n",
       "       [ 60.4787399 ],\n",
       "       [ 60.41153711],\n",
       "       [ 60.34541221],\n",
       "       [ 60.2803407 ],\n",
       "       [ 60.21631646],\n",
       "       [ 60.15330275],\n",
       "       [ 60.09129343],\n",
       "       [ 60.03026401],\n",
       "       [ 59.97020224],\n",
       "       [ 59.91108975],\n",
       "       [ 59.85290817],\n",
       "       [ 59.79563912],\n",
       "       [ 59.73927648],\n",
       "       [ 59.68378962],\n",
       "       [ 59.62917243],\n",
       "       [ 59.57541264],\n",
       "       [ 59.52248578],\n",
       "       [ 59.47039182],\n",
       "       [ 59.41910017],\n",
       "       [ 59.36861693],\n",
       "       [ 59.31891148],\n",
       "       [ 59.26998383],\n",
       "       [ 59.22180948],\n",
       "       [ 59.1743823 ],\n",
       "       [ 59.12769005],\n",
       "       [ 59.08172048],\n",
       "       [ 59.03645521],\n",
       "       [ 58.99188811],\n",
       "       [ 58.94801308],\n",
       "       [ 58.9048056 ],\n",
       "       [ 58.86229017],\n",
       "       [ 58.82047292],\n",
       "       [ 58.77934773],\n",
       "       [ 58.73889622],\n",
       "       [ 58.69907552],\n",
       "       [ 58.65986726],\n",
       "       [ 58.62124081],\n",
       "       [ 58.58315943],\n",
       "       [ 58.5455925 ],\n",
       "       [ 58.5085339 ],\n",
       "       [ 58.47195912],\n",
       "       [ 58.43585591],\n",
       "       [ 58.40022429],\n",
       "       [ 58.36504587],\n",
       "       [ 58.3303084 ],\n",
       "       [ 58.29602414],\n",
       "       [ 58.26218083],\n",
       "       [ 58.22877235],\n",
       "       [ 58.1957987 ],\n",
       "       [ 58.16324764],\n",
       "       [ 58.13111916],\n",
       "       [ 58.09941938],\n",
       "       [ 58.06811769],\n",
       "       [ 58.03723858],\n",
       "       [ 58.00675755],\n",
       "       [ 57.97666237],\n",
       "       [ 57.94692239],\n",
       "       [ 57.91752538],\n",
       "       [ 57.88845296],\n",
       "       [ 57.85968676],\n",
       "       [ 57.83122066],\n",
       "       [ 57.80304852],\n",
       "       [ 57.77517036],\n",
       "       [ 57.74756167],\n",
       "       [ 57.72023469],\n",
       "       [ 57.6931772 ],\n",
       "       [ 57.66638305],\n",
       "       [ 57.63985837],\n",
       "       [ 57.61359704],\n",
       "       [ 57.58757456],\n",
       "       [ 57.56181543],\n",
       "       [ 57.53629515],\n",
       "       [ 57.51102597],\n",
       "       [ 57.48599564],\n",
       "       [ 57.46119804],\n",
       "       [ 57.43663929],\n",
       "       [ 57.41230714],\n",
       "       [ 57.38820771],\n",
       "       [ 57.36432877],\n",
       "       [ 57.34068255],\n",
       "       [ 57.31725068],\n",
       "       [ 57.29403929],\n",
       "       [ 57.27104225],\n",
       "       [ 57.2482657 ],\n",
       "       [ 57.22569124],\n",
       "       [ 57.20333114],\n",
       "       [ 57.18117927],\n",
       "       [ 57.1592295 ],\n",
       "       [ 57.13748796],\n",
       "       [ 57.1159424 ],\n",
       "       [ 57.09460507],\n",
       "       [ 57.07345147],\n",
       "       [ 57.0525061 ],\n",
       "       [ 57.03175059],\n",
       "       [ 57.01118493],\n",
       "       [ 56.99080913],\n",
       "       [ 56.97061093],\n",
       "       [ 56.95061484],\n",
       "       [ 56.93079636],\n",
       "       [ 56.91115548],\n",
       "       [ 56.89169833],\n",
       "       [ 56.87241879],\n",
       "       [ 56.85331686],\n",
       "       [ 56.83438029],\n",
       "       [ 56.81562745],\n",
       "       [ 56.79682561],\n",
       "       [ 56.77785841],\n",
       "       [ 56.75870748],\n",
       "       [ 56.73935445],\n",
       "       [ 56.71982381],\n",
       "       [ 56.70011557],\n",
       "       [ 56.68024809],\n",
       "       [ 56.6602275 ],\n",
       "       [ 56.64005993],\n",
       "       [ 56.61975149],\n",
       "       [ 56.59928995],\n",
       "       [ 56.57868754],\n",
       "       [ 56.55793815],\n",
       "       [ 56.5370479 ],\n",
       "       [ 56.51600454],\n",
       "       [ 56.49480807],\n",
       "       [ 56.47346462],\n",
       "       [ 56.45196193],\n",
       "       [ 56.43031838],\n",
       "       [ 56.40850335],\n",
       "       [ 56.38654133],\n",
       "       [ 56.36442008],\n",
       "       [ 56.34212735],\n",
       "       [ 56.31968763],\n",
       "       [ 56.29708256],\n",
       "       [ 56.274306  ],\n",
       "       [ 56.25137633],\n",
       "       [ 56.22826906],\n",
       "       [ 56.20499642],\n",
       "       [ 56.18155231],\n",
       "       [ 56.15793671],\n",
       "       [ 56.13414963],\n",
       "       [ 56.11019106],\n",
       "       [ 56.08601202],\n",
       "       [ 56.06154514],\n",
       "       [ 56.03674753],\n",
       "       [ 56.01155797],\n",
       "       [ 55.98595807],\n",
       "       [ 55.95992947],\n",
       "       [ 55.93346604],\n",
       "       [ 55.90656777],\n",
       "       [ 55.87924693],\n",
       "       [ 55.85149125],\n",
       "       [ 55.82330687],\n",
       "       [ 55.79470603],\n",
       "       [ 55.76566423],\n",
       "       [ 55.73619373],\n",
       "       [ 55.70629452],\n",
       "       [ 55.67594823],\n",
       "       [ 55.64516711],\n",
       "       [ 55.61393279],\n",
       "       [ 55.58223913],\n",
       "       [ 55.55008615],\n",
       "       [ 55.5174616 ],\n",
       "       [ 55.48435321],\n",
       "       [ 55.45076713],\n",
       "       [ 55.41668497],\n",
       "       [ 55.38210674],\n",
       "       [ 55.34700793],\n",
       "       [ 55.31139468],\n",
       "       [ 55.27526085],\n",
       "       [ 55.23858808],\n",
       "       [ 55.20136412],\n",
       "       [ 55.16360121],\n",
       "       [ 55.12527486],\n",
       "       [ 55.08636669],\n",
       "       [ 55.04688283],\n",
       "       [ 55.00680797],\n",
       "       [ 54.96613292],\n",
       "       [ 54.92486074],\n",
       "       [ 54.88332215],\n",
       "       [ 54.84175294],\n",
       "       [ 54.80029091],\n",
       "       [ 54.75901261],\n",
       "       [ 54.71797316],\n",
       "       [ 54.67720012],\n",
       "       [ 54.63670267],\n",
       "       [ 54.59649001],\n",
       "       [ 54.55658663],\n",
       "       [ 54.51698335],\n",
       "       [ 54.47768322],\n",
       "       [ 54.43869543],\n",
       "       [ 54.40002306],\n",
       "       [ 54.36166914],\n",
       "       [ 54.3236337 ],\n",
       "       [ 54.28591672],\n",
       "       [ 54.24851515],\n",
       "       [ 54.21143511],\n",
       "       [ 54.17467047],\n",
       "       [ 54.13822431],\n",
       "       [ 54.10209354],\n",
       "       [ 54.066269  ],\n",
       "       [ 54.03075374],\n",
       "       [ 53.99555082],\n",
       "       [ 53.96064493],\n",
       "       [ 53.92603607],\n",
       "       [ 53.89172731],\n",
       "       [ 53.85771252],\n",
       "       [ 53.8239917 ],\n",
       "       [ 53.79054648],\n",
       "       [ 53.75739522],\n",
       "       [ 53.72451957],\n",
       "       [ 53.69193176],\n",
       "       [ 53.65960729],\n",
       "       [ 53.62755537],\n",
       "       [ 53.59577597],\n",
       "       [ 53.56425993],\n",
       "       [ 53.5330103 ],\n",
       "       [ 53.50201482],\n",
       "       [ 53.47127657],\n",
       "       [ 53.44079555],\n",
       "       [ 53.41056562],\n",
       "       [ 53.38058067],\n",
       "       [ 53.35084682],\n",
       "       [ 53.32135182],\n",
       "       [ 53.29209873],\n",
       "       [ 53.26307837],\n",
       "       [ 53.23430605],\n",
       "       [ 53.2057542 ],\n",
       "       [ 53.17743815],\n",
       "       [ 53.14935175],\n",
       "       [ 53.12148277],\n",
       "       [ 53.09384346],\n",
       "       [ 53.06642156],\n",
       "       [ 53.03922014],\n",
       "       [ 53.01223307],\n",
       "       [ 52.98546036],\n",
       "       [ 52.95889893],\n",
       "       [ 52.9325488 ],\n",
       "       [ 52.90640077],\n",
       "       [ 52.88046097],\n",
       "       [ 52.85472328],\n",
       "       [ 52.82918463],\n",
       "       [ 52.80384808],\n",
       "       [ 52.77870751],\n",
       "       [ 52.7537568 ],\n",
       "       [ 52.72900513],\n",
       "       [ 52.70444025],\n",
       "       [ 52.68006829],\n",
       "       [ 52.655877  ],\n",
       "       [ 52.63187557],\n",
       "       [ 52.6080548 ],\n",
       "       [ 52.58441164],\n",
       "       [ 52.56095528],\n",
       "       [ 52.5376704 ],\n",
       "       [ 52.51456619],\n",
       "       [ 52.49163346],\n",
       "       [ 52.46887527],\n",
       "       [ 52.44628857],\n",
       "       [ 52.42386722],\n",
       "       [ 52.40161124],\n",
       "       [ 52.37953286],\n",
       "       [ 52.35760759],\n",
       "       [ 52.33584767],\n",
       "       [ 52.314247  ],\n",
       "       [ 52.29281168],\n",
       "       [ 52.27152947],\n",
       "       [ 52.25040343],\n",
       "       [ 52.2294305 ],\n",
       "       [ 52.20861986],\n",
       "       [ 52.18795622],\n",
       "       [ 52.16743955],\n",
       "       [ 52.14707906],\n",
       "       [ 52.12686249],\n",
       "       [ 52.10678984],\n",
       "       [ 52.08686725],\n",
       "       [ 52.06708551],\n",
       "       [ 52.04744463],\n",
       "       [ 52.02795074],\n",
       "       [ 52.00859158],\n",
       "       [ 51.98937329],\n",
       "       [ 51.97028973],\n",
       "       [ 51.9513409 ],\n",
       "       [ 51.93253294],\n",
       "       [ 51.91385359],\n",
       "       [ 51.89530592],\n",
       "       [ 51.87688991],\n",
       "       [ 51.85860865],\n",
       "       [ 51.84045293],\n",
       "       [ 51.82242277],\n",
       "       [ 51.80452121],\n",
       "       [ 51.78674214],\n",
       "       [ 51.76909169],\n",
       "       [ 51.7515576 ],\n",
       "       [ 51.73415212],\n",
       "       [ 51.716863  ],\n",
       "       [ 51.69969943],\n",
       "       [ 51.68264611],\n",
       "       [ 51.66571833],\n",
       "       [ 51.64890079],\n",
       "       [ 51.63220574],\n",
       "       [ 51.61562092],\n",
       "       [ 51.59915247],\n",
       "       [ 51.58279426],\n",
       "       [ 51.56654629],\n",
       "       [ 51.55040856],\n",
       "       [ 51.53438718],\n",
       "       [ 51.51846993],\n",
       "       [ 51.50266291],\n",
       "       [ 51.48696613],\n",
       "       [ 51.47136734],\n",
       "       [ 51.45587573],\n",
       "       [ 51.44048823],\n",
       "       [ 51.42520791],\n",
       "       [ 51.41003171],\n",
       "       [ 51.39494737],\n",
       "       [ 51.37997326],\n",
       "       [ 51.36509409],\n",
       "       [ 51.35031597],\n",
       "       [ 51.3356389 ],\n",
       "       [ 51.32105676],\n",
       "       [ 51.30656648],\n",
       "       [ 51.29218032],\n",
       "       [ 51.27788602],\n",
       "       [ 51.26368359],\n",
       "       [ 51.24957609],\n",
       "       [ 51.23556351],\n",
       "       [ 51.22163974]])"
      ]
     },
     "execution_count": 53,
     "metadata": {},
     "output_type": "execute_result"
    }
   ],
   "source": [
    "forecast = full_scaler.inverse_transform(forecast)\n",
    "\n",
    "forecast"
   ]
  },
  {
   "cell_type": "code",
   "execution_count": 54,
   "id": "73910bec",
   "metadata": {},
   "outputs": [
    {
     "data": {
      "text/html": [
       "<div>\n",
       "<style scoped>\n",
       "    .dataframe tbody tr th:only-of-type {\n",
       "        vertical-align: middle;\n",
       "    }\n",
       "\n",
       "    .dataframe tbody tr th {\n",
       "        vertical-align: top;\n",
       "    }\n",
       "\n",
       "    .dataframe thead th {\n",
       "        text-align: right;\n",
       "    }\n",
       "</style>\n",
       "<table border=\"1\" class=\"dataframe\">\n",
       "  <thead>\n",
       "    <tr style=\"text-align: right;\">\n",
       "      <th></th>\n",
       "      <th>Close</th>\n",
       "    </tr>\n",
       "  </thead>\n",
       "  <tbody>\n",
       "    <tr>\n",
       "      <th>0</th>\n",
       "      <td>38.230000</td>\n",
       "    </tr>\n",
       "    <tr>\n",
       "      <th>1</th>\n",
       "      <td>34.029999</td>\n",
       "    </tr>\n",
       "    <tr>\n",
       "      <th>2</th>\n",
       "      <td>31.000000</td>\n",
       "    </tr>\n",
       "    <tr>\n",
       "      <th>3</th>\n",
       "      <td>32.000000</td>\n",
       "    </tr>\n",
       "    <tr>\n",
       "      <th>4</th>\n",
       "      <td>33.029999</td>\n",
       "    </tr>\n",
       "    <tr>\n",
       "      <th>...</th>\n",
       "      <td>...</td>\n",
       "    </tr>\n",
       "    <tr>\n",
       "      <th>1975</th>\n",
       "      <td>163.339996</td>\n",
       "    </tr>\n",
       "    <tr>\n",
       "      <th>1976</th>\n",
       "      <td>156.789993</td>\n",
       "    </tr>\n",
       "    <tr>\n",
       "      <th>1977</th>\n",
       "      <td>165.949997</td>\n",
       "    </tr>\n",
       "    <tr>\n",
       "      <th>1978</th>\n",
       "      <td>166.800003</td>\n",
       "    </tr>\n",
       "    <tr>\n",
       "      <th>1979</th>\n",
       "      <td>159.600006</td>\n",
       "    </tr>\n",
       "  </tbody>\n",
       "</table>\n",
       "<p>1980 rows × 1 columns</p>\n",
       "</div>"
      ],
      "text/plain": [
       "           Close\n",
       "0      38.230000\n",
       "1      34.029999\n",
       "2      31.000000\n",
       "3      32.000000\n",
       "4      33.029999\n",
       "...          ...\n",
       "1975  163.339996\n",
       "1976  156.789993\n",
       "1977  165.949997\n",
       "1978  166.800003\n",
       "1979  159.600006\n",
       "\n",
       "[1980 rows x 1 columns]"
      ]
     },
     "execution_count": 54,
     "metadata": {},
     "output_type": "execute_result"
    }
   ],
   "source": [
    "df"
   ]
  },
  {
   "cell_type": "markdown",
   "id": "e7d5bc8e",
   "metadata": {},
   "source": [
    "# Creating new time stamp index with pandas: 01/01/2017-12/24/2017 "
   ]
  },
  {
   "cell_type": "code",
   "execution_count": 55,
   "id": "2cc14395",
   "metadata": {},
   "outputs": [],
   "source": [
    "#calculate forecast index\n",
    "\n",
    "forecast_index = np.arange(1980,2480,step=1)"
   ]
  },
  {
   "cell_type": "code",
   "execution_count": 56,
   "id": "42387e17",
   "metadata": {},
   "outputs": [],
   "source": [
    "forecast_df=pd.DataFrame(data=forecast,index=forecast_index,columns=['Forecast'])"
   ]
  },
  {
   "cell_type": "code",
   "execution_count": 57,
   "id": "e2f88f7f",
   "metadata": {},
   "outputs": [
    {
     "data": {
      "text/html": [
       "<div>\n",
       "<style scoped>\n",
       "    .dataframe tbody tr th:only-of-type {\n",
       "        vertical-align: middle;\n",
       "    }\n",
       "\n",
       "    .dataframe tbody tr th {\n",
       "        vertical-align: top;\n",
       "    }\n",
       "\n",
       "    .dataframe thead th {\n",
       "        text-align: right;\n",
       "    }\n",
       "</style>\n",
       "<table border=\"1\" class=\"dataframe\">\n",
       "  <thead>\n",
       "    <tr style=\"text-align: right;\">\n",
       "      <th></th>\n",
       "      <th>Forecast</th>\n",
       "    </tr>\n",
       "  </thead>\n",
       "  <tbody>\n",
       "    <tr>\n",
       "      <th>1980</th>\n",
       "      <td>150.155483</td>\n",
       "    </tr>\n",
       "    <tr>\n",
       "      <th>1981</th>\n",
       "      <td>150.448045</td>\n",
       "    </tr>\n",
       "    <tr>\n",
       "      <th>1982</th>\n",
       "      <td>149.794231</td>\n",
       "    </tr>\n",
       "    <tr>\n",
       "      <th>1983</th>\n",
       "      <td>148.516759</td>\n",
       "    </tr>\n",
       "    <tr>\n",
       "      <th>1984</th>\n",
       "      <td>146.906036</td>\n",
       "    </tr>\n",
       "    <tr>\n",
       "      <th>...</th>\n",
       "      <td>...</td>\n",
       "    </tr>\n",
       "    <tr>\n",
       "      <th>2475</th>\n",
       "      <td>51.277886</td>\n",
       "    </tr>\n",
       "    <tr>\n",
       "      <th>2476</th>\n",
       "      <td>51.263684</td>\n",
       "    </tr>\n",
       "    <tr>\n",
       "      <th>2477</th>\n",
       "      <td>51.249576</td>\n",
       "    </tr>\n",
       "    <tr>\n",
       "      <th>2478</th>\n",
       "      <td>51.235564</td>\n",
       "    </tr>\n",
       "    <tr>\n",
       "      <th>2479</th>\n",
       "      <td>51.221640</td>\n",
       "    </tr>\n",
       "  </tbody>\n",
       "</table>\n",
       "<p>500 rows × 1 columns</p>\n",
       "</div>"
      ],
      "text/plain": [
       "        Forecast\n",
       "1980  150.155483\n",
       "1981  150.448045\n",
       "1982  149.794231\n",
       "1983  148.516759\n",
       "1984  146.906036\n",
       "...          ...\n",
       "2475   51.277886\n",
       "2476   51.263684\n",
       "2477   51.249576\n",
       "2478   51.235564\n",
       "2479   51.221640\n",
       "\n",
       "[500 rows x 1 columns]"
      ]
     },
     "execution_count": 57,
     "metadata": {},
     "output_type": "execute_result"
    }
   ],
   "source": [
    "forecast_df"
   ]
  },
  {
   "cell_type": "code",
   "execution_count": 58,
   "id": "6e84b584",
   "metadata": {},
   "outputs": [
    {
     "data": {
      "text/plain": [
       "<AxesSubplot:>"
      ]
     },
     "execution_count": 58,
     "metadata": {},
     "output_type": "execute_result"
    },
    {
     "data": {
      "image/png": "[encoded data removed]",
      "text/plain": [
       "<Figure size 640x480 with 1 Axes>"
      ]
     },
     "metadata": {},
     "output_type": "display_data"
    },
    {
     "data": {
      "image/png": "[encoded data removed]",
      "text/plain": [
       "<Figure size 640x480 with 1 Axes>"
      ]
     },
     "metadata": {},
     "output_type": "display_data"
    }
   ],
   "source": [
    "df.plot()\n",
    "forecast_df.plot()"
   ]
  },
  {
   "cell_type": "code",
   "execution_count": 59,
   "id": "c357f295",
   "metadata": {},
   "outputs": [
    {
     "data": {
      "text/plain": [
       "<AxesSubplot:>"
      ]
     },
     "execution_count": 59,
     "metadata": {},
     "output_type": "execute_result"
    },
    {
     "data": {
      "image/png": "[encoded data removed]",
      "text/plain": [
       "<Figure size 1200x800 with 1 Axes>"
      ]
     },
     "metadata": {},
     "output_type": "display_data"
    }
   ],
   "source": [
    "ax=df.plot()\n",
    "forecast_df.plot(ax=ax, figsize=(12,8))"
   ]
  },
  {
   "cell_type": "code",
   "execution_count": 60,
   "id": "43add13a",
   "metadata": {},
   "outputs": [],
   "source": [
    "# Thank You "
   ]
  }
 ],
 "metadata": {
  "kernelspec": {
   "display_name": "Python 3",
   "language": "python",
   "name": "python3"
  },
  "language_info": {
   "codemirror_mode": {
    "name": "ipython",
    "version": 3
   },
   "file_extension": ".py",
   "mimetype": "text/x-python",
   "name": "python",
   "nbconvert_exporter": "python",
   "pygments_lexer": "ipython3",
   "version": "3.7.12"
  }
 },
 "nbformat": 4,
 "nbformat_minor": 5
}
